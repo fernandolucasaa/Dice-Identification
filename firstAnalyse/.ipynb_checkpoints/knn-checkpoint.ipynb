{
 "cells": [
  {
   "cell_type": "markdown",
   "metadata": {},
   "source": [
    "# **Dice number classification algorithm**"
   ]
  },
  {
   "cell_type": "markdown",
   "metadata": {},
   "source": [
    "## **Image Traitement**\n",
    "\n",
    "Before using the ML algorithm it must verify that the images that will be used in the classification is in the same format and size as the ones in the database (MNIST)"
   ]
  },
  {
   "cell_type": "code",
   "execution_count": 1,
   "metadata": {},
   "outputs": [
    {
     "name": "stderr",
     "output_type": "stream",
     "text": [
      "Using TensorFlow backend.\n"
     ]
    }
   ],
   "source": [
    "import os\n",
    "import csv\n",
    "import cv2 as cv\n",
    "import numpy as np\n",
    "from scipy import ndimage\n",
    "import matplotlib.pyplot as plt\n",
    "import pandas as pd\n",
    "\n",
    "from sklearn.neighbors import KNeighborsClassifier\n",
    "from sklearn.metrics import accuracy_score\n",
    "import itertools\n",
    "from sklearn.metrics import confusion_matrix\n",
    "from sklearn.grid_search import RandomizedSearchCV\n",
    "from sklearn.grid_search import GridSearchCV\n",
    "\n",
    "import generateDataset as db"
   ]
  },
  {
   "cell_type": "markdown",
   "metadata": {},
   "source": [
    "# Read database\n",
    "\n",
    "Functions used to read the database (train and test) from MNIST and also from the csv file generated with the images captured from the pico camera"
   ]
  },
  {
   "cell_type": "code",
   "execution_count": 2,
   "metadata": {},
   "outputs": [],
   "source": [
    "def separate_array(data):    \n",
    "    image = []\n",
    "    labels = []\n",
    "    for line in data:\n",
    "        image.append(np.array(line[:-1]))\n",
    "        labels.append(line[-1])\n",
    "    \n",
    "    return image, labels"
   ]
  },
  {
   "cell_type": "code",
   "execution_count": 3,
   "metadata": {},
   "outputs": [],
   "source": [
    "X_train, Y_train = separate_array(np.load('./train_classes.npy'))"
   ]
  },
  {
   "cell_type": "code",
   "execution_count": 4,
   "metadata": {},
   "outputs": [],
   "source": [
    "X_validation, Y_validation = separate_array(np.load('./validation_classes.npy'))"
   ]
  },
  {
   "cell_type": "code",
   "execution_count": 5,
   "metadata": {},
   "outputs": [],
   "source": [
    "X_test, Y_test = separate_array(np.load('./test_classes.npy'))"
   ]
  },
  {
   "cell_type": "markdown",
   "metadata": {},
   "source": [
    "# **Evaluation methods**\n",
    "\n",
    "This part contains the functions used to analyse the accuracy of the classifier"
   ]
  },
  {
   "cell_type": "code",
   "execution_count": 6,
   "metadata": {},
   "outputs": [],
   "source": [
    "def plot_confusion_matrix(clf, data_x, data_y):\n",
    "    classes = range(1,7)\n",
    "\n",
    "    Ypred = clf.predict(data_x)\n",
    "    \n",
    "    # Computation of confusion matrix on testing set\n",
    "    cm = confusion_matrix(data_y, Ypred)\n",
    "    \n",
    "    plt.imshow(cm, interpolation='nearest', cmap=plt.cm.Blues)\n",
    "    plt.title('Confusion matrix')\n",
    "    plt.colorbar()\n",
    "    tick_marks = np.arange(len(classes))\n",
    "    plt.xticks(tick_marks, classes, rotation=45)\n",
    "    plt.yticks(tick_marks, classes)\n",
    "\n",
    "    fmt = 'd'\n",
    "    thresh = cm.max() / 2.\n",
    "    for i, j in itertools.product(range(cm.shape[0]), range(cm.shape[1])):\n",
    "        plt.text(j, i, format(cm[i, j], fmt),\n",
    "                 horizontalalignment=\"center\",\n",
    "                 color=\"white\" if cm[i, j] > thresh else \"black\")\n",
    "\n",
    "    plt.ylabel('True label')\n",
    "    plt.xlabel('Predicted label')\n",
    "    plt.tight_layout()"
   ]
  },
  {
   "cell_type": "markdown",
   "metadata": {},
   "source": [
    "# **KK Neighborhod algorithm**"
   ]
  },
  {
   "cell_type": "code",
   "execution_count": 7,
   "metadata": {},
   "outputs": [],
   "source": [
    "def create_number_list(data):\n",
    "    images = []\n",
    "    for x in data:\n",
    "        images.append(x.reshape(-1))\n",
    "\n",
    "    return images"
   ]
  },
  {
   "cell_type": "code",
   "execution_count": 8,
   "metadata": {},
   "outputs": [
    {
     "name": "stdout",
     "output_type": "stream",
     "text": [
      "Finished trainning KNN Model with 5 neighbors\n"
     ]
    }
   ],
   "source": [
    "def train_knnModel(i):\n",
    "    # Train on the first N train images\n",
    "    train_x = create_number_list(X_train)\n",
    "    train_y = np.array(Y_train)\n",
    "    \n",
    "    #Train the classifier\n",
    "    clf = KNeighborsClassifier(n_neighbors=i)\n",
    "    print(\"Finished trainning KNN Model with \" + str(i) + \" neighbors\")\n",
    "    return clf.fit(train_x, train_y)\n",
    "\n",
    "knn_classificator = train_knnModel(5)"
   ]
  },
  {
   "cell_type": "code",
   "execution_count": 9,
   "metadata": {},
   "outputs": [
    {
     "name": "stdout",
     "output_type": "stream",
     "text": [
      "The accuracy for MNIST test database is: 82.034%\n",
      "Using: 24246 images\n"
     ]
    },
    {
     "data": {
      "image/png": "[encoded data removed]",
      "text/plain": [
       "<Figure size 432x288 with 2 Axes>"
      ]
     },
     "metadata": {
      "needs_background": "light"
     },
     "output_type": "display_data"
    }
   ],
   "source": [
    "def visualize_train_knnModel():\n",
    "    # Visualize on the N test images:\n",
    "    train_x = create_number_list(X_train)\n",
    "    train_y = np.array(Y_train) \n",
    "    predicted = knn_classificator.predict(train_x)\n",
    "    print(\"The accuracy for MNIST test database is: \" + str(round((accuracy_score(train_y, predicted) * 100), 3)) + \"%\")\n",
    "    print(\"Using: \" + str(len(train_x)) + \" images\")\n",
    "    \n",
    "    plot_confusion_matrix(knn_classificator, train_x, train_y)\n",
    "    plt.show()\n",
    "\n",
    "visualize_train_knnModel()"
   ]
  },
  {
   "cell_type": "code",
   "execution_count": 10,
   "metadata": {},
   "outputs": [
    {
     "name": "stdout",
     "output_type": "stream",
     "text": [
      "The accuracy for MNIST test database is: 72.217%\n",
      "Using: 6054 images\n"
     ]
    },
    {
     "data": {
      "image/png": "[encoded data removed]",
      "text/plain": [
       "<Figure size 432x288 with 2 Axes>"
      ]
     },
     "metadata": {
      "needs_background": "light"
     },
     "output_type": "display_data"
    }
   ],
   "source": [
    "def validation_knnModel():\n",
    "    # Validate on the validation set:\n",
    "    validation_x = create_number_list(X_validation)\n",
    "    validation_y = np.array(Y_validation) \n",
    "    predicted = knn_classificator.predict(validation_x)\n",
    "    print(\"The accuracy for MNIST test database is: \" + str(round((accuracy_score(validation_y, predicted) * 100), 3)) + \"%\")\n",
    "    print(\"Using: \" + str(len(validation_x)) + \" images\")\n",
    "    \n",
    "    plot_confusion_matrix(knn_classificator, validation_x, validation_y)\n",
    "    plt.show()\n",
    "\n",
    "validation_knnModel()"
   ]
  },
  {
   "cell_type": "markdown",
   "metadata": {},
   "source": [
    "# PHOTOS :D"
   ]
  },
  {
   "cell_type": "code",
   "execution_count": 12,
   "metadata": {},
   "outputs": [],
   "source": [
    "X_photos, Y_photos = separate_array(np.load('./test_photos_classes.npy'))"
   ]
  },
  {
   "cell_type": "code",
   "execution_count": 13,
   "metadata": {},
   "outputs": [
    {
     "name": "stdout",
     "output_type": "stream",
     "text": [
      "The accuracy for the PHOTOS taken is: 28.889%\n",
      "Using: 180 photos taken\n"
     ]
    },
    {
     "data": {
      "image/png": "[encoded data removed]",
      "text/plain": [
       "<Figure size 432x288 with 2 Axes>"
      ]
     },
     "metadata": {
      "needs_background": "light"
     },
     "output_type": "display_data"
    }
   ],
   "source": [
    "#Testing this new classificator accuracy with the photos taken\n",
    "def test_photos():\n",
    "    # Validate on the validation set:\n",
    "    photos_x = create_number_list(X_photos)\n",
    "    photos_y = np.array(Y_photos) \n",
    "    predicted = knn_classificator.predict(photos_x)\n",
    "    print(\"The accuracy for the PHOTOS taken is: \" + str(round((accuracy_score(photos_y, predicted) * 100), 3)) + \"%\")\n",
    "    print(\"Using: \" + str(len(photos_x)) + \" photos taken\")\n",
    "    \n",
    "    plot_confusion_matrix(knn_classificator, photos_x, photos_y)\n",
    "    plt.show()\n",
    "\n",
    "test_photos()"
   ]
  },
  {
   "cell_type": "code",
   "execution_count": null,
   "metadata": {},
   "outputs": [],
   "source": []
  },
  {
   "cell_type": "code",
   "execution_count": null,
   "metadata": {},
   "outputs": [],
   "source": []
  },
  {
   "cell_type": "code",
   "execution_count": null,
   "metadata": {},
   "outputs": [],
   "source": []
  },
  {
   "cell_type": "code",
   "execution_count": null,
   "metadata": {},
   "outputs": [],
   "source": []
  },
  {
   "cell_type": "code",
   "execution_count": null,
   "metadata": {},
   "outputs": [],
   "source": []
  },
  {
   "cell_type": "code",
   "execution_count": null,
   "metadata": {},
   "outputs": [],
   "source": []
  },
  {
   "cell_type": "code",
   "execution_count": null,
   "metadata": {},
   "outputs": [],
   "source": []
  },
  {
   "cell_type": "code",
   "execution_count": null,
   "metadata": {},
   "outputs": [],
   "source": []
  },
  {
   "cell_type": "code",
   "execution_count": null,
   "metadata": {},
   "outputs": [],
   "source": []
  },
  {
   "cell_type": "code",
   "execution_count": null,
   "metadata": {},
   "outputs": [],
   "source": []
  },
  {
   "cell_type": "code",
   "execution_count": null,
   "metadata": {},
   "outputs": [],
   "source": []
  },
  {
   "cell_type": "markdown",
   "metadata": {},
   "source": [
    "# PHOTOS FIRST TRY"
   ]
  },
  {
   "cell_type": "code",
   "execution_count": 31,
   "metadata": {},
   "outputs": [
    {
     "name": "stdout",
     "output_type": "stream",
     "text": [
      "Creating dataset...\n",
      "\n",
      "Finished creating dataset\n",
      "\n",
      "CPU times: user 1.72 s, sys: 11.1 ms, total: 1.73 s\n",
      "Wall time: 1.73 s\n"
     ]
    }
   ],
   "source": [
    "%%time \n",
    "\n",
    "X_photos_notNorm, Y_photos = db.create_data_file('./test_photos.npy')\n",
    "X_photos = db.normalize(X_photos_notNorm)"
   ]
  },
  {
   "cell_type": "code",
   "execution_count": 28,
   "metadata": {},
   "outputs": [
    {
     "data": {
      "text/plain": [
       "Counter({1.0: 30, 2.0: 30, 3.0: 30, 4.0: 30, 5.0: 30, 6.0: 30})"
      ]
     },
     "execution_count": 28,
     "metadata": {},
     "output_type": "execute_result"
    }
   ],
   "source": [
    "from collections import Counter\n",
    "Counter(Y_photos)"
   ]
  },
  {
   "cell_type": "code",
   "execution_count": 33,
   "metadata": {},
   "outputs": [],
   "source": [
    "df_photos = db.join_data(X_photos, Y_photos)"
   ]
  },
  {
   "cell_type": "code",
   "execution_count": 36,
   "metadata": {},
   "outputs": [
    {
     "name": "stdout",
     "output_type": "stream",
     "text": [
      "./test_photos_classes.npyfile does not exist, creating one!\n",
      "Created photos database\n"
     ]
    }
   ],
   "source": [
    "db.remove_file('./test_photos_classes.npy')\n",
    "print(\"Created photos database\")\n",
    "np.save('./test_photos_classes', df_photos.to_numpy())"
   ]
  },
  {
   "cell_type": "code",
   "execution_count": null,
   "metadata": {},
   "outputs": [],
   "source": []
  },
  {
   "cell_type": "code",
   "execution_count": null,
   "metadata": {},
   "outputs": [],
   "source": []
  },
  {
   "cell_type": "code",
   "execution_count": null,
   "metadata": {},
   "outputs": [],
   "source": []
  },
  {
   "cell_type": "code",
   "execution_count": null,
   "metadata": {},
   "outputs": [],
   "source": []
  },
  {
   "cell_type": "code",
   "execution_count": null,
   "metadata": {},
   "outputs": [],
   "source": []
  },
  {
   "cell_type": "code",
   "execution_count": null,
   "metadata": {},
   "outputs": [],
   "source": []
  },
  {
   "cell_type": "code",
   "execution_count": null,
   "metadata": {},
   "outputs": [],
   "source": []
  },
  {
   "cell_type": "code",
   "execution_count": null,
   "metadata": {},
   "outputs": [],
   "source": []
  },
  {
   "cell_type": "code",
   "execution_count": null,
   "metadata": {},
   "outputs": [],
   "source": []
  },
  {
   "cell_type": "code",
   "execution_count": null,
   "metadata": {},
   "outputs": [],
   "source": []
  },
  {
   "cell_type": "code",
   "execution_count": null,
   "metadata": {},
   "outputs": [],
   "source": []
  },
  {
   "cell_type": "code",
   "execution_count": null,
   "metadata": {},
   "outputs": [],
   "source": []
  },
  {
   "cell_type": "code",
   "execution_count": null,
   "metadata": {},
   "outputs": [],
   "source": []
  },
  {
   "cell_type": "code",
   "execution_count": null,
   "metadata": {},
   "outputs": [],
   "source": []
  },
  {
   "cell_type": "code",
   "execution_count": null,
   "metadata": {},
   "outputs": [],
   "source": []
  },
  {
   "cell_type": "code",
   "execution_count": null,
   "metadata": {},
   "outputs": [],
   "source": []
  },
  {
   "cell_type": "markdown",
   "metadata": {},
   "source": [
    "# **Multiple Hyperparameter Study**\n",
    "This part consist in making a study of the hyperparameter of the classifier, using the gridsearch method from the scikitlearn library."
   ]
  },
  {
   "cell_type": "code",
   "execution_count": 14,
   "metadata": {},
   "outputs": [],
   "source": [
    "# Define the parameter values that should be searched\n",
    "k_range = list(range(2, 10))\n",
    "\n",
    "# Another parameter besides k that we might vary is the weights parameters or even the algorithm\n",
    "weight_options = ['uniform', 'distance']\n",
    "#algorithm_options = ['auto', 'ball_tree', 'kd_tree', 'brute']\n",
    "\n",
    "# Specify \"parameter grid\"\n",
    "param_grid = dict(n_neighbors=k_range, weights=weight_options)\n",
    "\n",
    "# Specify \"parameter distributions\" rather than a \"parameter grid\"\n",
    "param_dist = dict(n_neighbors=k_range, weights=weight_options)\n",
    "\n",
    "# Since both parameters are discrete, so param_dist is the same as param_grid\n",
    "\n",
    "# Finally define the classifier, in this case the KNN classifier\n",
    "knn = KNeighborsClassifier()"
   ]
  },
  {
   "cell_type": "code",
   "execution_count": 15,
   "metadata": {},
   "outputs": [
    {
     "name": "stdout",
     "output_type": "stream",
     "text": [
      "Iteration num: 0\n",
      "Iteration num: 1\n"
     ]
    },
    {
     "name": "stderr",
     "output_type": "stream",
     "text": [
      "Process PoolWorker-12:\n",
      "Traceback (most recent call last):\n",
      "Traceback (most recent call last):\n",
      "Process PoolWorker-11:\n",
      "Process PoolWorker-10:\n",
      "  File \"/usr/lib/python2.7/multiprocessing/process.py\", line 267, in _bootstrap\n",
      "    self.run()\n",
      "Traceback (most recent call last):\n",
      "  File \"/usr/lib/python2.7/multiprocessing/process.py\", line 267, in _bootstrap\n",
      "    self.run()\n",
      "  File \"/usr/lib/python2.7/multiprocessing/process.py\", line 267, in _bootstrap\n",
      "  File \"/usr/lib/python2.7/multiprocessing/process.py\", line 114, in run\n",
      "    self.run()\n",
      "  File \"/usr/lib/python2.7/multiprocessing/process.py\", line 114, in run\n",
      "  File \"/usr/lib/python2.7/multiprocessing/process.py\", line 114, in run\n",
      "    self._target(*self._args, **self._kwargs)\n",
      "  File \"/usr/lib/python2.7/multiprocessing/pool.py\", line 102, in worker\n",
      "    self._target(*self._args, **self._kwargs)\n",
      "    self._target(*self._args, **self._kwargs)\n",
      "    task = get()\n",
      "  File \"/usr/lib/python2.7/multiprocessing/pool.py\", line 102, in worker\n",
      "  File \"/home/morooka/.local/lib/python2.7/site-packages/sklearn/externals/joblib/pool.py\", line 359, in get\n",
      "    return recv()\n",
      "    task = get()\n",
      "  File \"/home/morooka/.local/lib/python2.7/site-packages/sklearn/externals/joblib/pool.py\", line 357, in get\n",
      "KeyboardInterrupt\n",
      "  File \"/usr/lib/python2.7/multiprocessing/pool.py\", line 102, in worker\n",
      "    racquire()\n",
      "    task = get()\n",
      "KeyboardInterrupt\n",
      "  File \"/home/morooka/.local/lib/python2.7/site-packages/sklearn/externals/joblib/pool.py\", line 357, in get\n",
      "    racquire()\n",
      "KeyboardInterrupt\n"
     ]
    },
    {
     "ename": "KeyboardInterrupt",
     "evalue": "",
     "output_type": "error",
     "traceback": [
      "\u001b[0;31m---------------------------------------------------------------------------\u001b[0m",
      "\u001b[0;31mKeyboardInterrupt\u001b[0m                         Traceback (most recent call last)",
      "\u001b[0;32m<ipython-input-15-fd8c3f2f9bc3>\u001b[0m in \u001b[0;36m<module>\u001b[0;34m()\u001b[0m\n\u001b[0;32m----> 1\u001b[0;31m \u001b[0mget_ipython\u001b[0m\u001b[0;34m(\u001b[0m\u001b[0;34m)\u001b[0m\u001b[0;34m.\u001b[0m\u001b[0mrun_cell_magic\u001b[0m\u001b[0;34m(\u001b[0m\u001b[0;34mu'time'\u001b[0m\u001b[0;34m,\u001b[0m \u001b[0;34mu''\u001b[0m\u001b[0;34m,\u001b[0m \u001b[0;34mu'\\n# This block is done both grid and random search for the hyperparameters for N numbers\\n\\ngrid_best_scores = []\\ngrid_best_params = []\\ngrid_best_estimator = []\\n\\nrand_best_scores = []\\nrand_best_params = []\\nrand_best_estimator = []\\n\\ntrain_x = create_number_list(X_train)\\ntrain_y = np.array(Y_train)\\n\\nfor i in list(range(20)):\\n    print(\"Iteration num: \" + str(i))\\n    grid = GridSearchCV(knn, param_grid, cv=10, scoring=\\'accuracy\\', n_jobs = -1)\\n    grid.fit(train_x, train_y)\\n    grid_best_scores.append(grid.best_score_)\\n    grid_best_params.append(grid.best_params_)\\n    grid_best_estimator.append(grid.best_estimator_)\\n\\n    rand = RandomizedSearchCV(knn, param_dist, cv=10, scoring=\\'accuracy\\', n_iter=10, n_jobs = -1)\\n    rand.fit(train_x, train_y)\\n    rand_best_scores.append(rand.best_score_)\\n    rand_best_params.append(rand.best_params_)\\n    rand_best_estimator.append(rand.best_estimator_)\\n    \\nprint(\"Finished searching the hyper parameters!\")'\u001b[0m\u001b[0;34m)\u001b[0m\u001b[0;34m\u001b[0m\u001b[0;34m\u001b[0m\u001b[0m\n\u001b[0m",
      "\u001b[0;32m/home/morooka/.local/lib/python2.7/site-packages/IPython/core/interactiveshell.pyc\u001b[0m in \u001b[0;36mrun_cell_magic\u001b[0;34m(self, magic_name, line, cell)\u001b[0m\n\u001b[1;32m   2115\u001b[0m             \u001b[0mmagic_arg_s\u001b[0m \u001b[0;34m=\u001b[0m \u001b[0mself\u001b[0m\u001b[0;34m.\u001b[0m\u001b[0mvar_expand\u001b[0m\u001b[0;34m(\u001b[0m\u001b[0mline\u001b[0m\u001b[0;34m,\u001b[0m \u001b[0mstack_depth\u001b[0m\u001b[0;34m)\u001b[0m\u001b[0;34m\u001b[0m\u001b[0;34m\u001b[0m\u001b[0m\n\u001b[1;32m   2116\u001b[0m             \u001b[0;32mwith\u001b[0m \u001b[0mself\u001b[0m\u001b[0;34m.\u001b[0m\u001b[0mbuiltin_trap\u001b[0m\u001b[0;34m:\u001b[0m\u001b[0;34m\u001b[0m\u001b[0;34m\u001b[0m\u001b[0m\n\u001b[0;32m-> 2117\u001b[0;31m                 \u001b[0mresult\u001b[0m \u001b[0;34m=\u001b[0m \u001b[0mfn\u001b[0m\u001b[0;34m(\u001b[0m\u001b[0mmagic_arg_s\u001b[0m\u001b[0;34m,\u001b[0m \u001b[0mcell\u001b[0m\u001b[0;34m)\u001b[0m\u001b[0;34m\u001b[0m\u001b[0;34m\u001b[0m\u001b[0m\n\u001b[0m\u001b[1;32m   2118\u001b[0m             \u001b[0;32mreturn\u001b[0m \u001b[0mresult\u001b[0m\u001b[0;34m\u001b[0m\u001b[0;34m\u001b[0m\u001b[0m\n\u001b[1;32m   2119\u001b[0m \u001b[0;34m\u001b[0m\u001b[0m\n",
      "\u001b[0;32m</home/morooka/.local/lib/python2.7/site-packages/decorator.pyc:decorator-gen-60>\u001b[0m in \u001b[0;36mtime\u001b[0;34m(self, line, cell, local_ns)\u001b[0m\n",
      "\u001b[0;32m/home/morooka/.local/lib/python2.7/site-packages/IPython/core/magic.pyc\u001b[0m in \u001b[0;36m<lambda>\u001b[0;34m(f, *a, **k)\u001b[0m\n\u001b[1;32m    186\u001b[0m     \u001b[0;31m# but it's overkill for just that one bit of state.\u001b[0m\u001b[0;34m\u001b[0m\u001b[0;34m\u001b[0m\u001b[0;34m\u001b[0m\u001b[0m\n\u001b[1;32m    187\u001b[0m     \u001b[0;32mdef\u001b[0m \u001b[0mmagic_deco\u001b[0m\u001b[0;34m(\u001b[0m\u001b[0marg\u001b[0m\u001b[0;34m)\u001b[0m\u001b[0;34m:\u001b[0m\u001b[0;34m\u001b[0m\u001b[0;34m\u001b[0m\u001b[0m\n\u001b[0;32m--> 188\u001b[0;31m         \u001b[0mcall\u001b[0m \u001b[0;34m=\u001b[0m \u001b[0;32mlambda\u001b[0m \u001b[0mf\u001b[0m\u001b[0;34m,\u001b[0m \u001b[0;34m*\u001b[0m\u001b[0ma\u001b[0m\u001b[0;34m,\u001b[0m \u001b[0;34m**\u001b[0m\u001b[0mk\u001b[0m\u001b[0;34m:\u001b[0m \u001b[0mf\u001b[0m\u001b[0;34m(\u001b[0m\u001b[0;34m*\u001b[0m\u001b[0ma\u001b[0m\u001b[0;34m,\u001b[0m \u001b[0;34m**\u001b[0m\u001b[0mk\u001b[0m\u001b[0;34m)\u001b[0m\u001b[0;34m\u001b[0m\u001b[0;34m\u001b[0m\u001b[0m\n\u001b[0m\u001b[1;32m    189\u001b[0m \u001b[0;34m\u001b[0m\u001b[0m\n\u001b[1;32m    190\u001b[0m         \u001b[0;32mif\u001b[0m \u001b[0mcallable\u001b[0m\u001b[0;34m(\u001b[0m\u001b[0marg\u001b[0m\u001b[0;34m)\u001b[0m\u001b[0;34m:\u001b[0m\u001b[0;34m\u001b[0m\u001b[0;34m\u001b[0m\u001b[0m\n",
      "\u001b[0;32m/home/morooka/.local/lib/python2.7/site-packages/IPython/core/magics/execution.pyc\u001b[0m in \u001b[0;36mtime\u001b[0;34m(self, line, cell, local_ns)\u001b[0m\n\u001b[1;32m   1191\u001b[0m         \u001b[0;32melse\u001b[0m\u001b[0;34m:\u001b[0m\u001b[0;34m\u001b[0m\u001b[0;34m\u001b[0m\u001b[0m\n\u001b[1;32m   1192\u001b[0m             \u001b[0mst\u001b[0m \u001b[0;34m=\u001b[0m \u001b[0mclock2\u001b[0m\u001b[0;34m(\u001b[0m\u001b[0;34m)\u001b[0m\u001b[0;34m\u001b[0m\u001b[0;34m\u001b[0m\u001b[0m\n\u001b[0;32m-> 1193\u001b[0;31m             \u001b[0;32mexec\u001b[0m\u001b[0;34m(\u001b[0m\u001b[0mcode\u001b[0m\u001b[0;34m,\u001b[0m \u001b[0mglob\u001b[0m\u001b[0;34m,\u001b[0m \u001b[0mlocal_ns\u001b[0m\u001b[0;34m)\u001b[0m\u001b[0;34m\u001b[0m\u001b[0;34m\u001b[0m\u001b[0m\n\u001b[0m\u001b[1;32m   1194\u001b[0m             \u001b[0mend\u001b[0m \u001b[0;34m=\u001b[0m \u001b[0mclock2\u001b[0m\u001b[0;34m(\u001b[0m\u001b[0;34m)\u001b[0m\u001b[0;34m\u001b[0m\u001b[0;34m\u001b[0m\u001b[0m\n\u001b[1;32m   1195\u001b[0m             \u001b[0mout\u001b[0m \u001b[0;34m=\u001b[0m \u001b[0mNone\u001b[0m\u001b[0;34m\u001b[0m\u001b[0;34m\u001b[0m\u001b[0m\n",
      "\u001b[0;32m<timed exec>\u001b[0m in \u001b[0;36m<module>\u001b[0;34m()\u001b[0m\n",
      "\u001b[0;32m/home/morooka/.local/lib/python2.7/site-packages/sklearn/grid_search.pyc\u001b[0m in \u001b[0;36mfit\u001b[0;34m(self, X, y)\u001b[0m\n\u001b[1;32m    802\u001b[0m \u001b[0;34m\u001b[0m\u001b[0m\n\u001b[1;32m    803\u001b[0m         \"\"\"\n\u001b[0;32m--> 804\u001b[0;31m         \u001b[0;32mreturn\u001b[0m \u001b[0mself\u001b[0m\u001b[0;34m.\u001b[0m\u001b[0m_fit\u001b[0m\u001b[0;34m(\u001b[0m\u001b[0mX\u001b[0m\u001b[0;34m,\u001b[0m \u001b[0my\u001b[0m\u001b[0;34m,\u001b[0m \u001b[0mParameterGrid\u001b[0m\u001b[0;34m(\u001b[0m\u001b[0mself\u001b[0m\u001b[0;34m.\u001b[0m\u001b[0mparam_grid\u001b[0m\u001b[0;34m)\u001b[0m\u001b[0;34m)\u001b[0m\u001b[0;34m\u001b[0m\u001b[0;34m\u001b[0m\u001b[0m\n\u001b[0m\u001b[1;32m    805\u001b[0m \u001b[0;34m\u001b[0m\u001b[0m\n\u001b[1;32m    806\u001b[0m \u001b[0;34m\u001b[0m\u001b[0m\n",
      "\u001b[0;32m/home/morooka/.local/lib/python2.7/site-packages/sklearn/grid_search.pyc\u001b[0m in \u001b[0;36m_fit\u001b[0;34m(self, X, y, parameter_iterable)\u001b[0m\n\u001b[1;32m    551\u001b[0m                                     \u001b[0mself\u001b[0m\u001b[0;34m.\u001b[0m\u001b[0mfit_params\u001b[0m\u001b[0;34m,\u001b[0m \u001b[0mreturn_parameters\u001b[0m\u001b[0;34m=\u001b[0m\u001b[0mTrue\u001b[0m\u001b[0;34m,\u001b[0m\u001b[0;34m\u001b[0m\u001b[0;34m\u001b[0m\u001b[0m\n\u001b[1;32m    552\u001b[0m                                     error_score=self.error_score)\n\u001b[0;32m--> 553\u001b[0;31m                 \u001b[0;32mfor\u001b[0m \u001b[0mparameters\u001b[0m \u001b[0;32min\u001b[0m \u001b[0mparameter_iterable\u001b[0m\u001b[0;34m\u001b[0m\u001b[0;34m\u001b[0m\u001b[0m\n\u001b[0m\u001b[1;32m    554\u001b[0m                 for train, test in cv)\n\u001b[1;32m    555\u001b[0m \u001b[0;34m\u001b[0m\u001b[0m\n",
      "\u001b[0;32m/home/morooka/.local/lib/python2.7/site-packages/sklearn/externals/joblib/parallel.pyc\u001b[0m in \u001b[0;36m__call__\u001b[0;34m(self, iterable)\u001b[0m\n\u001b[1;32m    808\u001b[0m                 \u001b[0;31m# consumption.\u001b[0m\u001b[0;34m\u001b[0m\u001b[0;34m\u001b[0m\u001b[0;34m\u001b[0m\u001b[0m\n\u001b[1;32m    809\u001b[0m                 \u001b[0mself\u001b[0m\u001b[0;34m.\u001b[0m\u001b[0m_iterating\u001b[0m \u001b[0;34m=\u001b[0m \u001b[0mFalse\u001b[0m\u001b[0;34m\u001b[0m\u001b[0;34m\u001b[0m\u001b[0m\n\u001b[0;32m--> 810\u001b[0;31m             \u001b[0mself\u001b[0m\u001b[0;34m.\u001b[0m\u001b[0mretrieve\u001b[0m\u001b[0;34m(\u001b[0m\u001b[0;34m)\u001b[0m\u001b[0;34m\u001b[0m\u001b[0;34m\u001b[0m\u001b[0m\n\u001b[0m\u001b[1;32m    811\u001b[0m             \u001b[0;31m# Make sure that we get a last message telling us we are done\u001b[0m\u001b[0;34m\u001b[0m\u001b[0;34m\u001b[0m\u001b[0;34m\u001b[0m\u001b[0m\n\u001b[1;32m    812\u001b[0m             \u001b[0melapsed_time\u001b[0m \u001b[0;34m=\u001b[0m \u001b[0mtime\u001b[0m\u001b[0;34m.\u001b[0m\u001b[0mtime\u001b[0m\u001b[0;34m(\u001b[0m\u001b[0;34m)\u001b[0m \u001b[0;34m-\u001b[0m \u001b[0mself\u001b[0m\u001b[0;34m.\u001b[0m\u001b[0m_start_time\u001b[0m\u001b[0;34m\u001b[0m\u001b[0;34m\u001b[0m\u001b[0m\n",
      "\u001b[0;32m/home/morooka/.local/lib/python2.7/site-packages/sklearn/externals/joblib/parallel.pyc\u001b[0m in \u001b[0;36mretrieve\u001b[0;34m(self)\u001b[0m\n\u001b[1;32m    755\u001b[0m                     \u001b[0;31m# a working pool as they expect.\u001b[0m\u001b[0;34m\u001b[0m\u001b[0;34m\u001b[0m\u001b[0;34m\u001b[0m\u001b[0m\n\u001b[1;32m    756\u001b[0m                     \u001b[0mself\u001b[0m\u001b[0;34m.\u001b[0m\u001b[0m_initialize_pool\u001b[0m\u001b[0;34m(\u001b[0m\u001b[0;34m)\u001b[0m\u001b[0;34m\u001b[0m\u001b[0;34m\u001b[0m\u001b[0m\n\u001b[0;32m--> 757\u001b[0;31m                 \u001b[0;32mraise\u001b[0m \u001b[0mexception\u001b[0m\u001b[0;34m\u001b[0m\u001b[0;34m\u001b[0m\u001b[0m\n\u001b[0m\u001b[1;32m    758\u001b[0m \u001b[0;34m\u001b[0m\u001b[0m\n\u001b[1;32m    759\u001b[0m     \u001b[0;32mdef\u001b[0m \u001b[0m__call__\u001b[0m\u001b[0;34m(\u001b[0m\u001b[0mself\u001b[0m\u001b[0;34m,\u001b[0m \u001b[0miterable\u001b[0m\u001b[0;34m)\u001b[0m\u001b[0;34m:\u001b[0m\u001b[0;34m\u001b[0m\u001b[0;34m\u001b[0m\u001b[0m\n",
      "\u001b[0;31mKeyboardInterrupt\u001b[0m: "
     ]
    }
   ],
   "source": [
    "%%time\n",
    "\n",
    "# This block is done both grid and random search for the hyperparameters for N numbers\n",
    "\n",
    "grid_best_scores = []\n",
    "grid_best_params = []\n",
    "grid_best_estimator = []\n",
    "\n",
    "rand_best_scores = []\n",
    "rand_best_params = []\n",
    "rand_best_estimator = []\n",
    "\n",
    "train_x = create_number_list(X_train)\n",
    "train_y = np.array(Y_train)\n",
    "\n",
    "for i in list(range(15)):\n",
    "    print(\"Iteration num: \" + str(i))\n",
    "    grid = GridSearchCV(knn, param_grid, cv=10, scoring='accuracy', n_jobs = -1)\n",
    "    grid.fit(train_x, train_y)\n",
    "    grid_best_scores.append(grid.best_score_)\n",
    "    grid_best_params.append(grid.best_params_)\n",
    "    grid_best_estimator.append(grid.best_estimator_)\n",
    "\n",
    "    rand = RandomizedSearchCV(knn, param_dist, cv=10, scoring='accuracy', n_iter=10, n_jobs = -1)\n",
    "    rand.fit(train_x, train_y)\n",
    "    rand_best_scores.append(rand.best_score_)\n",
    "    rand_best_params.append(rand.best_params_)\n",
    "    rand_best_estimator.append(rand.best_estimator_)\n",
    "    \n",
    "print(\"Finished searching the hyper parameters!\")\n"
   ]
  },
  {
   "cell_type": "code",
   "execution_count": null,
   "metadata": {},
   "outputs": [],
   "source": [
    "rand_best_estimator[np.argmax(rand_best_scores)]"
   ]
  },
  {
   "cell_type": "code",
   "execution_count": null,
   "metadata": {},
   "outputs": [],
   "source": [
    "# This block draw accuracies of the differents classifiers used in the grid and random search\n",
    "\n",
    "plt.figure(figsize=(16, 8))\n",
    "plt.title(\"Final search results\")   \n",
    "plt.plot(range(len(grid_best_scores)), grid_best_scores, label = 'Exaustive grid')\n",
    "plt.plot(range(len(rand_best_scores)), rand_best_scores, label = 'Random grid')\n",
    "plt.xlabel('Number of classifier')\n",
    "plt.ylabel('Accuracy')\n",
    "plt.legend()\n",
    "plt.xticks(range(len(grid_best_scores)))\n",
    "plt.show()\n",
    "\n",
    "print(\"GRID SEARCH RESULTS\")\n",
    "print(\"The best accuracy is: \" + str(np.max(grid_best_scores) * 100) + \"%\")\n",
    "print(\"The parameters is: \" + str(grid_best_params[np.argmax(grid_best_scores)]))\n",
    "print('\\n')\n",
    "print(\"RANDOMGRID SEARCH RESULTS\")\n",
    "print(\"The best accuracy is: \" + str(np.max(rand_best_scores) * 100) + \"%\")\n",
    "print(\"The parameters is: \" + str(rand_best_params[np.argmax(rand_best_scores)]))"
   ]
  },
  {
   "cell_type": "markdown",
   "metadata": {},
   "source": [
    "# BEST KNN Classifier"
   ]
  },
  {
   "cell_type": "code",
   "execution_count": null,
   "metadata": {},
   "outputs": [],
   "source": [
    "#Train the best classificator for a N sample of numbers\n",
    "def train_best_classifier():\n",
    "    train_x = create_number_list(X_train)\n",
    "    train_y = np.array(Y_train)\n",
    "    \n",
    "    classificator = rand_best_estimator[np.argmax(rand_best_scores)]\n",
    "\n",
    "    return classificator.fit(train_x, train_y)"
   ]
  },
  {
   "cell_type": "code",
   "execution_count": null,
   "metadata": {},
   "outputs": [],
   "source": [
    "#Testing this new classificator accuracy with MNIST database \n",
    "def test_database(clf):\n",
    "    test_x = create_number_list(X_test)\n",
    "    test_y = np.array(Y_test) \n",
    "\n",
    "    predicted = clf.predict(test_x)\n",
    "    \n",
    "    print(\"The accuracy for MNIST test database is: \" + str(round((accuracy_score(test_y, predicted) * 100), 3)) + \"%\")\n",
    "    print(\"Using: \" + str(len(X_test)) + \" images in the test\")\n",
    "\n",
    "    plot_confusion_matrix(clf, test_x, test_y)\n",
    "\n"
   ]
  },
  {
   "cell_type": "code",
   "execution_count": null,
   "metadata": {},
   "outputs": [],
   "source": [
    "#Testing this new classificator accuracy with the photos taken\n",
    "def new_test_photos(clf, N):\n",
    "    test_x_photos, test_y_photos = read_test()\n",
    "\n",
    "    predicted_photos = clf.predict(test_x_photos)\n",
    "    print(\"The accuracy for photos taken is: \" + str(round((accuracy_score(test_y_photos, predicted_photos) * 100), 3)) + \"%\")\n",
    "\n",
    "    print(\"Using: \" + str(N) + \" images to train\")\n",
    "    print(\"Using: \" + str(len(test_x_photos)) + \" photos taken\")\n",
    "\n",
    "    plot_confusion_matrix(clf, test_x_photos, test_y_photos)\n",
    "\n"
   ]
  },
  {
   "cell_type": "code",
   "execution_count": null,
   "metadata": {},
   "outputs": [],
   "source": [
    "best_knn_classificator = train_best_classifier(200)\n"
   ]
  },
  {
   "cell_type": "code",
   "execution_count": null,
   "metadata": {},
   "outputs": [],
   "source": [
    "test_database(best_knn_classificator, 200)\n"
   ]
  },
  {
   "cell_type": "code",
   "execution_count": null,
   "metadata": {},
   "outputs": [],
   "source": [
    "new_test_photos(best_knn_classificator, 200)"
   ]
  },
  {
   "cell_type": "code",
   "execution_count": null,
   "metadata": {},
   "outputs": [],
   "source": []
  },
  {
   "cell_type": "code",
   "execution_count": null,
   "metadata": {},
   "outputs": [],
   "source": []
  },
  {
   "cell_type": "code",
   "execution_count": null,
   "metadata": {},
   "outputs": [],
   "source": []
  },
  {
   "cell_type": "code",
   "execution_count": null,
   "metadata": {},
   "outputs": [],
   "source": []
  },
  {
   "cell_type": "code",
   "execution_count": null,
   "metadata": {},
   "outputs": [],
   "source": []
  },
  {
   "cell_type": "code",
   "execution_count": null,
   "metadata": {},
   "outputs": [],
   "source": []
  },
  {
   "cell_type": "code",
   "execution_count": null,
   "metadata": {},
   "outputs": [],
   "source": []
  },
  {
   "cell_type": "code",
   "execution_count": null,
   "metadata": {},
   "outputs": [],
   "source": []
  },
  {
   "cell_type": "code",
   "execution_count": null,
   "metadata": {},
   "outputs": [],
   "source": []
  },
  {
   "cell_type": "code",
   "execution_count": null,
   "metadata": {},
   "outputs": [],
   "source": []
  },
  {
   "cell_type": "code",
   "execution_count": null,
   "metadata": {},
   "outputs": [],
   "source": []
  },
  {
   "cell_type": "code",
   "execution_count": null,
   "metadata": {},
   "outputs": [],
   "source": []
  },
  {
   "cell_type": "code",
   "execution_count": null,
   "metadata": {},
   "outputs": [],
   "source": []
  },
  {
   "cell_type": "code",
   "execution_count": null,
   "metadata": {},
   "outputs": [],
   "source": []
  },
  {
   "cell_type": "code",
   "execution_count": null,
   "metadata": {},
   "outputs": [],
   "source": []
  },
  {
   "cell_type": "code",
   "execution_count": null,
   "metadata": {},
   "outputs": [],
   "source": []
  },
  {
   "cell_type": "code",
   "execution_count": null,
   "metadata": {},
   "outputs": [],
   "source": []
  },
  {
   "cell_type": "code",
   "execution_count": null,
   "metadata": {},
   "outputs": [],
   "source": []
  },
  {
   "cell_type": "code",
   "execution_count": null,
   "metadata": {},
   "outputs": [],
   "source": []
  },
  {
   "cell_type": "code",
   "execution_count": null,
   "metadata": {},
   "outputs": [],
   "source": []
  },
  {
   "cell_type": "code",
   "execution_count": null,
   "metadata": {},
   "outputs": [],
   "source": []
  },
  {
   "cell_type": "markdown",
   "metadata": {},
   "source": [
    "# RASCUNHO!!!!!!!!!!!!!!!!!!"
   ]
  },
  {
   "cell_type": "code",
   "execution_count": null,
   "metadata": {},
   "outputs": [],
   "source": [
    "# This function is responsable to open all the images obtained by the camera and already processed. \n",
    "# The images are transform to be able to compare with the EMNIST database. To do so, basically,\n",
    "# the function bellow identiify the number in the image, remove this number, insert it in a new image\n",
    "# in the format of the database and create a file test.cvs to be use by the machine learning's algorithms. \n",
    "\n",
    "def image_traitement(data):\n",
    "    #root_folder = os.path.split(os.getcwd())[0]\n",
    "    # set the parameters to read the images\n",
    "    #image_path_chiffre = image_path # path of the file\n",
    "    #chiffre = image_path_chiffre[-2] # number of the dice\n",
    "\n",
    "    # list to store all the images in the folder\n",
    "    #image_list = []\n",
    "    #for x in os.listdir(image_path_chiffre):\n",
    "    #    path_image = image_path_chiffre + x\n",
    "    #    im = cv.imread(path_image, 0)\n",
    "    #    image_list.append(im)\n",
    "\n",
    "    # list with images after the processing\n",
    "    resized_list = []\n",
    "    \n",
    "    root_folder = os.getcwd()\n",
    "\n",
    "    # image processing for each image of the folder\n",
    "    for line in data:\n",
    "        im = np.asarray(line[:-1]).reshape(28,28).astype(np.uint8)\n",
    "        #im = Image.fromarray(img.reshape(28,28))\n",
    "        chiffre = line[-1]\n",
    "        \n",
    "        # convert the color to gray\n",
    "        imgray = cv.cvtColor(im, cv.COLOR_GRAY2BGR) #for better accuracy, use binary images\n",
    "        \n",
    "        # apply the threshold to invert the pixels of the image\n",
    "        # all pixels value equal to 255 (white) will be set to 0 (black)\n",
    "        ret, thresh = cv.threshold(im, 225, 255, cv.THRESH_BINARY_INV) #OBS: try change to imgray\n",
    "        plt.imshow(thresh, cmap='gray') # image with the pixels inverted\n",
    "        \n",
    "        # calculate all the countors of the image\n",
    "        # the variable contours contains points of the countors\n",
    "        contours, hierarchy = cv.findContours(thresh, cv.RETR_TREE, cv.CHAIN_APPROX_SIMPLE)\n",
    "        \n",
    "        # loop over the contours points, calculate the area of these points and \n",
    "        # chose the first area that is sufficently large\n",
    "        for i in range(len(contours)):\n",
    "\n",
    "            # calcul de la zone des contours\n",
    "            area = cv.contourArea(contours[i])\n",
    "\n",
    "            # if the contour is sufficiently large, it must be the digit\n",
    "            if area > 50 and area < 700:\n",
    "                \n",
    "                # compute the bounding box where (x,y) is the top-left coordinate of the rectangle \n",
    "                # and (w,h) is the width and height\n",
    "                (x, y, w, h) = cv.boundingRect(contours[i]) # calcul de coordonnes de la zone\n",
    "\n",
    "                # affiche les rectangles sur l'image binaire\n",
    "                #cv.rectangle(imgray, (x,y), (x+w,y+h), (255,255,0), 2) \n",
    "\n",
    "                # extract the region of interest (ROI) using the informations of the bounding box\n",
    "                diceROI = thresh[y-2 : y+h+2, x-2 : x+w+2] # extraction de la zone sur l'image    \n",
    "                #plt.matshow(diceROI, cmap=\"gray\")\n",
    "                break\n",
    "                 \n",
    "        # calculate the center of mass, the height and the width of the ROI\n",
    "        centre_h, centre_w = ndimage.measurements.center_of_mass(diceROI)\n",
    "        h, w = diceROI.shape\n",
    "        \n",
    "        # create a new image and insert the ROI\n",
    "        n = 56 # the ROI will be insert in the center of a bigger image\n",
    "        \n",
    "        black_image = np.zeros((n,n))\n",
    "        black_image[int((n-h)/2) : int(((n-h)/2)+h), int((n-w)/2) : int(((n-w)/2)+w)] = diceROI \n",
    "        #plt.matshow(black_image, cmap='gray')\n",
    "\n",
    "        # resize the image to the format 28x28 pixel (format of the database)\n",
    "        scale_percent = 50 # percent of original size\n",
    "        \n",
    "        width = int(black_image.shape[1] * scale_percent / 100)\n",
    "        height = int(black_image.shape[0] * scale_percent / 100)\n",
    "        dim = (width, height)\n",
    "\n",
    "        # resize the image\n",
    "        resized = cv.resize(black_image, dim, interpolation = cv.INTER_AREA)\n",
    "        resized_list.append(resized) # add to the list of final images\n",
    "\n",
    "        # write the pixel matrix in the initial_test.csv file, the row will have 785 columns (28x28 + 1)\n",
    "        # where the last column is the dice's number\n",
    "        A = np.asarray(resized).reshape(-1) # shape the matrix to just one line\n",
    "        \n",
    "        row = []\n",
    "        for result in A:\n",
    "            row.append(result)\n",
    "        row.append(float(chiffre)) #the last column is the dice's number\n",
    "\n",
    "        \n",
    "        # open the file in the for appending new information (new row)\n",
    "        #with open(root_folder + '/initial_test.csv', \"a\") as file:\n",
    "        #    writer = csv.writer(file)\n",
    "        #    writer.writerow(row) \n",
    "\n",
    "    # print the processed images \n",
    "    #print(\"Dice's number: \" + str(chiffre))\n",
    "    #print(\"Number of the images in the folder: \" + str(len(image_list)))\n",
    "    #print(\"Number of the images created: \" + str(len(resized_list)))\n",
    "    for pos in range(0, 3):\n",
    "        plt.matshow(resized_list[pos], cmap='gray')\n",
    "    '''\n",
    "    if os.path.isfile('test.csv'):\n",
    "        print (\"END\")\n",
    "    else:\n",
    "        print ('file does not exist')\n",
    "    '''"
   ]
  },
  {
   "cell_type": "code",
   "execution_count": null,
   "metadata": {},
   "outputs": [],
   "source": [
    "def read_photos(data):    \n",
    "    image = []\n",
    "    labels = []\n",
    "    for line in data:\n",
    "        image.append(np.array(line[:-1]))\n",
    "        labels.append(line[-1])\n",
    "    \n",
    "    return image, labels"
   ]
  },
  {
   "cell_type": "code",
   "execution_count": 13,
   "metadata": {},
   "outputs": [],
   "source": [
    "test_x_photos, test_y_photos = read_photos(photos) "
   ]
  },
  {
   "cell_type": "code",
   "execution_count": null,
   "metadata": {},
   "outputs": [],
   "source": [
    "test_x_photos, test_y_photos = read_photos(photos) "
   ]
  },
  {
   "cell_type": "code",
   "execution_count": 56,
   "metadata": {},
   "outputs": [
    {
     "name": "stdout",
     "output_type": "stream",
     "text": [
      "The accuracy for photos taken is: 11.306%\n",
      "Using: 13320 images\n"
     ]
    },
    {
     "data": {
      "image/png": "[encoded data removed]",
      "text/plain": [
       "<Figure size 432x288 with 2 Axes>"
      ]
     },
     "metadata": {
      "needs_background": "light"
     },
     "output_type": "display_data"
    }
   ],
   "source": [
    "def test_photos_knnModel():\n",
    "    #New set of values\n",
    "    test_x_photos, test_y_photos = read_photos(photos) \n",
    "    predicted_photos = knn_classificator.predict(test_x_photos)\n",
    "    \n",
    "    print(\"The accuracy for photos taken is: \" + str(round((accuracy_score(test_y_photos, predicted_photos) * 100), 3)) + \"%\")\n",
    "    print(\"Using: \" + str(len(test_y_photos)) + \" images\")\n",
    "    \n",
    "    plot_confusion_matrix(knn_classificator, test_x_photos, test_y_photos)\n",
    "    plt.show()\n",
    "\n",
    "test_photos_knnModel()"
   ]
  },
  {
   "cell_type": "code",
   "execution_count": 14,
   "metadata": {},
   "outputs": [
    {
     "data": {
      "image/png": "[encoded data removed]",
      "text/plain": [
       "<Figure size 432x288 with 1 Axes>"
      ]
     },
     "metadata": {
      "needs_background": "light"
     },
     "output_type": "display_data"
    }
   ],
   "source": [
    "for i in range(len(test_x_photos)):\n",
    "    if test_y_photos[i] == 1:\n",
    "        plt.imshow(np.asarray(test_x_photos[i]).reshape(28,28))\n",
    "        break"
   ]
  },
  {
   "cell_type": "code",
   "execution_count": null,
   "metadata": {},
   "outputs": [],
   "source": [
    "%%time\n",
    "\n",
    "# This function creates the test set of photos\n",
    "def create_test():    \n",
    "    #Load the database (.npy) files \n",
    "    img_array_train = np.load('./../train.npy')\n",
    "    img_array_test = np.load('./../test.npy')\n",
    "    img_array_validation = np.load('./../validation.npy')\n",
    "\n",
    "    #Transform it in pandas dataframe\n",
    "    df_train = pd.DataFrame(img_array_train)\n",
    "    df_test = pd.DataFrame(img_array_test)\n",
    "    df_validation = pd.DataFrame(img_array_validation)\n",
    "\n",
    "    # Create only one set of data\n",
    "    df = df_train.append(df_test).append(df_validation) \n",
    "    photos = df.to_numpy()\n",
    "    \n",
    "    if os.path.isfile('initial_test.csv'):\n",
    "        os.remove('initial_test.csv')\n",
    "    else:\n",
    "        print 'Test file does not exist'\n",
    "            \n",
    "    image_traitement(photos[0:5])\n",
    "    \n",
    "create_test()"
   ]
  }
 ],
 "metadata": {
  "kernelspec": {
   "display_name": "Python 2",
   "language": "python",
   "name": "python2"
  },
  "language_info": {
   "codemirror_mode": {
    "name": "ipython",
    "version": 2
   },
   "file_extension": ".py",
   "mimetype": "text/x-python",
   "name": "python",
   "nbconvert_exporter": "python",
   "pygments_lexer": "ipython2",
   "version": "2.7.15+"
  }
 },
 "nbformat": 4,
 "nbformat_minor": 2
}
