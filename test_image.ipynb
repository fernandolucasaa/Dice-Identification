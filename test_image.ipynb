{
 "cells": [
  {
   "cell_type": "markdown",
   "metadata": {},
   "source": [
    "# **Python Lab 4EII - OOP course**"
   ]
  },
  {
   "cell_type": "markdown",
   "metadata": {},
   "source": [
    "## **Introduction**\n",
    "\n",
    "This lab aim at discovering the Python programming language via a simple **machine learning** problem: recognizing handwritten digits, here limited to digits 0, 1 and 2 for simplicity, with one of the most simple existing machine learning algorithms, i.e. **Decision Trees** used as **classifiers**. \n",
    "\n",
    "In this lab you will learn to:\n",
    "* handle object oriented programmation in Python\n",
    "* perform basic mathematical operations on matrices (numpy arrays)\n",
    "* use the commonly used Python machine learning framework scikit-learn\n",
    "* display graph results using the matplotlib module"
   ]
  },
  {
   "cell_type": "markdown",
   "metadata": {},
   "source": [
    "#### **Module importation**"
   ]
  },
  {
   "cell_type": "code",
   "execution_count": 1,
   "metadata": {},
   "outputs": [],
   "source": [
    "import numpy as np\n",
    "import matplotlib.pyplot as plt\n",
    "import csv"
   ]
  },
  {
   "cell_type": "code",
   "execution_count": 67,
   "metadata": {},
   "outputs": [
    {
     "name": "stdout",
     "output_type": "stream",
     "text": [
      "22446\n",
      "(86, 87, 3)\n",
      "uint8\n",
      "149856\n",
      "(223, 224, 3)\n",
      "uint8\n"
     ]
    },
    {
     "ename": "AttributeError",
     "evalue": "'list' object has no attribute 'shape'",
     "output_type": "error",
     "traceback": [
      "\u001b[0;31m---------------------------------------------------------------------------\u001b[0m",
      "\u001b[0;31mAttributeError\u001b[0m                            Traceback (most recent call last)",
      "\u001b[0;32m<ipython-input-67-8defb90c8a10>\u001b[0m in \u001b[0;36m<module>\u001b[0;34m()\u001b[0m\n\u001b[1;32m     33\u001b[0m \u001b[0mplt\u001b[0m\u001b[0;34m.\u001b[0m\u001b[0mimshow\u001b[0m\u001b[0;34m(\u001b[0m\u001b[0mimg_capture\u001b[0m\u001b[0;34m)\u001b[0m\u001b[0;34m\u001b[0m\u001b[0;34m\u001b[0m\u001b[0m\n\u001b[1;32m     34\u001b[0m \u001b[0;34m\u001b[0m\u001b[0m\n\u001b[0;32m---> 35\u001b[0;31m \u001b[0mimage_changed\u001b[0m \u001b[0;34m=\u001b[0m \u001b[0mchange_black_white\u001b[0m\u001b[0;34m(\u001b[0m\u001b[0mimg_capture\u001b[0m\u001b[0;34m)\u001b[0m\u001b[0;34m\u001b[0m\u001b[0;34m\u001b[0m\u001b[0m\n\u001b[0m\u001b[1;32m     36\u001b[0m \u001b[0;32mprint\u001b[0m\u001b[0;34m(\u001b[0m\u001b[0mimage_changed\u001b[0m\u001b[0;34m)\u001b[0m\u001b[0;34m\u001b[0m\u001b[0;34m\u001b[0m\u001b[0m\n",
      "\u001b[0;32m<ipython-input-67-8defb90c8a10>\u001b[0m in \u001b[0;36mchange_black_white\u001b[0;34m(image)\u001b[0m\n\u001b[1;32m     21\u001b[0m             \u001b[0mnew_px\u001b[0m \u001b[0;34m=\u001b[0m \u001b[0mabs\u001b[0m\u001b[0;34m(\u001b[0m\u001b[0;34m(\u001b[0m\u001b[0mimage\u001b[0m\u001b[0;34m[\u001b[0m\u001b[0mi\u001b[0m\u001b[0;34m]\u001b[0m\u001b[0;34m[\u001b[0m\u001b[0mj\u001b[0m\u001b[0;34m]\u001b[0m\u001b[0;34m)\u001b[0m \u001b[0;34m-\u001b[0m \u001b[0;34m[\u001b[0m\u001b[0;36m255\u001b[0m\u001b[0;34m,\u001b[0m \u001b[0;36m255\u001b[0m\u001b[0;34m,\u001b[0m \u001b[0;36m255\u001b[0m\u001b[0;34m]\u001b[0m\u001b[0;34m)\u001b[0m\u001b[0;34m\u001b[0m\u001b[0;34m\u001b[0m\u001b[0m\n\u001b[1;32m     22\u001b[0m             \u001b[0mnew_image\u001b[0m\u001b[0;34m.\u001b[0m\u001b[0mappend\u001b[0m\u001b[0;34m(\u001b[0m\u001b[0mnew_px\u001b[0m\u001b[0;34m)\u001b[0m\u001b[0;34m\u001b[0m\u001b[0;34m\u001b[0m\u001b[0m\n\u001b[0;32m---> 23\u001b[0;31m     \u001b[0;32mprint\u001b[0m \u001b[0mnew_image\u001b[0m\u001b[0;34m.\u001b[0m\u001b[0mshape\u001b[0m\u001b[0;34m\u001b[0m\u001b[0;34m\u001b[0m\u001b[0m\n\u001b[0m\u001b[1;32m     24\u001b[0m     \u001b[0;32mreturn\u001b[0m \u001b[0mnew_image\u001b[0m\u001b[0;34m\u001b[0m\u001b[0;34m\u001b[0m\u001b[0m\n\u001b[1;32m     25\u001b[0m \u001b[0;34m\u001b[0m\u001b[0m\n",
      "\u001b[0;31mAttributeError\u001b[0m: 'list' object has no attribute 'shape'"
     ]
    },
    {
     "data": {
      "image/png": "[encoded data removed]",
      "text/plain": [
       "<Figure size 432x288 with 1 Axes>"
      ]
     },
     "metadata": {
      "needs_background": "light"
     },
     "output_type": "display_data"
    }
   ],
   "source": [
    "#TEST OPENCV\n",
    "\n",
    "import cv2\n",
    "import matplotlib.pyplot as plt\n",
    "from PIL import Image\n",
    "import numpy as np\n",
    "from scipy import ndimage\n",
    "\n",
    "def info_image(img):\n",
    "    print(img.size)\n",
    "    print(img.shape)\n",
    "    print(img.dtype)\n",
    "\n",
    "def change_black_white(image):\n",
    "\n",
    "    w,h,a = image.shape\n",
    "    new_image = []\n",
    "     \n",
    "    for i in range(w):\n",
    "        for j in range(h):\n",
    "            new_px = abs((image[i][j]) - [255, 255, 255])\n",
    "            new_image.append(new_px)\n",
    "    print new_image.shape\n",
    "    return new_image\n",
    "\n",
    "img_capture = cv2.imread(\"1_4.JPG\")\n",
    "# affichage des caractéristiques de l'image\n",
    "info_image(img_capture)\n",
    "\n",
    "img_ex = cv2.imread('1.png')\n",
    "info_image(img_ex)\n",
    "\n",
    "plt.imshow(img_capture)\n",
    "\n",
    "image_changed = change_black_white(img_capture)\n",
    "print(image_changed)\n"
   ]
  },
  {
   "cell_type": "code",
   "execution_count": 9,
   "metadata": {},
   "outputs": [
    {
     "data": {
      "text/plain": [
       "<matplotlib.image.AxesImage at 0x7ff4c1fe8c50>"
      ]
     },
     "execution_count": 9,
     "metadata": {},
     "output_type": "execute_result"
    }
   ],
   "source": [
    "from PIL import Image\n",
    "import numpy as np\n",
    "import matplotlib.pyplot as plt\n",
    "\n",
    "def crop_image(img):\n",
    "    image=Image.open(img)\n",
    "    image.load()\n",
    "\n",
    "    image_data = np.asarray(image)\n",
    "    image_data_bw = image_data.max(axis=2)\n",
    "    non_empty_columns = np.where(image_data_bw.max(axis=0)>0)[0]\n",
    "    non_empty_rows = np.where(image_data_bw.max(axis=1)>0)[0]\n",
    "    cropBox = (min(non_empty_rows), max(non_empty_rows), min(non_empty_columns), max(non_empty_columns))\n",
    "\n",
    "    image_data_new = image_data[cropBox[0]:cropBox[1]+1, cropBox[2]:cropBox[3]+1 , :]\n",
    "\n",
    "    new_image = Image.fromarray(image_data_new)\n",
    "    new_image.save('croped' + img.split('.')[:-1][0] + '.png')\n",
    "    \n",
    "    return new_image\n",
    "\n",
    "img_crop = crop_image('1_4.JPG')\n",
    "plt.imshow(img_crop)\n",
    "\n",
    "\n",
    "print('Original Dimensions : ',img.shape)\n",
    " \n",
    "#scale_percent = 60 # percent of original size\n",
    "width = 28#int(img.shape[1] * scale_percent / 100)\n",
    "height = 28#int(img.shape[0] * scale_percent / 100)\n",
    "dim = (width, height)\n",
    "# resize image\n",
    "resized = cv2.resize(img, dim, interpolation = cv2.INTER_AREA)\n",
    " \n",
    "print('Resized Dimensions : ',resized.shape)\n",
    " \n",
    "plt.imshow(resized)"
   ]
  },
  {
   "cell_type": "code",
   "execution_count": 45,
   "metadata": {},
   "outputs": [
    {
     "name": "stdout",
     "output_type": "stream",
     "text": [
      "[[[255. 255. 255.]\n",
      "  [255. 255. 255.]\n",
      "  [255. 255. 255.]\n",
      "  ...\n",
      "  [255. 255. 255.]\n",
      "  [255. 255. 255.]\n",
      "  [255. 255. 255.]]\n",
      "\n",
      " [[255. 255. 255.]\n",
      "  [255. 255. 255.]\n",
      "  [255. 255. 255.]\n",
      "  ...\n",
      "  [255. 255. 255.]\n",
      "  [255. 255. 255.]\n",
      "  [255. 255. 255.]]\n",
      "\n",
      " [[255. 255. 255.]\n",
      "  [255. 255. 255.]\n",
      "  [255. 255. 255.]\n",
      "  ...\n",
      "  [255. 255. 255.]\n",
      "  [255. 255. 255.]\n",
      "  [255. 255. 255.]]\n",
      "\n",
      " ...\n",
      "\n",
      " [[255. 255. 255.]\n",
      "  [255. 255. 255.]\n",
      "  [255. 255. 255.]\n",
      "  ...\n",
      "  [255. 255. 255.]\n",
      "  [255. 255. 255.]\n",
      "  [255. 255. 255.]]\n",
      "\n",
      " [[255. 255. 255.]\n",
      "  [255. 255. 255.]\n",
      "  [255. 255. 255.]\n",
      "  ...\n",
      "  [255. 255. 255.]\n",
      "  [255. 255. 255.]\n",
      "  [255. 255. 255.]]\n",
      "\n",
      " [[255. 255. 255.]\n",
      "  [255. 255. 255.]\n",
      "  [255. 255. 255.]\n",
      "  ...\n",
      "  [255. 255. 255.]\n",
      "  [255. 255. 255.]\n",
      "  [255. 255. 255.]]]\n",
      "[[[255. 255. 255.]\n",
      "  [255. 255. 255.]\n",
      "  [255. 255. 255.]\n",
      "  ...\n",
      "  [255. 255. 255.]\n",
      "  [255. 255. 255.]\n",
      "  [255. 255. 255.]]\n",
      "\n",
      " [[255. 255. 255.]\n",
      "  [255. 255. 255.]\n",
      "  [255. 255. 255.]\n",
      "  ...\n",
      "  [255. 255. 255.]\n",
      "  [255. 255. 255.]\n",
      "  [255. 255. 255.]]\n",
      "\n",
      " [[255. 255. 255.]\n",
      "  [255. 255. 255.]\n",
      "  [255. 255. 255.]\n",
      "  ...\n",
      "  [255. 255. 255.]\n",
      "  [255. 255. 255.]\n",
      "  [255. 255. 255.]]\n",
      "\n",
      " ...\n",
      "\n",
      " [[255. 255. 255.]\n",
      "  [255. 255. 255.]\n",
      "  [255. 255. 255.]\n",
      "  ...\n",
      "  [255. 255. 255.]\n",
      "  [255. 255. 255.]\n",
      "  [255. 255. 255.]]\n",
      "\n",
      " [[255. 255. 255.]\n",
      "  [255. 255. 255.]\n",
      "  [255. 255. 255.]\n",
      "  ...\n",
      "  [255. 255. 255.]\n",
      "  [255. 255. 255.]\n",
      "  [255. 255. 255.]]\n",
      "\n",
      " [[255. 255. 255.]\n",
      "  [255. 255. 255.]\n",
      "  [255. 255. 255.]\n",
      "  ...\n",
      "  [255. 255. 255.]\n",
      "  [255. 255. 255.]\n",
      "  [255. 255. 255.]]]\n"
     ]
    },
    {
     "data": {
      "image/png": "[encoded data removed]",
      "text/plain": [
       "<Figure size 432x288 with 1 Axes>"
      ]
     },
     "metadata": {
      "needs_background": "light"
     },
     "output_type": "display_data"
    }
   ],
   "source": [
    "import cv2\n",
    "import matplotlib.pyplot as plt\n",
    "from PIL import Image\n",
    "\n",
    "def crop_image(img):\n",
    "    image=Image.open(img)\n",
    "    image.load()\n",
    "\n",
    "    image_data = np.asarray(image)\n",
    "    image_data_bw = image_data.max(axis=2)\n",
    "    non_empty_columns = np.where(image_data_bw.max(axis=0)>0)[0]\n",
    "    non_empty_rows = np.where(image_data_bw.max(axis=1)>0)[0]\n",
    "    cropBox = (min(non_empty_rows), max(non_empty_rows), min(non_empty_columns), max(non_empty_columns))\n",
    "\n",
    "    image_data_new = image_data[cropBox[0]:cropBox[1]+1, cropBox[2]:cropBox[3]+1 , :]\n",
    "\n",
    "    new_image = Image.fromarray(image_data_new)\n",
    "    new_image.save('croped' + img.split('.')[:-1][0] + '.png')\n",
    "    \n",
    "    return new_image\n",
    "\n",
    "\n",
    "def main():\n",
    "    img_name = '1_4.JPG'\n",
    "\n",
    "    img_crop = crop_image(img_name)\n",
    "    img = cv2.imread('croped' + img_name.split('.')[:-1][0] + '.png', cv2.IMREAD_UNCHANGED)\n",
    "    black_image = np.ones(img.shape) * 255\n",
    "    print black_image\n",
    "    print(abs(img-black_image))\n",
    "    plt.imshow(abs(img-black_image))\n",
    "\n",
    "main()\n"
   ]
  },
  {
   "cell_type": "code",
   "execution_count": 50,
   "metadata": {},
   "outputs": [
    {
     "ename": "error",
     "evalue": "OpenCV(4.1.2) /io/opencv/modules/imgproc/src/contours.cpp:197: error: (-210:Unsupported format or combination of formats) [Start]FindContours supports only CV_8UC1 images when mode != CV_RETR_FLOODFILL otherwise supports CV_32SC1 images only in function 'cvStartFindContours_Impl'\n",
     "output_type": "error",
     "traceback": [
      "\u001b[0;31m---------------------------------------------------------------------------\u001b[0m",
      "\u001b[0;31merror\u001b[0m                                     Traceback (most recent call last)",
      "\u001b[0;32m<ipython-input-50-b95a2228441e>\u001b[0m in \u001b[0;36m<module>\u001b[0;34m()\u001b[0m\n\u001b[1;32m     25\u001b[0m \u001b[0mimg\u001b[0m \u001b[0;34m=\u001b[0m \u001b[0mcv\u001b[0m\u001b[0;34m.\u001b[0m\u001b[0mimread\u001b[0m\u001b[0;34m(\u001b[0m\u001b[0;34m'croped'\u001b[0m \u001b[0;34m+\u001b[0m \u001b[0mimg_name\u001b[0m\u001b[0;34m.\u001b[0m\u001b[0msplit\u001b[0m\u001b[0;34m(\u001b[0m\u001b[0;34m'.'\u001b[0m\u001b[0;34m)\u001b[0m\u001b[0;34m[\u001b[0m\u001b[0;34m:\u001b[0m\u001b[0;34m-\u001b[0m\u001b[0;36m1\u001b[0m\u001b[0;34m]\u001b[0m\u001b[0;34m[\u001b[0m\u001b[0;36m0\u001b[0m\u001b[0;34m]\u001b[0m \u001b[0;34m+\u001b[0m \u001b[0;34m'.png'\u001b[0m\u001b[0;34m,\u001b[0m \u001b[0mcv2\u001b[0m\u001b[0;34m.\u001b[0m\u001b[0mIMREAD_UNCHANGED\u001b[0m\u001b[0;34m)\u001b[0m\u001b[0;34m\u001b[0m\u001b[0;34m\u001b[0m\u001b[0m\n\u001b[1;32m     26\u001b[0m \u001b[0;34m\u001b[0m\u001b[0m\n\u001b[0;32m---> 27\u001b[0;31m \u001b[0mcontours\u001b[0m\u001b[0;34m,\u001b[0m \u001b[0mhierarchy\u001b[0m \u001b[0;34m=\u001b[0m \u001b[0mcv\u001b[0m\u001b[0;34m.\u001b[0m\u001b[0mfindContours\u001b[0m\u001b[0;34m(\u001b[0m\u001b[0mimg\u001b[0m\u001b[0;34m,\u001b[0m \u001b[0mcv\u001b[0m\u001b[0;34m.\u001b[0m\u001b[0mRETR_TREE\u001b[0m\u001b[0;34m,\u001b[0m \u001b[0mcv\u001b[0m\u001b[0;34m.\u001b[0m\u001b[0mCHAIN_APPROX_SIMPLE\u001b[0m\u001b[0;34m)\u001b[0m\u001b[0;34m\u001b[0m\u001b[0;34m\u001b[0m\u001b[0m\n\u001b[0m\u001b[1;32m     28\u001b[0m \u001b[0msize\u001b[0m\u001b[0;34m=\u001b[0m\u001b[0mlen\u001b[0m\u001b[0;34m(\u001b[0m\u001b[0mcontours\u001b[0m\u001b[0;34m)\u001b[0m\u001b[0;34m\u001b[0m\u001b[0;34m\u001b[0m\u001b[0m\n\u001b[1;32m     29\u001b[0m \u001b[0;32mfor\u001b[0m \u001b[0mi\u001b[0m \u001b[0;32min\u001b[0m \u001b[0mrange\u001b[0m\u001b[0;34m(\u001b[0m\u001b[0;36m0\u001b[0m\u001b[0;34m,\u001b[0m\u001b[0msize\u001b[0m\u001b[0;34m)\u001b[0m\u001b[0;34m:\u001b[0m\u001b[0;34m\u001b[0m\u001b[0;34m\u001b[0m\u001b[0m\n",
      "\u001b[0;31merror\u001b[0m: OpenCV(4.1.2) /io/opencv/modules/imgproc/src/contours.cpp:197: error: (-210:Unsupported format or combination of formats) [Start]FindContours supports only CV_8UC1 images when mode != CV_RETR_FLOODFILL otherwise supports CV_32SC1 images only in function 'cvStartFindContours_Impl'\n"
     ]
    }
   ],
   "source": [
    "import cv2 as cv\n",
    "import matplotlib.pyplot as plt\n",
    "from PIL import Image\n",
    "\n",
    "def crop_image(img):\n",
    "    image=Image.open(img)\n",
    "    image.load()\n",
    "\n",
    "    image_data = np.asarray(image)\n",
    "    image_data_bw = image_data.max(axis=2)\n",
    "    non_empty_columns = np.where(image_data_bw.max(axis=0)>0)[0]\n",
    "    non_empty_rows = np.where(image_data_bw.max(axis=1)>0)[0]\n",
    "    cropBox = (min(non_empty_rows), max(non_empty_rows), min(non_empty_columns), max(non_empty_columns))\n",
    "\n",
    "    image_data_new = image_data[cropBox[0]:cropBox[1]+1, cropBox[2]:cropBox[3]+1 , :]\n",
    "\n",
    "    new_image = Image.fromarray(image_data_new)\n",
    "    new_image.save('croped' + img.split('.')[:-1][0] + '.png')\n",
    "    \n",
    "    return new_image\n",
    "\n",
    "img_name = '1_4.JPG'\n",
    "\n",
    "img_crop = crop_image(img_name)\n",
    "img = cv.imread('croped' + img_name.split('.')[:-1][0] + '.png', cv2.IMREAD_UNCHANGED)\n",
    "\n",
    "contours, hierarchy = cv.findContours(img, cv.RETR_TREE, cv.CHAIN_APPROX_SIMPLE)\n",
    "size=len(contours)\n",
    "for i in range(0,size):\n",
    "    #Calcul de l'aire de la zone\n",
    "    diceContourArea = cv.contourArea(contours[i])\n",
    "    print(diceContourArea)\n",
    "    if diceContourArea>7000 and diceContourArea<15000:\n",
    "        print(diceContourArea)\n",
    "        x,y,w,h=cv.boundingRect(contours[i])#calcul des coordonnées de la zone\n",
    "        cv.rectangle(demo,(x,y),(x+w,y+h),(255,255,0),2)#affiche les rectangles sur l'image binaire\n",
    "        diceROI = img1_g[y:y+h,x:x+w]#extraction de la zone sur l'image"
   ]
  },
  {
   "cell_type": "code",
   "execution_count": 9,
   "metadata": {},
   "outputs": [
    {
     "data": {
      "text/plain": [
       "<matplotlib.image.AxesImage at 0x7fa32315e790>"
      ]
     },
     "execution_count": 9,
     "metadata": {},
     "output_type": "execute_result"
    },
    {
     "data": {
      "image/png": "[encoded data removed]",
      "text/plain": [
       "<Figure size 432x288 with 1 Axes>"
      ]
     },
     "metadata": {
      "needs_background": "light"
     },
     "output_type": "display_data"
    }
   ],
   "source": [
    "#########################################################\n",
    "#CODE ACTUEL\n",
    "###############################################\n",
    "import numpy as np\n",
    "import cv2 as cv\n",
    "import matplotlib.pyplot as plt\n",
    "from scipy import ndimage\n",
    "import csv\n",
    "\n",
    "im = cv.imread('1_4.JPG', 0)\n",
    "img = cv.imread('1_4.JPG')\n",
    "\n",
    "\n",
    "inutile, thresh = cv.threshold(im, 225, 255, cv.THRESH_BINARY_INV)\n",
    "imgBGR = cv.cvtColor(im, cv.COLOR_GRAY2BGR)\n",
    "\n",
    "#imgray = cv.cvtColor(im, cv.COLOR_BGR2GRAY)\n",
    "#ret2, thresh = cv.threshold(im[1::], 127, 255, cv.THRESH_BINARY + cv.THRESH_OTSU)\n",
    "\n",
    "#imgray = cv.cvtColor(im, cv.COLOR_BGR2GRAY)\n",
    "#ret, thresh = cv.threshold(imgray, 127, 255, 0)\n",
    "contours, hierarchy = cv.findContours(thresh, cv.RETR_TREE, cv.CHAIN_APPROX_SIMPLE)\n",
    "#plt.imshow(im, cmap='gray')\n",
    "\n",
    "\n",
    "size=len(contours)\n",
    "for i in range(0,size):\n",
    "    #Calcul de l'aire de la zone\n",
    "    diceContourArea = cv.contourArea(contours[i])\n",
    "    #print(diceContourArea)\n",
    "    if diceContourArea>20 and diceContourArea<250:\n",
    "        #print(diceContourArea)\n",
    "        \n",
    "        \n",
    "  \n",
    "        \n",
    "        #rect = cv.minAreaRect(contours[i])\n",
    "        #box = cv.boxPoints(rect)\n",
    "        #box = np.int0(box)\n",
    "        #cv.drawContours(imgBGR,[box],0,(0,0,255),2)\n",
    "        \n",
    "        \n",
    "        x,y,w,h=cv.boundingRect(contours[i])#calcul des coordonnées de la zone\n",
    "        cv.rectangle(imgBGR,(x,y),(x+w,y+h),(255,255,0),2)#affiche les rectangles sur l'image binaire\n",
    "        diceROI = thresh[y-2:y+h+2,x-2:x+w+2]#extraction de la zone sur l'image\n",
    "#inutile, threshFinal = cv.threshold(imgBGR, 225, 255, cv.THRESH_BINARY_INV)        \n",
    "\n",
    "\n",
    "#inutile2, threshFinal = cv.threshold(diceROI, 225, 255, cv.THRESH_BINARY_INV)   \n",
    "#plt.imshow(diceROI, cmap='gray')\n",
    "\n",
    "#print int(ndimage.measurements.center_of_mass(diceROI)[0])\n",
    "#print int(ndimage.measurements.center_of_mass(diceROI)[1])\n",
    "\n",
    "centre_h, centre_w = ndimage.measurements.center_of_mass(diceROI)\n",
    "h, w = diceROI.shape\n",
    "n = 56\n",
    "black_image = np.zeros((n,n))\n",
    "\n",
    "black_image[(n-h)/2:((n-h)/2)+h,(n-w)/2:((n-w)/2)+w] = diceROI \n",
    "\n",
    "\n",
    "#plt.imshow(black_image, cmap='gray')\n",
    "scale_percent = 50 # percent of original size\n",
    "width = int(black_image.shape[1] * scale_percent / 100)\n",
    "height = int(black_image.shape[0] * scale_percent / 100)\n",
    "dim = (width, height)\n",
    "# resize image\n",
    "resized = cv.resize(black_image, dim, interpolation = cv.INTER_AREA)\n",
    "#sortie = cv.resize(diceROI, None, fx = int(diceROI.shape[0]/20), fy = int(diceROI.shape[1]/20), interpolation = cv.INTER_CUBIC)\n",
    "\n",
    "A = np.asarray(resized).reshape(-1)\n",
    "\n",
    "row = []\n",
    "for result in A:\n",
    "    row.append(result)\n",
    "\n",
    "row.append(float(1.0))\n",
    "\n",
    "with open('test.csv', \"wb\") as file:\n",
    "    writer = csv.writer(file)\n",
    "    writer.writerow(row)\n",
    "\n",
    "'''\n",
    "\n",
    "line = ''\n",
    "\n",
    "for i in range(resized.shape[0]):\n",
    "    for j in range(resized.shape[1]):\n",
    "        line = line + float(resized[i][j]) + ','\n",
    "\n",
    "line = line.replace(\" \",\"\")\n",
    "\n",
    "print \"test\"\n",
    "print line.count(\" \")\n",
    "\n",
    "with open('test.csv', 'w') as csvfile:\n",
    "    spamwriter = csv.writer(csvfile, delimiter=',', quotechar='|', quoting=csv.QUOTE_MINIMAL)\n",
    "    spamwriter.writerow(line)\n",
    "print 'done'\n",
    "'''\n",
    "plt.imshow(resized, cmap='gray')"
   ]
  },
  {
   "cell_type": "code",
   "execution_count": 46,
   "metadata": {},
   "outputs": [
    {
     "name": "stdout",
     "output_type": "stream",
     "text": [
      "JPEG (87, 86) RGB\n",
      "PNG (224, 223) RGBA\n",
      "None (87, 86) RGBA\n",
      "None (87, 86) RGBA\n",
      "(42.854649878506734, 42.92312789927104, 3.0)\n"
     ]
    },
    {
     "data": {
      "image/png": "[encoded data removed]",
      "text/plain": [
       "<Figure size 432x288 with 1 Axes>"
      ]
     },
     "metadata": {
      "needs_background": "light"
     },
     "output_type": "display_data"
    }
   ],
   "source": [
    "import matplotlib.pyplot as plt\n",
    "from PIL import Image\n",
    "import numpy as np\n",
    "from scipy import ndimage\n",
    "\n",
    "img1 = Image.open(\"1_4.JPG\")\n",
    "# affichage des caractéristiques de l'image\n",
    "print img1.format,img1.size, img1.mode\n",
    "\n",
    "img2 = Image.open('1.png')\n",
    "print img2.format,img2.size, img2.mode\n",
    "\n",
    "#img3 = Image.open('resized_image.jpg')\n",
    "#print img3.format,img3.size, img3.mode\n",
    "\n",
    "#img_numpy3 = np.array(img3)\n",
    "#center_of_mass = img_numpy3.mean(axis=0)\n",
    "#print center_of_mass\n",
    "\n",
    "def info_image(image):\n",
    "    print('size= ' + image.size())\n",
    "\n",
    "def change_black_white(image):\n",
    "\n",
    "    w,h = image.size\n",
    "    new_image = Image.new(\"RGBA\", (w, h))\n",
    "    \n",
    "    for i in range(w):\n",
    "        for j in range(h):\n",
    "            r,g,b = image.getpixel((i,j))\n",
    "            new_r = abs(r-255)\n",
    "            new_g = abs(g-255)\n",
    "            new_b = abs(b-255)\n",
    "            new_px = (new_r, new_g, new_b)\n",
    "            new_image.putpixel((i,j), new_px)\n",
    "    return new_image\n",
    "\n",
    "def change_background(image):\n",
    "    limit = 245\n",
    "    w,h = image.size\n",
    "    new_image = Image.new(\"RGBA\", (w, h))\n",
    "    for i in reversed(range(w)):\n",
    "        for j in reversed(range(h)):\n",
    "            r = image.getpixel((i,j))[0]\n",
    "            g = image.getpixel((i,j))[1]\n",
    "            b = image.getpixel((i,j))[2]\n",
    "            if(r > limit and g > limit and b > limit):\n",
    "                new_px = (0,0,0)\n",
    "            else:\n",
    "                break\n",
    "            new_image.putpixel((i,j), new_px)\n",
    "    \n",
    "    for i in range(w):\n",
    "        for j in range(h):\n",
    "            r = image.getpixel((i,j))[0]\n",
    "            g = image.getpixel((i,j))[1]\n",
    "            b = image.getpixel((i,j))[2]\n",
    "            if(r > limit and g > limit and b > limit):\n",
    "                new_px = (0,0,0)\n",
    "            else:\n",
    "                break\n",
    "            new_image.putpixel((i,j), new_px)       \n",
    "    return new_image\n",
    "    \n",
    "def resize(image): \n",
    "    basewidth = 28\n",
    "    wpercent = (basewidth / float(image.size[0]))\n",
    "    hsize = int((float(image.size[1]) * float(wpercent)))\n",
    "    image = image.resize((basewidth, hsize), PIL.Image.ANTIALIAS)\n",
    "    #image.save('resized_image.jpg')\n",
    "    return image\n",
    "    \n",
    "#plt.imshow(img1)\n",
    "new_img1 = change_black_white(img1)\n",
    "plt.imshow(new_img1)\n",
    "print new_img1.format,new_img1.size, new_img1.mode\n",
    "new_img2 = change_background(new_img1)\n",
    "plt.imshow(new_img2)\n",
    "print new_img2.format,new_img2.size, new_img2.mode\n",
    "imgpy = np.array(new_img2)\n",
    "center_of_mass = ndimage.measurements.center_of_mass(imgpy)\n",
    "print center_of_mass\n",
    "\n",
    "#resized_image = resize(img)\n",
    "#plt.imshow(resized_image)\n",
    "#print resized_image.format,resized_image.size, resized_image.mode\n",
    "\n",
    "import csv\n",
    "\n",
    "#with open('test.csv', 'r') as csvfile:\n",
    "#    spamreader = csv.reader(csvfile, delimiter = ',', quotechar = '|', quoting = csv.QUOTE_NONNUMERIC)\n",
    "#    for i in im:\n",
    "#        digits.append(Digit(np.array(row[:-1]), row[-1]))\n",
    "\n",
    "#with open('test.csv', 'w') as csvfile:\n",
    "#    spamwriter = csv.writer(csvfile, delimiter=' ', quotechar='|', quoting=csv.QUOTE_MINIMAL)\n",
    "#    spamwriter.writerow(im)\n",
    "    "
   ]
  },
  {
   "cell_type": "code",
   "execution_count": 3,
   "metadata": {},
   "outputs": [
    {
     "name": "stdout",
     "output_type": "stream",
     "text": [
      "True\n",
      "True\n",
      "True\n",
      "True\n",
      "True\n"
     ]
    }
   ],
   "source": [
    "from PIL import Image\n",
    "\n",
    "def is_grey_scale(img_path):\n",
    "    img = Image.open(img_path).convert('RGB')\n",
    "    w,h = img.size\n",
    "    for i in range(w):\n",
    "        for j in range(h):\n",
    "            r,g,b = img.getpixel((i,j))\n",
    "            if r != g != b: return False\n",
    "    return True\n",
    "\n",
    "print is_grey_scale('0.png')\n",
    "print is_grey_scale('1.png')\n",
    "print is_grey_scale('2.png')\n",
    "print is_grey_scale('3.png')\n",
    "print is_grey_scale('1_4.JPG')"
   ]
  },
  {
   "cell_type": "code",
   "execution_count": 6,
   "metadata": {},
   "outputs": [
    {
     "name": "stdout",
     "output_type": "stream",
     "text": [
      "(223, 224, 4)\n",
      "float32\n"
     ]
    },
    {
     "data": {
      "image/png": "[encoded data removed]",
      "text/plain": [
       "<Figure size 432x288 with 1 Axes>"
      ]
     },
     "metadata": {
      "needs_background": "light"
     },
     "output_type": "display_data"
    },
    {
     "name": "stdout",
     "output_type": "stream",
     "text": [
      "(223, 224, 4)\n"
     ]
    }
   ],
   "source": [
    "import imageio\n",
    "import numpy\n",
    "from matplotlib.pyplot import *\n",
    "img = imread(\"1.png\")\n",
    "\n",
    "print(img.shape)\n",
    "print(img.dtype)\n",
    "\n",
    "import numpy as np\n",
    "import matplotlib.pyplot as plt\n",
    "import matplotlib.image as mpimg\n",
    "\n",
    "def rgb2gray(rgb):\n",
    "    return np.dot(rgb[...,:3], [0.2989, 0.5870, 0.1140])\n",
    "\n",
    "img2 = mpimg.imread('1.png')     \n",
    "gray = rgb2gray(img2)    \n",
    "plt.imshow(gray, cmap=plt.get_cmap('gray'), vmin=0, vmax=1)\n",
    "plt.show()\n",
    "\n",
    "print img2.shape\n",
    "\n"
   ]
  },
  {
   "cell_type": "code",
   "execution_count": 3,
   "metadata": {},
   "outputs": [],
   "source": [
    "class Digit:\n",
    "    def __init__(self, data, target):\n",
    "        self.target = target\n",
    "        self.width  = int(np.sqrt(len(data)))\n",
    "        self.image  = data.reshape(self.width, self.width)\n",
    "        self.features = {'var' : 0,\n",
    "                         'std' : 0,\n",
    "                         'mean_grad_M' : 0,\n",
    "                         'std_grad_M'  : 0,\n",
    "                         'mean_grad_D' : 0,\n",
    "                         'std_grad_D'  : 0,\n",
    "                         'mean_PC_X'   : 0,\n",
    "                         'std_PC_X'    : 0,\n",
    "                         'active_PC_X' : 0,\n",
    "                         'mean_PC_Y'   : 0,\n",
    "                         'std_PC_Y'    : 0,\n",
    "                         'active_PC_Y' : 0}\n",
    "        self.computeFeatures()\n",
    "    \n",
    "    def computeFeatures(self):\n",
    "        # Feature computation\n",
    "        mag, ang = sobel(self.image)\n",
    "        pcx, pcy = pixel_count(self.image)\n",
    "        \n",
    "        self.features['var'] = np.var(self.image)\n",
    "        self.features['std'] = np.std(self.image)\n",
    "        self.features['mean_grad_M'] = np.mean(mag)\n",
    "        self.features['std_grad_M'] =  np.std(mag)\n",
    "        self.features['mean_grad_D'] = np.mean(ang)\n",
    "        self.features['std_grad_D'] =  np.std(ang)\n",
    "        self.features['mean_PC_X'] =   np.mean(pcx)\n",
    "        self.features['std_PC_X'] =    np.std(pcx)\n",
    "        self.features['active_PC_X'] = np.count_nonzero(pcx)\n",
    "        self.features['mean_PC_Y'] =   np.mean(pcy)\n",
    "        self.features['std_PC_Y'] =    np.std(pcy)\n",
    "        self.features['active_PC_Y'] = np.count_nonzero(pcy) \n",
    "  \n",
    "    def __print__(self):\n",
    "        print(\"Digit target: \"+str(self.target))\n",
    "        print(\"Digit features:\")\n",
    "        print(self.features)\n",
    "        print(\"Digit image:\")\n",
    "        plt.gray()\n",
    "        plt.matshow(self.image) \n",
    "        plt.show() "
   ]
  },
  {
   "cell_type": "markdown",
   "metadata": {},
   "source": [
    "#### **Feature extraction functions**\n",
    "\n",
    "In this question, you will have to implement the **sobel(image)** operator to compute the image gradients. The Sobel filter kernels are given, and the expected return values is an array containing both the gradient magnitude image and the gradient angular direction image.\n",
    "\n",
    "The second function to implement is **pixel_count(image)**, which computes 2 arrays respectively containing the number of non zeros pixel in each row or columns, and returns them."
   ]
  },
  {
   "cell_type": "code",
   "execution_count": 4,
   "metadata": {},
   "outputs": [],
   "source": [
    "def sobel(image):\n",
    "    w = len(image)\n",
    "    kernel_x = np.array([ [ 1, 0,-1],\n",
    "                          [ 2, 0,-2],\n",
    "                          [ 1, 0,-1] ])\n",
    "\n",
    "    kernel_y = np.array([ [ 1, 2, 1],\n",
    "                          [ 0, 0, 0],\n",
    "                          [-1,-2,-1] ])\n",
    "    \n",
    "    grad_x = np.zeros([w - 2, w - 2])\n",
    "    grad_y = np.zeros([w - 2, w - 2])\n",
    "    \n",
    "    for i in range(w - 2):\n",
    "        for j in range(w - 2):\n",
    "            grad_x[i, j] = sum(sum(image[i : i + 3, j : j + 3] * kernel_x))\n",
    "            grad_y[i, j] = sum(sum(image[i : i + 3, j : j + 3] * kernel_y))\n",
    "            if grad_x[i, j] == 0:\n",
    "                grad_x[i, j] = 0.000001\n",
    "    \n",
    "    mag = np.sqrt(grad_y ** 2 + grad_x ** 2)\n",
    "    ang = np.arctan(grad_y / (grad_x + np.finfo(float).eps))\n",
    "  \n",
    "    # Gradient computation\n",
    "  \n",
    "    return [mag,ang]\n",
    "\n",
    "def pixel_count(image):\n",
    "    pc_x = np.zeros(len(image))\n",
    "    pc_y = np.zeros(len(image))\n",
    "  \n",
    "    # Pixel count computation\n",
    "    for i in range(len(image)):\n",
    "        pc_x[i] = np.count_nonzero(image[i, :])\n",
    "        pc_y[i] = np.count_nonzero(image[:, i])\n",
    "\n",
    "    return [pc_x, pc_y]"
   ]
  },
  {
   "cell_type": "markdown",
   "metadata": {},
   "source": [
    "### **Dataset class**\n",
    "\n",
    "The next step is to create a Dataset class\n",
    "\n",
    "#### **Attributes**\n",
    "\n",
    "* ***filename***: the name of the csv file containing the dataset raw data \n",
    "* ***length***: the desired length of the dataset\n",
    "* ***digits***: the array containing the different Digit objects\n",
    "* ***raw_features***: the array containing the features of each digit of the dataset, necessary to interface the class with the scikit-learn framework\n",
    "* ***raw_targets***: the array containing the target of each digit of the dataset, necessary to interface the class with the scikit-learn framework\n",
    "\n",
    "#### **Methods**\n",
    "\n",
    "* ***\\_\\_init\\_\\_(self,filename,length)***: the given constructor, with length equal to -1 if the entire csv file is to be parsed\n",
    "* ***createDigits(self)***: the function parsing the csv file and creating digits object on the fly.\n",
    "\n",
    "The csv file containing the dataset is organized so that each line contains one digit, i.e. its data and its target &Rightarrow; row #1, row #2, ..., row #N, target\n"
   ]
  },
  {
   "cell_type": "code",
   "execution_count": 5,
   "metadata": {},
   "outputs": [],
   "source": [
    "class Dataset:\n",
    "    def __init__(self, filename, length):  \n",
    "        self.filename = filename\n",
    "        if length == -1:\n",
    "            with open(self.filename, 'r') as csvfile:\n",
    "                spamreader = csv.reader(csvfile, delimiter=',', quotechar='|', quoting=csv.QUOTE_NONNUMERIC) \n",
    "                self.length = sum(1 for row in spamreader)\n",
    "        else: \n",
    "            self.length = length\n",
    "            self.digits = []\n",
    "        self.digits = self.createDigits()\n",
    "        self.raw_features = [[float(f) for f in dig.features.values()] for dig in self.digits]\n",
    "        self.raw_targets  = [[self.digits[i].target] for i in range(self.length)]\n",
    "  \n",
    "    def createDigits(self):\n",
    "        # Parse the csv file row by row and create Digits on the fly\n",
    "        digits = []\n",
    "        with open(self.filename, 'r') as csvfile:\n",
    "            spamreader = csv.reader(csvfile, delimiter = ',', quotechar = '|', quoting = csv.QUOTE_NONNUMERIC)\n",
    "            for i, row in enumerate(spamreader):\n",
    "                if i == self.length: break\n",
    "                digits.append(Digit(np.array(row[:-1]), row[-1]))\n",
    "                \n",
    "        return digits\n",
    "    "
   ]
  },
  {
   "cell_type": "markdown",
   "metadata": {},
   "source": [
    "#### **Dataset Generation**\n",
    "\n",
    "Considering the long time necessary to compute the features of the entire dataset, it is recommended to only use a small part of the given csv file, although a large enough training set is necessary to train the model. The recommended values are 1800 and 600 for the training and testing sets, respectively."
   ]
  },
  {
   "cell_type": "code",
   "execution_count": 6,
   "metadata": {},
   "outputs": [
    {
     "name": "stdout",
     "output_type": "stream",
     "text": [
      "Creating training set\n",
      "\n",
      "Creating testing set\n"
     ]
    }
   ],
   "source": [
    "print(\"Creating training set\")\n",
    "training_set = Dataset(\"mnist_trainset.csv\",1800)\n",
    "print(\"\\nCreating testing set\")\n",
    "testing_set = Dataset(\"mnist_testset.csv\", 1200)"
   ]
  },
  {
   "cell_type": "code",
   "execution_count": 7,
   "metadata": {},
   "outputs": [],
   "source": [
    "def cvt_obj_nparray(dataset):\n",
    "    X = np.zeros((dataset.length, 12))\n",
    "    Y = np.zeros((dataset.length,))\n",
    "    for i, digit in enumerate(dataset.digits):\n",
    "        Y[i] = digit.target\n",
    "        for j, feature in enumerate(digit.features):\n",
    "            X[i, j] = digit.features[feature]\n",
    "    return X, Y\n",
    "\n",
    "Xtrain, Ytrain = cvt_obj_nparray(training_set)\n",
    "Xtest, Ytest = cvt_obj_nparray(testing_set)"
   ]
  },
  {
   "cell_type": "markdown",
   "metadata": {},
   "source": [
    "##### **Feature computation verification**\n",
    "\n",
    "Verify that the features have been correctly computed before continuing the lab."
   ]
  },
  {
   "cell_type": "code",
   "execution_count": 8,
   "metadata": {},
   "outputs": [
    {
     "name": "stdout",
     "output_type": "stream",
     "text": [
      "Digit target: 0.0\n",
      "Digit features:\n",
      "{'std_grad_M': 372.9837221157599, 'mean_grad_D': 0.1350201411194137, 'std_grad_D': 0.5264247792746108, 'var': 7037.055391959078, 'active_PC_X': 20, 'active_PC_Y': 17, 'std': 83.88715868331147, 'std_PC_X': 4.406627661482052, 'std_PC_Y': 5.195170441705194, 'mean_grad_M': 257.3706853235086, 'mean_PC_Y': 6.285714285714286, 'mean_PC_X': 6.285714285714286}\n",
      "Digit image:\n"
     ]
    },
    {
     "data": {
      "text/plain": [
       "<Figure size 432x288 with 0 Axes>"
      ]
     },
     "metadata": {},
     "output_type": "display_data"
    },
    {
     "data": {
      "image/png": "[encoded data removed]",
      "text/plain": [
       "<Figure size 288x288 with 1 Axes>"
      ]
     },
     "metadata": {
      "needs_background": "light"
     },
     "output_type": "display_data"
    },
    {
     "name": "stdout",
     "output_type": "stream",
     "text": [
      "Digit target: 1.0\n",
      "Digit features:\n",
      "{'std_grad_M': 306.81006153923676, 'mean_grad_D': 0.10560491834878581, 'std_grad_D': 0.31126414849096434, 'var': 4366.419276798731, 'active_PC_X': 20, 'active_PC_Y': 14, 'std': 66.0788867702743, 'std_PC_X': 2.226922466874271, 'std_PC_Y': 3.7170319517879102, 'mean_grad_M': 142.97128145792678, 'mean_PC_Y': 3.4285714285714284, 'mean_PC_X': 3.4285714285714284}\n",
      "Digit image:\n"
     ]
    },
    {
     "data": {
      "text/plain": [
       "<Figure size 432x288 with 0 Axes>"
      ]
     },
     "metadata": {},
     "output_type": "display_data"
    },
    {
     "data": {
      "image/png": "[encoded data removed]",
      "text/plain": [
       "<Figure size 288x288 with 1 Axes>"
      ]
     },
     "metadata": {
      "needs_background": "light"
     },
     "output_type": "display_data"
    },
    {
     "name": "stdout",
     "output_type": "stream",
     "text": [
      "Digit target: 2.0\n",
      "Digit features:\n",
      "{'std_grad_M': 361.55602692676496, 'mean_grad_D': 0.13918495096626818, 'std_grad_D': 0.6278324698587836, 'var': 6577.969984837047, 'active_PC_X': 18, 'active_PC_Y': 20, 'std': 81.10468534454127, 'std_PC_X': 5.90312957468411, 'std_PC_Y': 5.410684818401607, 'mean_grad_M': 248.8531143647334, 'mean_PC_Y': 6.714285714285714, 'mean_PC_X': 6.714285714285714}\n",
      "Digit image:\n"
     ]
    },
    {
     "data": {
      "text/plain": [
       "<Figure size 432x288 with 0 Axes>"
      ]
     },
     "metadata": {},
     "output_type": "display_data"
    },
    {
     "data": {
      "image/png": "[encoded data removed]",
      "text/plain": [
       "<Figure size 288x288 with 1 Axes>"
      ]
     },
     "metadata": {
      "needs_background": "light"
     },
     "output_type": "display_data"
    }
   ],
   "source": [
    "for i in range(3):\n",
    "    training_set.digits[i].__print__()"
   ]
  },
  {
   "cell_type": "markdown",
   "metadata": {},
   "source": [
    "#### **Classifier Training**\n",
    "\n",
    "In this section, you will have to initialize a Decision Tree classifier and train it with the generated training set. As a first step, set the **maximum depth** of the Decision Tree **equal to 2**.\n",
    "\n",
    "To quickly assess the quality of the trained model, you will compute the prediction accuracy on both the training and testing datasets.\n",
    "\n",
    "*Useful functions &Rightarrow; DecisionTreeClassifier and DecisionTreeClassifier.fit()*"
   ]
  },
  {
   "cell_type": "code",
   "execution_count": 9,
   "metadata": {},
   "outputs": [
    {
     "name": "stdout",
     "output_type": "stream",
     "text": [
      "Training classifier\n",
      "Score on training set: 0.814444444444\n",
      "Score on testing set: 0.804166666667\n"
     ]
    }
   ],
   "source": [
    "from sklearn.tree import DecisionTreeClassifier\n",
    "# Decision Tree initialization\n",
    "clf = DecisionTreeClassifier(random_state = 0, max_depth = 2)\n",
    "\n",
    "print(\"Training classifier\")\n",
    "# Training Decision Tree\n",
    "clf.fit(Xtrain, Ytrain)\n",
    "\n",
    "acc_train = clf.score(Xtrain, Ytrain)\n",
    "print(\"Score on training set: {}\".format(acc_train))\n",
    "# Compute prediction accuracy on training set\n",
    "\n",
    "acc_test = clf.score(Xtest, Ytest)\n",
    "print(\"Score on testing set: {}\".format(acc_test))\n",
    "# Compute prediction accuracy on testing set"
   ]
  },
  {
   "cell_type": "markdown",
   "metadata": {},
   "source": [
    "##### **Parameter tuning**\n",
    "\n",
    "In any machine learning problem, tuning the parameters defining the classifier model is an important step. In our simple classification problem, we will only study the optimal maximum_depth of the decision tree. In this cell, test various values for the depth of the tree, and display the accuracy on both training and testing datasets as a function of the depth.\n",
    "\n",
    "*Useful functions &Rightarrow; plt.plot(), plt.title(), plt.xlabel(), plt.ylabel(), plt.legend()*"
   ]
  },
  {
   "cell_type": "code",
   "execution_count": 10,
   "metadata": {},
   "outputs": [
    {
     "data": {
      "image/png": "[encoded data removed]",
      "text/plain": [
       "<Figure size 1152x576 with 1 Axes>"
      ]
     },
     "metadata": {
      "needs_background": "light"
     },
     "output_type": "display_data"
    }
   ],
   "source": [
    "# Model training and accuracy computation for different maximum_depth parameters\n",
    "tree_depth = [i for i in range(2, 30)]\n",
    "accs_train = []\n",
    "accs_test  = []\n",
    "\n",
    "for depth in tree_depth:\n",
    "    clf = DecisionTreeClassifier(random_state = 0, max_depth = depth)\n",
    "    clf.fit(Xtrain, Ytrain)\n",
    "    accs_train.append(clf.score(Xtrain, Ytrain))\n",
    "    accs_test.append(clf.score(Xtest, Ytest))\n",
    "plt.figure(figsize=(16, 8))\n",
    "\n",
    "# Draw accuracies as a function of the depth for both trainin and testing sets\n",
    "plt.plot(tree_depth, accs_train, label = 'Train Accuracy')\n",
    "plt.plot(tree_depth, accs_test,  label = 'Test Accuracy')\n",
    "plt.ylabel('Accuracy')\n",
    "plt.xlabel('Tree Depth')\n",
    "plt.legend()\n",
    "plt.xticks(tree_depth)\n",
    "plt.show()  "
   ]
  },
  {
   "cell_type": "code",
   "execution_count": 11,
   "metadata": {},
   "outputs": [
    {
     "data": {
      "text/plain": [
       "8"
      ]
     },
     "execution_count": 11,
     "metadata": {},
     "output_type": "execute_result"
    }
   ],
   "source": [
    "tree_depth[np.argmax(accs_test)]"
   ]
  },
  {
   "cell_type": "markdown",
   "metadata": {},
   "source": [
    "##### **Analysis of the trained model**\n",
    "\n",
    "Once you have found the depth value offering the best trade-off between complexity and accuracy, retrain your final model that will be analyzed in the remaining of the lab.\n",
    "\n",
    "To further analyze the performances or your model, a useful tool for a classification problem is the confusion matrix. This allows you to quickly assess the quality of your model by displaying the amount of each possible prediction outcome, the diagonal cells corresponding to accurate predictions while other cells correspond to prediction errors.\n",
    "\n",
    "The code of the function to plot this confusion matrix is given in a cell at the end of the notebook (simply run the cell to use the function).\n",
    "\n",
    "Parameters to give to the **plot_confusion_matrix** function:\n",
    "* confusion matrix (obtained with the confusion_matrix matrix from module sklearn.metrics)\n",
    "* list of class labels\n",
    "* title of the figure plot\n",
    "\n",
    "*Useful functions &Rightarrow; DecisionTreeClassifier.predict() and confusion_matrix()*"
   ]
  },
  {
   "cell_type": "code",
   "execution_count": 14,
   "metadata": {},
   "outputs": [],
   "source": [
    "opt_clf = DecisionTreeClassifier(random_state = 0, max_depth = 8)\n",
    "opt_clf.fit(Xtrain, Ytrain)\n",
    "Ypred_train = opt_clf.predict(Xtrain)\n",
    "Ypred_test = opt_clf.predict(Xtest)"
   ]
  },
  {
   "cell_type": "code",
   "execution_count": 48,
   "metadata": {},
   "outputs": [
    {
     "name": "stdout",
     "output_type": "stream",
     "text": [
      "3.0\n"
     ]
    }
   ],
   "source": [
    "count = 0\n",
    "\n",
    "for diff in (Ypred_test[1:1000] - Ypred_train[1:1000]):\n",
    "    if diff == 0:\n",
    "        count = count +1\n",
    "\n",
    "print(float(count / 100))\n"
   ]
  },
  {
   "cell_type": "markdown",
   "metadata": {},
   "source": [
    "##### **plot_confusion_matrix**"
   ]
  },
  {
   "cell_type": "code",
   "execution_count": 11,
   "metadata": {},
   "outputs": [],
   "source": [
    "import itertools\n",
    "def plot_confusion_matrix(cm, classes,title='Confusion matrix',cmap=plt.cm.Blues):\n",
    "    plt.imshow(cm, interpolation='nearest', cmap=cmap)\n",
    "    plt.title(title)\n",
    "    plt.colorbar()\n",
    "    tick_marks = np.arange(len(classes))\n",
    "    plt.xticks(tick_marks, classes, rotation=45)\n",
    "    plt.yticks(tick_marks, classes)\n",
    "\n",
    "    fmt = 'd'\n",
    "    thresh = cm.max() / 2.\n",
    "    for i, j in itertools.product(range(cm.shape[0]), range(cm.shape[1])):\n",
    "        plt.text(j, i, format(cm[i, j], fmt),\n",
    "                 horizontalalignment=\"center\",\n",
    "                 color=\"white\" if cm[i, j] > thresh else \"black\")\n",
    "\n",
    "    plt.ylabel('True label')\n",
    "    plt.xlabel('Predicted label')\n",
    "    plt.tight_layout()"
   ]
  },
  {
   "cell_type": "code",
   "execution_count": 12,
   "metadata": {},
   "outputs": [
    {
     "data": {
      "image/png": "[encoded data removed]",
      "text/plain": [
       "<Figure size 864x432 with 4 Axes>"
      ]
     },
     "metadata": {
      "needs_background": "light"
     },
     "output_type": "display_data"
    }
   ],
   "source": [
    "from sklearn.metrics import confusion_matrix\n",
    "\n",
    "class_names = ['Digit 0', 'Digit 1', 'Digit 2']\n",
    "plt.figure(figsize=(12,6))\n",
    "\n",
    "# Computation of confusion matrix on training set\n",
    "cm = confusion_matrix(Ytrain, Ypred_train)\n",
    "plt.subplot(121)\n",
    "plot_confusion_matrix(cm, classes=class_names,title='Confusion matrix, Training Set')\n",
    "\n",
    "# Computation of confusion matrix on testing set\n",
    "cm = confusion_matrix(Ytest, Ypred_test)\n",
    "plt.subplot(122)\n",
    "plot_confusion_matrix(cm, classes=class_names,title='Confusion matrix, Testing Set')\n",
    "plt.show()"
   ]
  },
  {
   "cell_type": "markdown",
   "metadata": {},
   "source": [
    "##### **Feature importance**\n",
    "\n",
    "Another important step in classical machine learning problems is to limit as much as possible the number of features in order to reduce the complexity of the model. To do so, since you already trained the classifier with all the computed features, you can simply assess the importance of each feature in the trained model. \n",
    "\n",
    "Each classifier has an attribute ***feature_importance*** that contains an array representing the importance of each feature. The importance represents the ability of the feature to split the dataset in a meaningful manner. A value close to 1 means that the feature is good to discriminate the classes comprising the dataset, while a value close to 0 shows that the feature has not been selected during the training process due to its poor splitting ability.\n",
    "\n",
    "\n",
    "In this cell, you will retrieve this information and generate a bar diagram with the feature names as bins and the feature importances as values.\n",
    "\n",
    "*Useful functions &Rightarrow; ax.bar(), ax.set_xticks(), ax.set_xticklabels() (usage &rightarrow; ax.set_xticklabels(label_list, rotation=45, ha='right'))*"
   ]
  },
  {
   "cell_type": "code",
   "execution_count": 14,
   "metadata": {},
   "outputs": [
    {
     "name": "stdout",
     "output_type": "stream",
     "text": [
      "[0.10143666 0.01485306 0.65580337 0.00584452 0.01330006 0.00795959\n",
      " 0.00819664 0.00827138 0.03090649 0.11432224 0.01548084 0.02362516]\n"
     ]
    }
   ],
   "source": [
    "importance = opt_clf.feature_importances_\n",
    "print(importance)"
   ]
  },
  {
   "cell_type": "code",
   "execution_count": 15,
   "metadata": {},
   "outputs": [
    {
     "data": {
      "text/plain": [
       "[Text(0,0,'std_grad_M'),\n",
       " Text(0,0,'mean_grad_D'),\n",
       " Text(0,0,'std_grad_D'),\n",
       " Text(0,0,'var'),\n",
       " Text(0,0,'active_PC_X'),\n",
       " Text(0,0,'active_PC_Y'),\n",
       " Text(0,0,'std'),\n",
       " Text(0,0,'std_PC_X'),\n",
       " Text(0,0,'std_PC_Y'),\n",
       " Text(0,0,'mean_grad_M'),\n",
       " Text(0,0,'mean_PC_Y'),\n",
       " Text(0,0,'mean_PC_X')]"
      ]
     },
     "execution_count": 15,
     "metadata": {},
     "output_type": "execute_result"
    },
    {
     "data": {
      "image/png": "[encoded data removed]",
      "text/plain": [
       "<Figure size 1152x288 with 1 Axes>"
      ]
     },
     "metadata": {
      "needs_background": "light"
     },
     "output_type": "display_data"
    }
   ],
   "source": [
    "bins = np.arange(len(training_set.digits[0].features))\n",
    "label_list = []\n",
    "for feature in training_set.digits[0].features:\n",
    "    label_list.append(feature)\n",
    "\n",
    "plt.figure(figsize=(16,4))\n",
    "ax = plt.subplot(111)\n",
    "ax.bar(bins, importance)\n",
    "ax.set_xticks(np.arange(len(label_list)))\n",
    "ax.set_yticks([])\n",
    "ax.set_xticklabels(label_list, rotation = 45, ha = 'right')\n",
    "# Display bar graph of feature importances with feature names as labels"
   ]
  },
  {
   "cell_type": "code",
   "execution_count": null,
   "metadata": {},
   "outputs": [],
   "source": []
  }
 ],
 "metadata": {
  "kernelspec": {
   "display_name": "Python 2",
   "language": "python",
   "name": "python2"
  },
  "language_info": {
   "codemirror_mode": {
    "name": "ipython",
    "version": 2
   },
   "file_extension": ".py",
   "mimetype": "text/x-python",
   "name": "python",
   "nbconvert_exporter": "python",
   "pygments_lexer": "ipython2",
   "version": "2.7.15+"
  }
 },
 "nbformat": 4,
 "nbformat_minor": 2
}
