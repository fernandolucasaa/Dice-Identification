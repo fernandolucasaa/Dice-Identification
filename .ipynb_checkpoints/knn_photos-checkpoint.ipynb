{
 "cells": [
  {
   "cell_type": "markdown",
   "metadata": {},
   "source": [
    "# **Number classification algorithm**"
   ]
  },
  {
   "cell_type": "markdown",
   "metadata": {},
   "source": [
    "# Read database\n",
    "\n",
    "Functions used to read the database (train and test) from MNIST and also from the csv file generated with the images captured from the pico camera"
   ]
  },
  {
   "cell_type": "code",
   "execution_count": 9,
   "metadata": {},
   "outputs": [],
   "source": [
    "import os\n",
    "import csv\n",
    "import numpy as np\n",
    "import matplotlib.pyplot as plt\n",
    "import itertools\n",
    "\n",
    "from sklearn.neighbors import KNeighborsClassifier\n",
    "from sklearn.metrics import accuracy_score\n",
    "from sklearn.metrics import confusion_matrix\n",
    "from sklearn.grid_search import RandomizedSearchCV\n",
    "from sklearn.grid_search import GridSearchCV"
   ]
  },
  {
   "cell_type": "code",
   "execution_count": 10,
   "metadata": {},
   "outputs": [],
   "source": [
    "class Digit:\n",
    "    def __init__(self, data, target):\n",
    "        self.target = target\n",
    "        self.width  = int(np.sqrt(len(data)))\n",
    "        self.image  = data.reshape(self.width, self.width)\n",
    "        self.features = {'var' : 0,\n",
    "                         'std' : 0,\n",
    "                         'mean_grad_M' : 0,\n",
    "                         'std_grad_M'  : 0,\n",
    "                         'mean_grad_D' : 0,\n",
    "                         'std_grad_D'  : 0,\n",
    "                         'mean_PC_X'   : 0,\n",
    "                         'std_PC_X'    : 0,\n",
    "                         'active_PC_X' : 0,\n",
    "                         'mean_PC_Y'   : 0,\n",
    "                         'std_PC_Y'    : 0,\n",
    "                         'active_PC_Y' : 0}\n",
    "        self.computeFeatures()\n",
    "    \n",
    "    def computeFeatures(self):\n",
    "        # Feature computation\n",
    "        mag, ang = sobel(self.image)\n",
    "        pcx, pcy = pixel_count(self.image)\n",
    "        \n",
    "        self.features['var'] = np.var(self.image)\n",
    "        self.features['std'] = np.std(self.image)\n",
    "        self.features['mean_grad_M'] = np.mean(mag)\n",
    "        self.features['std_grad_M'] =  np.std(mag)\n",
    "        self.features['mean_grad_D'] = np.mean(ang)\n",
    "        self.features['std_grad_D'] =  np.std(ang)\n",
    "        self.features['mean_PC_X'] =   np.mean(pcx)\n",
    "        self.features['std_PC_X'] =    np.std(pcx)\n",
    "        self.features['active_PC_X'] = np.count_nonzero(pcx)\n",
    "        self.features['mean_PC_Y'] =   np.mean(pcy)\n",
    "        self.features['std_PC_Y'] =    np.std(pcy)\n",
    "        self.features['active_PC_Y'] = np.count_nonzero(pcy) \n",
    "  \n",
    "    def __print__(self):\n",
    "        print(\"Digit target: \"+str(self.target))\n",
    "        print(\"Digit features:\")\n",
    "        print(self.features)\n",
    "        print(\"Digit image:\")\n",
    "        plt.gray()\n",
    "        plt.matshow(self.image) \n",
    "        plt.show()"
   ]
  },
  {
   "cell_type": "code",
   "execution_count": 11,
   "metadata": {},
   "outputs": [],
   "source": [
    "def sobel(image):\n",
    "    w = len(image)\n",
    "    kernel_x = np.array([ [ 1, 0,-1],\n",
    "                          [ 2, 0,-2],\n",
    "                          [ 1, 0,-1] ])\n",
    "\n",
    "    kernel_y = np.array([ [ 1, 2, 1],\n",
    "                          [ 0, 0, 0],\n",
    "                          [-1,-2,-1] ])\n",
    "    \n",
    "    grad_x = np.zeros([w - 2, w - 2])\n",
    "    grad_y = np.zeros([w - 2, w - 2])\n",
    "    \n",
    "    for i in range(w - 2):\n",
    "        for j in range(w - 2):\n",
    "            grad_x[i, j] = sum(sum(image[i : i + 3, j : j + 3] * kernel_x))\n",
    "            grad_y[i, j] = sum(sum(image[i : i + 3, j : j + 3] * kernel_y))\n",
    "            if grad_x[i, j] == 0:\n",
    "                grad_x[i, j] = 0.000001 \n",
    "    \n",
    "    mag = np.sqrt(grad_y ** 2 + grad_x ** 2)\n",
    "    ang = np.arctan(grad_y / (grad_x + np.finfo(float).eps))\n",
    "  \n",
    "    # Gradient computation\n",
    "  \n",
    "    return [mag,ang]\n",
    "\n",
    "def pixel_count(image):\n",
    "    pc_x = np.zeros(len(image))\n",
    "    pc_y = np.zeros(len(image))\n",
    "  \n",
    "    # Pixel count computation\n",
    "    for i in range(len(image)):\n",
    "        pc_x[i] = np.count_nonzero(image[i, :])\n",
    "        pc_y[i] = np.count_nonzero(image[:, i])\n",
    "\n",
    "    return [pc_x, pc_y]"
   ]
  },
  {
   "cell_type": "code",
   "execution_count": 12,
   "metadata": {},
   "outputs": [],
   "source": [
    "class Dataset:\n",
    "    def __init__(self, array, length):  \n",
    "        self.array = array\n",
    "        self.length = length\n",
    "        self.digits = []\n",
    "        self.digits = self.createDigits()\n",
    "        self.raw_features = [[float(f) for f in dig.features.values()] for dig in self.digits]\n",
    "        self.raw_targets  = [[self.digits[i].target] for i in range(self.length)]\n",
    "  \n",
    "    def createDigits(self):\n",
    "        digits = []\n",
    "        for row in self.array:\n",
    "            digits.append(Digit(np.array(row[:-1]), row[-1]))\n",
    "                \n",
    "        return digits"
   ]
  },
  {
   "cell_type": "code",
   "execution_count": 13,
   "metadata": {},
   "outputs": [
    {
     "name": "stdout",
     "output_type": "stream",
     "text": [
      "CPU times: user 4.64 ms, sys: 40.4 ms, total: 45.1 ms\n",
      "Wall time: 43.5 ms\n"
     ]
    }
   ],
   "source": [
    "%%time\n",
    "\n",
    "#Load the database (.npy) files \n",
    "img_array_train = np.load('train.npy')\n",
    "img_array_test = np.load('test.npy')\n",
    "img_array_validation = np.load('validation.npy')"
   ]
  },
  {
   "cell_type": "code",
   "execution_count": 14,
   "metadata": {},
   "outputs": [],
   "source": [
    "# n1 : percent of the number of lines in the data base use as training set\n",
    "# n2 : percent of the number of lines in the data base use as testing set\n",
    "# n2 : percent of the number of lines in the data base use as validation set\n",
    "def load_data_sets(n1, n2, n3):\n",
    "    \n",
    "    print(\"Creating training dataset\")\n",
    "    print(\"Number of the lines in the dataset: \" + str(len(img_array_train))) \n",
    "    print(\"Number of the lines in the training set: \"+ str(int(n1 * len(img_array_train))))\n",
    "    training_set = Dataset(img_array_train, int(n1 * len(img_array_train)))\n",
    "\n",
    "    print(\"\\nCreating testing dataset\")\n",
    "    print(\"Number of the lines in the dataset: \" + str(len(img_array_test)))\n",
    "\n",
    "    print (\"Number of the lines in the dataset: \" + str(int(n2 * len(img_array_test))))\n",
    "    testing_set = Dataset(img_array_test, int(n2 * len(img_array_test)))\n",
    "    \n",
    "    print(\"\\nCreating validation dataset\")\n",
    "    print(\"Number of the lines in the dataset: \" + str(len(img_array_validation)))\n",
    "\n",
    "    print (\"Number of the lines in the dataset: \" + str(int(n3 * len(img_array_validation))))\n",
    "    validation_set = Dataset(img_array_validation, int(n3 * len(img_array_validation)))\n",
    "\n",
    "    print (\"\\nFinished creating datasets\\n\")\n",
    "    \n",
    "    return training_set, testing_set, validation_set"
   ]
  },
  {
   "cell_type": "code",
   "execution_count": 15,
   "metadata": {},
   "outputs": [],
   "source": [
    "def cvt_obj_nparray(dataset):\n",
    "    X = np.zeros((dataset.length, 12))\n",
    "    Y = np.zeros((dataset.length,))\n",
    "    for i, digit in enumerate(dataset.digits):\n",
    "        Y[i] = digit.target\n",
    "        for j, feature in enumerate(digit.features):\n",
    "            X[i, j] = digit.features[feature]\n",
    "    return X, Y"
   ]
  },
  {
   "cell_type": "code",
   "execution_count": 16,
   "metadata": {},
   "outputs": [
    {
     "name": "stdout",
     "output_type": "stream",
     "text": [
      "Creating training dataset\n",
      "Number of the lines in the dataset: 5994\n",
      "Number of the lines in the training set: 5994\n",
      "\n",
      "Creating testing dataset\n",
      "Number of the lines in the dataset: 4662\n",
      "Number of the lines in the dataset: 4662\n",
      "\n",
      "Creating validation dataset\n",
      "Number of the lines in the dataset: 2664\n",
      "Number of the lines in the dataset: 2664\n",
      "\n",
      "Finished creating datasets\n",
      "\n",
      "CPU times: user 2min 42s, sys: 618 ms, total: 2min 43s\n",
      "Wall time: 2min 43s\n"
     ]
    }
   ],
   "source": [
    "%%time\n",
    "\n",
    "# The trainingset, testingset and validationset are used to store the digits from the files\n",
    "training_set, testing_set, validation_set = load_data_sets(1, 1, 1)"
   ]
  },
  {
   "cell_type": "code",
   "execution_count": 50,
   "metadata": {},
   "outputs": [
    {
     "data": {
      "text/plain": [
       "'\\nfor i in range(0,5):\\n    validation_set.digits[i].__print__()\\n'"
      ]
     },
     "execution_count": 50,
     "metadata": {},
     "output_type": "execute_result"
    }
   ],
   "source": [
    "'''\n",
    "for i in range(0,5):\n",
    "    validation_set.digits[i].__print__()\n",
    "'''"
   ]
  },
  {
   "cell_type": "code",
   "execution_count": 17,
   "metadata": {},
   "outputs": [
    {
     "name": "stdout",
     "output_type": "stream",
     "text": [
      "Creating X_dataset and Y_dataset\n",
      "Finished X_dataset and Y_dataset\n",
      "\n",
      "CPU times: user 119 ms, sys: 0 ns, total: 119 ms\n",
      "Wall time: 120 ms\n"
     ]
    }
   ],
   "source": [
    "%%time\n",
    "\n",
    "#The X_dataset and Y_dataset are the lists used in the classifier\n",
    "print(\"Creating X_dataset and Y_dataset\")\n",
    "X_train, Y_train = cvt_obj_nparray(training_set)\n",
    "X_test, Y_test = cvt_obj_nparray(testing_set)\n",
    "X_validation, Y_validation = cvt_obj_nparray(validation_set)\n",
    "print(\"Finished X_dataset and Y_dataset\\n\")"
   ]
  },
  {
   "cell_type": "markdown",
   "metadata": {},
   "source": [
    "# **KK Neighborhod algorithm**"
   ]
  },
  {
   "cell_type": "code",
   "execution_count": 18,
   "metadata": {},
   "outputs": [],
   "source": [
    "def plot_confusion_matrix(clf, data_x, data_y):\n",
    "    classes = ['1', '2', '3', '4', '5', '6']\n",
    "\n",
    "    Ypred = clf.predict(data_x)\n",
    "    \n",
    "    # Computation of confusion matrix on testing set\n",
    "    cm = confusion_matrix(data_y, Ypred)\n",
    "    \n",
    "    plt.imshow(cm, interpolation='nearest', cmap=plt.cm.Blues)\n",
    "    plt.title('Confusion matrix')\n",
    "    plt.colorbar()\n",
    "    tick_marks = np.arange(len(classes))\n",
    "    plt.xticks(tick_marks, classes, rotation=45)\n",
    "    plt.yticks(tick_marks, classes)\n",
    "\n",
    "    fmt = 'd'\n",
    "    thresh = cm.max() / 2.\n",
    "    for i, j in itertools.product(range(cm.shape[0]), range(cm.shape[1])):\n",
    "        plt.text(j, i, format(cm[i, j], fmt),\n",
    "                 horizontalalignment=\"center\",\n",
    "                 color=\"white\" if cm[i, j] > thresh else \"black\")\n",
    "\n",
    "    plt.ylabel('True label')\n",
    "    plt.xlabel('Predicted label')\n",
    "    plt.tight_layout()"
   ]
  },
  {
   "cell_type": "code",
   "execution_count": 19,
   "metadata": {},
   "outputs": [
    {
     "name": "stdout",
     "output_type": "stream",
     "text": [
      "Training KNN classifier...\n",
      "Finished trainning KNN classifier with 5 neighbors\n"
     ]
    }
   ],
   "source": [
    "def train_knnModel(i):  \n",
    "    #Train the classifier\n",
    "    print(\"Training KNN classifier...\")\n",
    "    clf = KNeighborsClassifier(n_neighbors=i)\n",
    "    print(\"Finished trainning KNN classifier with \" + str(i) + \" neighbors\")\n",
    "    \n",
    "    # Training KNN\n",
    "    return clf.fit(X_train, Y_train)\n",
    "\n",
    "knn_classificator = train_knnModel(5)"
   ]
  },
  {
   "cell_type": "code",
   "execution_count": 20,
   "metadata": {},
   "outputs": [
    {
     "name": "stdout",
     "output_type": "stream",
     "text": [
      "The accuracy for test database is: 97.014%\n",
      "Using: 5994 images\n"
     ]
    },
    {
     "data": {
      "image/png": "[encoded data removed]",
      "text/plain": [
       "<Figure size 432x288 with 2 Axes>"
      ]
     },
     "metadata": {
      "needs_background": "light"
     },
     "output_type": "display_data"
    }
   ],
   "source": [
    "# Compute prediction accuracy on training set\n",
    "def train_knnModel2():\n",
    "    predicted = knn_classificator.predict(X_train)\n",
    "    print(\"The accuracy for test database is: \" + str(round((accuracy_score(Y_train, predicted) * 100), 3)) + \"%\")\n",
    "\n",
    "    print(\"Using: \" + str(len(X_train)) + \" images\")\n",
    "    \n",
    "    plot_confusion_matrix(knn_classificator, X_train, Y_train)\n",
    "    plt.show()\n",
    "\n",
    "train_knnModel2()"
   ]
  },
  {
   "cell_type": "code",
   "execution_count": 21,
   "metadata": {},
   "outputs": [
    {
     "name": "stdout",
     "output_type": "stream",
     "text": [
      "The accuracy for test database is: 34.363%\n",
      "Using: 4662 images\n"
     ]
    },
    {
     "data": {
      "image/png": "[encoded data removed]",
      "text/plain": [
       "<Figure size 432x288 with 2 Axes>"
      ]
     },
     "metadata": {
      "needs_background": "light"
     },
     "output_type": "display_data"
    }
   ],
   "source": [
    "# Compute prediction accuracy on testing set\n",
    "def test_knnModel():\n",
    "    predicted = knn_classificator.predict(X_test)\n",
    "    print(\"The accuracy for test database is: \" + str(round((accuracy_score(Y_test, predicted) * 100), 3)) + \"%\")\n",
    "\n",
    "    print(\"Using: \" + str(len(X_test)) + \" images\")\n",
    "    \n",
    "    plot_confusion_matrix(knn_classificator, X_test, Y_test)\n",
    "    plt.show()\n",
    "\n",
    "test_knnModel()"
   ]
  },
  {
   "cell_type": "markdown",
   "metadata": {},
   "source": [
    "# **Evaluation methods**\n",
    "\n",
    "This part contains the functions used to analyse the accuracy of the classifier"
   ]
  },
  {
   "cell_type": "markdown",
   "metadata": {},
   "source": [
    "# **Multiple Hyperparameter Study**\n",
    "This part consist in making a study of the hyperparameter of the classifier, using the gridsearch method from the scikitlearn library."
   ]
  },
  {
   "cell_type": "code",
   "execution_count": 22,
   "metadata": {},
   "outputs": [],
   "source": [
    "# Define the parameter values that should be searched\n",
    "k_range = list(range(1, 5))\n",
    "\n",
    "# Another parameter besides k that we might vary is the weights parameters or even the algorithm\n",
    "weight_options = ['uniform', 'distance']\n",
    "#algorithm_options = ['auto', 'ball_tree', 'kd_tree', 'brute']\n",
    "\n",
    "# Specify \"parameter grid\"\n",
    "param_grid = dict(n_neighbors=k_range, weights=weight_options)\n",
    "\n",
    "# Specify \"parameter distributions\" rather than a \"parameter grid\"\n",
    "param_dist = dict(n_neighbors=k_range, weights=weight_options)\n",
    "\n",
    "# Since both parameters are discrete, so param_dist is the same as param_grid\n",
    "\n",
    "# Finally define the classifier, in this case the KNN classifier\n",
    "knn = KNeighborsClassifier()"
   ]
  },
  {
   "cell_type": "code",
   "execution_count": 23,
   "metadata": {},
   "outputs": [
    {
     "name": "stdout",
     "output_type": "stream",
     "text": [
      "Finished searching the hyper parameters!\n",
      "CPU times: user 7.8 s, sys: 2.05 s, total: 9.85 s\n",
      "Wall time: 23.2 s\n"
     ]
    }
   ],
   "source": [
    "%%time\n",
    "\n",
    "grid_best_scores = []\n",
    "grid_best_params = []\n",
    "grid_best_estimator = []\n",
    "\n",
    "rand_best_scores = []\n",
    "rand_best_params = []\n",
    "rand_best_estimator = []\n",
    "\n",
    "for _ in list(range(20)):\n",
    "    grid = GridSearchCV(knn, param_grid, cv=10, scoring='accuracy', n_jobs = -1)\n",
    "    grid.fit(X_train, Y_train)\n",
    "    grid_best_scores.append(grid.best_score_)\n",
    "    grid_best_params.append(grid.best_params_)\n",
    "    grid_best_estimator.append(grid.best_estimator_)\n",
    "\n",
    "    rand = RandomizedSearchCV(knn, param_dist, cv=10, scoring='accuracy', n_iter=5, n_jobs = -1)\n",
    "    rand.fit(X_train, Y_train)\n",
    "    rand_best_scores.append(rand.best_score_)\n",
    "    rand_best_params.append(rand.best_params_)\n",
    "    rand_best_estimator.append(rand.best_estimator_)\n",
    "    \n",
    "print(\"Finished searching the hyper parameters!\")\n"
   ]
  },
  {
   "cell_type": "code",
   "execution_count": 24,
   "metadata": {},
   "outputs": [
    {
     "data": {
      "image/png": "[encoded data removed]",
      "text/plain": [
       "<Figure size 1152x576 with 1 Axes>"
      ]
     },
     "metadata": {
      "needs_background": "light"
     },
     "output_type": "display_data"
    },
    {
     "name": "stdout",
     "output_type": "stream",
     "text": [
      "GRID SEARCH RESULTS\n",
      "The best accuracy is: 99.3326659993%\n",
      "The parameters is: {'n_neighbors': 1, 'weights': 'uniform'}\n",
      "\n",
      "\n",
      "RANDOMGRID SEARCH RESULTS\n",
      "The best accuracy is: 99.3326659993%\n",
      "The parameters is: {'n_neighbors': 1, 'weights': 'distance'}\n"
     ]
    }
   ],
   "source": [
    "# This block draw accuracies of the differents classifiers used in the grid and random search\n",
    "\n",
    "plt.figure(figsize=(16, 8))\n",
    "plt.title(\"Final search results\")   \n",
    "plt.plot(range(len(grid_best_scores)), grid_best_scores, label = 'Exaustive grid')\n",
    "plt.plot(range(len(rand_best_scores)), rand_best_scores, label = 'Random grid')\n",
    "plt.xlabel('Number of classifier')\n",
    "plt.ylabel('Accuracy')\n",
    "plt.legend()\n",
    "plt.xticks(range(len(grid_best_scores)))\n",
    "plt.show()\n",
    "\n",
    "print(\"GRID SEARCH RESULTS\")\n",
    "print(\"The best accuracy is: \" + str(np.max(grid_best_scores) * 100) + \"%\")\n",
    "print(\"The parameters is: \" + str(grid_best_params[np.argmax(grid_best_scores)]))\n",
    "print('\\n')\n",
    "print(\"RANDOMGRID SEARCH RESULTS\")\n",
    "print(\"The best accuracy is: \" + str(np.max(rand_best_scores) * 100) + \"%\")\n",
    "print(\"The parameters is: \" + str(rand_best_params[np.argmax(rand_best_scores)]))"
   ]
  },
  {
   "cell_type": "markdown",
   "metadata": {},
   "source": [
    "# Best KNN classificator"
   ]
  },
  {
   "cell_type": "code",
   "execution_count": 25,
   "metadata": {},
   "outputs": [],
   "source": [
    "#Train the best classificator for a N sample of numbers\n",
    "def train_best_classifier():   \n",
    "    classificator = rand_best_estimator[np.argmax(rand_best_scores)]\n",
    "\n",
    "    return classificator.fit(X_train, Y_train)"
   ]
  },
  {
   "cell_type": "code",
   "execution_count": 26,
   "metadata": {},
   "outputs": [],
   "source": [
    "#Testing this new classificator accuracy with MNIST database \n",
    "def validation_database(clf):\n",
    "    predicted = clf.predict(X_validation)\n",
    "    \n",
    "    print(\"The accuracy for validation database is: \" + str(round((accuracy_score(Y_validation, predicted) * 100), 3)) + \"%\")\n",
    "    print(\"Using: \" + str(len(X_train)) + \" images to train\")\n",
    "    print(\"Using: \" + str(len(X_test)) + \" images to test\")\n",
    "    print(\"Using: \" + str(len(X_validation)) + \" images to validate\")\n",
    "\n",
    "    plot_confusion_matrix(clf, X_validation, Y_validation)\n",
    "\n"
   ]
  },
  {
   "cell_type": "code",
   "execution_count": 27,
   "metadata": {},
   "outputs": [],
   "source": [
    "best_knn_classificator = train_best_classifier()"
   ]
  },
  {
   "cell_type": "code",
   "execution_count": 28,
   "metadata": {},
   "outputs": [
    {
     "name": "stdout",
     "output_type": "stream",
     "text": [
      "The accuracy for validation database is: 56.944%\n",
      "Using: 5994 images to train\n",
      "Using: 4662 images to test\n",
      "Using: 2664 images to validate\n"
     ]
    },
    {
     "data": {
      "image/png": "[encoded data removed]",
      "text/plain": [
       "<Figure size 432x288 with 2 Axes>"
      ]
     },
     "metadata": {
      "needs_background": "light"
     },
     "output_type": "display_data"
    }
   ],
   "source": [
    "validation_database(best_knn_classificator)"
   ]
  },
  {
   "cell_type": "code",
   "execution_count": null,
   "metadata": {},
   "outputs": [],
   "source": []
  },
  {
   "cell_type": "code",
   "execution_count": null,
   "metadata": {},
   "outputs": [],
   "source": []
  },
  {
   "cell_type": "code",
   "execution_count": null,
   "metadata": {},
   "outputs": [],
   "source": []
  },
  {
   "cell_type": "code",
   "execution_count": null,
   "metadata": {},
   "outputs": [],
   "source": []
  },
  {
   "cell_type": "code",
   "execution_count": null,
   "metadata": {},
   "outputs": [],
   "source": []
  },
  {
   "cell_type": "code",
   "execution_count": null,
   "metadata": {},
   "outputs": [],
   "source": []
  },
  {
   "cell_type": "code",
   "execution_count": null,
   "metadata": {},
   "outputs": [],
   "source": []
  },
  {
   "cell_type": "code",
   "execution_count": 26,
   "metadata": {},
   "outputs": [
    {
     "ename": "AttributeError",
     "evalue": "'KNeighborsClassifier' object has no attribute 'feature_importances_'",
     "output_type": "error",
     "traceback": [
      "\u001b[0;31m---------------------------------------------------------------------------\u001b[0m",
      "\u001b[0;31mAttributeError\u001b[0m                            Traceback (most recent call last)",
      "\u001b[0;32m<ipython-input-26-e1f2b1f0477e>\u001b[0m in \u001b[0;36m<module>\u001b[0;34m()\u001b[0m\n\u001b[0;32m----> 1\u001b[0;31m \u001b[0mimportance\u001b[0m \u001b[0;34m=\u001b[0m \u001b[0mopt_clf\u001b[0m\u001b[0;34m.\u001b[0m\u001b[0mfeature_importances_\u001b[0m\u001b[0;34m\u001b[0m\u001b[0;34m\u001b[0m\u001b[0m\n\u001b[0m\u001b[1;32m      2\u001b[0m \u001b[0;32mprint\u001b[0m\u001b[0;34m(\u001b[0m\u001b[0mimportance\u001b[0m\u001b[0;34m)\u001b[0m\u001b[0;34m\u001b[0m\u001b[0;34m\u001b[0m\u001b[0m\n",
      "\u001b[0;31mAttributeError\u001b[0m: 'KNeighborsClassifier' object has no attribute 'feature_importances_'"
     ]
    }
   ],
   "source": [
    "importance = opt_clf.feature_importances_\n",
    "print(importance)"
   ]
  },
  {
   "cell_type": "code",
   "execution_count": null,
   "metadata": {},
   "outputs": [],
   "source": [
    "bins = np.arange(len(training_set.digits[0].features))\n",
    "label_list = []\n",
    "for feature in training_set.digits[0].features:\n",
    "    label_list.append(feature)\n",
    "\n",
    "plt.figure(figsize=(16,4))\n",
    "ax = plt.subplot(111)\n",
    "ax.bar(bins, importance)\n",
    "ax.set_xticks(np.arange(len(label_list)))\n",
    "ax.set_yticks([])\n",
    "ax.set_xticklabels(label_list, rotation = 45, ha = 'right')\n",
    "# Display bar graph of feature importances with feature names as labels"
   ]
  },
  {
   "cell_type": "code",
   "execution_count": null,
   "metadata": {},
   "outputs": [],
   "source": []
  },
  {
   "cell_type": "code",
   "execution_count": null,
   "metadata": {},
   "outputs": [],
   "source": []
  }
 ],
 "metadata": {
  "kernelspec": {
   "display_name": "Python 2",
   "language": "python",
   "name": "python2"
  },
  "language_info": {
   "codemirror_mode": {
    "name": "ipython",
    "version": 2
   },
   "file_extension": ".py",
   "mimetype": "text/x-python",
   "name": "python",
   "nbconvert_exporter": "python",
   "pygments_lexer": "ipython2",
   "version": "2.7.15+"
  }
 },
 "nbformat": 4,
 "nbformat_minor": 2
}
