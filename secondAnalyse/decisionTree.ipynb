{
 "cells": [
  {
   "cell_type": "markdown",
   "metadata": {},
   "source": [
    "# **Dice number classification algorithm**"
   ]
  },
  {
   "cell_type": "code",
   "execution_count": 1,
   "metadata": {},
   "outputs": [
    {
     "name": "stderr",
     "output_type": "stream",
     "text": [
      "Using TensorFlow backend.\n"
     ]
    }
   ],
   "source": [
    "import os\n",
    "import numpy as np\n",
    "import matplotlib.pyplot as plt\n",
    "import pandas as pd\n",
    "\n",
    "from sklearn.tree import DecisionTreeClassifier\n",
    "from sklearn.metrics import accuracy_score\n",
    "import itertools\n",
    "from sklearn.metrics import confusion_matrix\n",
    "from sklearn.grid_search import RandomizedSearchCV\n",
    "from sklearn.grid_search import GridSearchCV\n",
    "from sklearn.externals import joblib\n",
    "\n",
    "import generateDataset as db"
   ]
  },
  {
   "cell_type": "markdown",
   "metadata": {},
   "source": [
    "# Read database\n",
    "\n",
    "Functions used to read the database (train and test) from MNIST and also from the csv file generated with the images captured from the pico camera"
   ]
  },
  {
   "cell_type": "code",
   "execution_count": 2,
   "metadata": {},
   "outputs": [],
   "source": [
    "def separate_array(data):    \n",
    "    image = []\n",
    "    labels = []\n",
    "    for line in data:\n",
    "        image.append(np.array(line[:-1]))\n",
    "        labels.append(line[-1])\n",
    "    \n",
    "    return image, labels"
   ]
  },
  {
   "cell_type": "code",
   "execution_count": 3,
   "metadata": {},
   "outputs": [],
   "source": [
    "def feature_test(Xarray):\n",
    "    new_array = []\n",
    "    for i in range(len(Xarray)):\n",
    "        new_array.append(Xarray[i][9])\n",
    "    \n",
    "    return np.asarray(new_array)\n",
    "\n"
   ]
  },
  {
   "cell_type": "code",
   "execution_count": 4,
   "metadata": {},
   "outputs": [],
   "source": [
    "X_train, Y_train = separate_array(np.load('./photosFeatures_train.npy'))\n",
    "#X_train = feature_test(X_train)\n",
    "X_validation, Y_validation = separate_array(np.load('./photosFeatures_validation.npy'))\n",
    "#X_validation = feature_test(X_validation)"
   ]
  },
  {
   "cell_type": "code",
   "execution_count": 5,
   "metadata": {},
   "outputs": [
    {
     "name": "stdout",
     "output_type": "stream",
     "text": [
      "1350\n",
      "5130\n"
     ]
    }
   ],
   "source": [
    "print len(Y_validation)\n",
    "print len(Y_train)"
   ]
  },
  {
   "cell_type": "markdown",
   "metadata": {},
   "source": [
    "# **Evaluation methods**\n",
    "\n",
    "This part contains the functions used to analyse the accuracy of the classifier"
   ]
  },
  {
   "cell_type": "code",
   "execution_count": 6,
   "metadata": {},
   "outputs": [],
   "source": [
    "def plot_confusion_matrix(clf, data_x, data_y):\n",
    "    classes = range(1,7)\n",
    "    \n",
    "    Ypred = clf.predict(data_x)\n",
    "    \n",
    "    # Computation of confusion matrix on testing set\n",
    "    cm = confusion_matrix(data_y, Ypred)\n",
    "    \n",
    "    plt.figure(figsize=(6,6))\n",
    "    plt.imshow(cm, interpolation='nearest', cmap=plt.cm.Blues)\n",
    "    plt.colorbar()\n",
    "    tick_marks = np.arange(len(classes))\n",
    "    plt.xticks(tick_marks, classes, rotation=45)\n",
    "    plt.yticks(tick_marks, classes)\n",
    "\n",
    "    fmt = 'd'\n",
    "    thresh = cm.max() / 2.\n",
    "    for i, j in itertools.product(range(cm.shape[0]), range(cm.shape[1])):\n",
    "        plt.text(j, i, format(cm[i, j], fmt),\n",
    "                 horizontalalignment=\"center\",\n",
    "                 color=\"white\" if cm[i, j] > thresh else \"black\")\n",
    "\n",
    "    plt.ylabel('True label')\n",
    "    plt.xlabel('Predicted label')\n",
    "    plt.tight_layout()"
   ]
  },
  {
   "cell_type": "markdown",
   "metadata": {},
   "source": [
    "# **Decision Tree Model algorithm**"
   ]
  },
  {
   "cell_type": "code",
   "execution_count": 7,
   "metadata": {},
   "outputs": [],
   "source": [
    "def create_number_list(data):\n",
    "    images = []\n",
    "    for x in data:\n",
    "        images.append(x.reshape(-1))\n",
    "\n",
    "    return images"
   ]
  },
  {
   "cell_type": "code",
   "execution_count": 8,
   "metadata": {},
   "outputs": [],
   "source": [
    "def train_decisionTree_Model(i, X_data, Y_data):\n",
    "    # Train on the train images\n",
    "    train_x = create_number_list(X_data)\n",
    "    train_y = np.array(Y_data)\n",
    "    \n",
    "    #Train the classifier\n",
    "    clf = DecisionTreeClassifier(random_state = 0, max_depth = i)\n",
    "    print(\"Finished trainning Decision Tree Model with \" + str(i) + \" max depth\")\n",
    "    \n",
    "    return clf.fit(train_x, train_y)"
   ]
  },
  {
   "cell_type": "code",
   "execution_count": 9,
   "metadata": {},
   "outputs": [],
   "source": [
    "def visualize_decisionTree_Model(clf, X_data, Y_data, filename, typeData):\n",
    "    # Visualize on the images from dataset:\n",
    "    data_x = create_number_list(X_data)\n",
    "    data_y = Y_data \n",
    "    predicted = clf.predict(data_x)\n",
    "    \n",
    "    plot_confusion_matrix(clf, data_x, data_y)\n",
    "    plt.title(typeData + ' confusion matrix: accuracy of ' + str(round((accuracy_score(data_y, predicted) * 100), 3)) + \"% \\n Used \" + str(len(data_x)) + \" images\")\n",
    "    plt.savefig(filename)"
   ]
  },
  {
   "cell_type": "code",
   "execution_count": 10,
   "metadata": {},
   "outputs": [
    {
     "name": "stdout",
     "output_type": "stream",
     "text": [
      "Finished trainning Decision Tree Model with 10 max depth\n"
     ]
    }
   ],
   "source": [
    "decision_tree_classifier = train_decisionTree_Model(10, X_train, Y_train)"
   ]
  },
  {
   "cell_type": "code",
   "execution_count": 11,
   "metadata": {},
   "outputs": [
    {
     "data": {
      "image/png": "[encoded data removed]",
      "text/plain": [
       "<Figure size 432x432 with 2 Axes>"
      ]
     },
     "metadata": {
      "needs_background": "light"
     },
     "output_type": "display_data"
    }
   ],
   "source": [
    "visualize_decisionTree_Model(decision_tree_classifier, X_train, Y_train,'./Results/decisionTree/train', 'Train')"
   ]
  },
  {
   "cell_type": "code",
   "execution_count": 12,
   "metadata": {},
   "outputs": [
    {
     "data": {
      "image/png": "[encoded data removed]",
      "text/plain": [
       "<Figure size 432x432 with 2 Axes>"
      ]
     },
     "metadata": {
      "needs_background": "light"
     },
     "output_type": "display_data"
    }
   ],
   "source": [
    "visualize_decisionTree_Model(decision_tree_classifier, X_validation, Y_validation,'./Results/decisionTree/validation', 'Validation')"
   ]
  },
  {
   "cell_type": "code",
   "execution_count": 13,
   "metadata": {},
   "outputs": [
    {
     "data": {
      "text/plain": [
       "['./Results/decisionTree/decision_tree_classifier.sav']"
      ]
     },
     "execution_count": 13,
     "metadata": {},
     "output_type": "execute_result"
    }
   ],
   "source": [
    "# save the classifier\n",
    "filename = './Results/decisionTree/decision_tree_classifier.sav'\n",
    "joblib.dump(decision_tree_classifier, filename, compress = 3)  "
   ]
  },
  {
   "cell_type": "markdown",
   "metadata": {},
   "source": [
    "# **Multiple Hyperparameter Study**\n",
    "This part consist in making a study of the hyperparameter of the classifier, using the gridsearch method from the scikitlearn library."
   ]
  },
  {
   "cell_type": "code",
   "execution_count": 14,
   "metadata": {},
   "outputs": [],
   "source": [
    "# Define the parameter values that should be searched\n",
    "depth_range = list(range(1, 30))\n",
    "\n",
    "# Another parameter besides max_depth that we might vary is the criteria\n",
    "criterion_options = ['gini', 'entropy']\n",
    "#features_options = ['auto', 'sqrt','log2', None]\n",
    "\n",
    "# Specify \"parameter grid\"\n",
    "grid_parameters = dict(max_depth=depth_range, criterion=criterion_options)\n",
    "\n",
    "# Specify \"parameter distributions\" rather than a \"parameter grid\"\n",
    "dist_parameters = dict(max_depth=depth_range, criterion=criterion_options)\n",
    "\n",
    "# Since both parameters are discrete, so param_dist is the same as param_grid\n",
    "\n",
    "# Finally define the classifier, in this case the DecisionTree classifier\n",
    "new_decisionTree = DecisionTreeClassifier()"
   ]
  },
  {
   "cell_type": "code",
   "execution_count": 15,
   "metadata": {},
   "outputs": [],
   "source": [
    "# This block is done both grid and random search for the hyperparameters for N numbers\n",
    "def compute_best_classifier(x_data, y_data, param_grid, param_dist, model):\n",
    "    grid_best_scores = []\n",
    "    grid_best_params = []\n",
    "    grid_best_estimator = []\n",
    "\n",
    "    rand_best_scores = []\n",
    "    rand_best_params = []\n",
    "    rand_best_estimator = []\n",
    "\n",
    "    train_x = create_number_list(x_data)\n",
    "    train_y = np.array(y_data)\n",
    "\n",
    "    for i in list(range(15)):\n",
    "        print(\"Iteration num: \" + str(i))\n",
    "        grid = GridSearchCV(model, param_grid, cv=10, scoring='accuracy', n_jobs = -1)\n",
    "        grid.fit(train_x, train_y)\n",
    "        grid_best_scores.append(grid.best_score_)\n",
    "        grid_best_params.append(grid.best_params_)\n",
    "        grid_best_estimator.append(grid.best_estimator_)\n",
    "\n",
    "        rand = RandomizedSearchCV(model, param_dist, cv=10, scoring='accuracy', n_iter=10, n_jobs = -1)\n",
    "        rand.fit(train_x, train_y)\n",
    "        rand_best_scores.append(rand.best_score_)\n",
    "        rand_best_params.append(rand.best_params_)\n",
    "        rand_best_estimator.append(rand.best_estimator_)\n",
    "\n",
    "    print(\"Finished searching the hyper parameters!\")\n",
    "    \n",
    "    # This block draw accuracies of the differents classifiers used in the grid and random search\n",
    "\n",
    "    plt.figure(figsize=(16, 8))\n",
    "    plt.title(\"Final search results\")   \n",
    "    plt.plot(range(len(grid_best_scores)), grid_best_scores, label = 'Exaustive grid')\n",
    "    plt.plot(range(len(rand_best_scores)), rand_best_scores, label = 'Random grid')\n",
    "    plt.xlabel('Number of classifier')\n",
    "    plt.ylabel('Accuracy')\n",
    "    plt.legend()\n",
    "    plt.xticks(range(len(grid_best_scores)))\n",
    "    plt.savefig('./Results/decisionTree/tuningParameters')\n",
    "    #plt.show()\n",
    "\n",
    "    print(\"GRID SEARCH RESULTS\")\n",
    "    print(\"The best accuracy is: \" + str(np.max(grid_best_scores) * 100) + \"%\")\n",
    "    print(\"The parameters is: \" + str(grid_best_params[np.argmax(grid_best_scores)]))\n",
    "    print('\\n')\n",
    "    print(\"RANDOMGRID SEARCH RESULTS\")\n",
    "    print(\"The best accuracy is: \" + str(np.max(rand_best_scores) * 100) + \"%\")\n",
    "    print(\"The parameters is: \" + str(rand_best_params[np.argmax(rand_best_scores)]))\n",
    "\n",
    "    return rand_best_estimator[np.argmax(rand_best_scores)]"
   ]
  },
  {
   "cell_type": "markdown",
   "metadata": {},
   "source": [
    "# Best Classifier and Photo test set"
   ]
  },
  {
   "cell_type": "code",
   "execution_count": 16,
   "metadata": {},
   "outputs": [],
   "source": [
    "#Train the best classificator for a N sample of numbers\n",
    "def train_best_classifier(X_data, Y_data, grid_par, dist_par, model):   \n",
    "    classificator = compute_best_classifier(X_data, Y_data, grid_par, dist_par, model)\n",
    "\n",
    "    return classificator.fit(X_data, Y_data)"
   ]
  },
  {
   "cell_type": "code",
   "execution_count": null,
   "metadata": {},
   "outputs": [],
   "source": [
    "%%time \n",
    "\n",
    "best_decisionTree_classifier = train_best_classifier(X_train, Y_train, grid_parameters, dist_parameters, new_decisionTree)\n"
   ]
  },
  {
   "cell_type": "code",
   "execution_count": 22,
   "metadata": {},
   "outputs": [
    {
     "data": {
      "image/png": "[encoded data removed]",
      "text/plain": [
       "<Figure size 432x432 with 2 Axes>"
      ]
     },
     "metadata": {
      "needs_background": "light"
     },
     "output_type": "display_data"
    }
   ],
   "source": [
    "visualize_decisionTree_Model(decisionTree_classifier, X_validation, Y_validation,'./Results/decisionTree/best_validation', 'Validation')"
   ]
  },
  {
   "cell_type": "code",
   "execution_count": 16,
   "metadata": {},
   "outputs": [
    {
     "data": {
      "image/png": "[encoded data removed]",
      "text/plain": [
       "<Figure size 432x432 with 2 Axes>"
      ]
     },
     "metadata": {
      "needs_background": "light"
     },
     "output_type": "display_data"
    }
   ],
   "source": [
    "X_test, Y_test = separate_array(np.load('./photosFeatures_test.npy'))\n",
    "visualize_decisionTree_Model(decision_tree_classifier, X_test, Y_test,'./Results/decisionTree/test', 'Test')"
   ]
  },
  {
   "cell_type": "code",
   "execution_count": null,
   "metadata": {},
   "outputs": [],
   "source": [
    "# save the classifier\n",
    "filename = './Results/decisionTree/best_decisionTree_classifier.sav'\n",
    "joblib.dump(best_decisionTree_classifier, filename, compress = 3)  "
   ]
  },
  {
   "cell_type": "code",
   "execution_count": null,
   "metadata": {},
   "outputs": [],
   "source": []
  },
  {
   "cell_type": "markdown",
   "metadata": {},
   "source": [
    "# Features study for decisionTree classifier\n",
    "\n",
    "In a decisionTree model the feature used to make the classification is very important, so in this part it is made a study on the best feature"
   ]
  },
  {
   "cell_type": "code",
   "execution_count": null,
   "metadata": {},
   "outputs": [],
   "source": [
    "%%time\n",
    "\n",
    "training_set = db.create_test_data_list()"
   ]
  },
  {
   "cell_type": "code",
   "execution_count": null,
   "metadata": {},
   "outputs": [],
   "source": [
    "#This part displays the table of importance of each feature\n",
    "\n",
    "bins = np.arange(len(training_set.digits[0].features))\n",
    "label_list = []\n",
    "for feature in training_set.digits[0].features:\n",
    "    label_list.append(feature)\n",
    "\n",
    "importance = decision_tree_classifier.feature_importances_\n",
    "df = pd.DataFrame({'feature': label_list, 'Level of importance': importance})\n",
    "df.sort_values(by = ['Level of importance']).reset_index()"
   ]
  },
  {
   "cell_type": "code",
   "execution_count": null,
   "metadata": {},
   "outputs": [],
   "source": [
    "# This part plots a grafic for better visualization\n",
    "\n",
    "plt.figure(figsize=(16,4))\n",
    "ax = plt.subplot(111)\n",
    "ax.bar(bins, importance)\n",
    "ax.set_xticks(np.arange(len(label_list)))\n",
    "ax.set_yticks([])\n",
    "ax.set_xticklabels(label_list, rotation = 45, ha = 'right')\n",
    "# Display bar graph of feature importances with feature names as labels"
   ]
  },
  {
   "cell_type": "code",
   "execution_count": null,
   "metadata": {},
   "outputs": [],
   "source": []
  },
  {
   "cell_type": "code",
   "execution_count": null,
   "metadata": {},
   "outputs": [],
   "source": []
  },
  {
   "cell_type": "code",
   "execution_count": null,
   "metadata": {},
   "outputs": [],
   "source": []
  }
 ],
 "metadata": {
  "kernelspec": {
   "display_name": "Python 2",
   "language": "python",
   "name": "python2"
  },
  "language_info": {
   "codemirror_mode": {
    "name": "ipython",
    "version": 2
   },
   "file_extension": ".py",
   "mimetype": "text/x-python",
   "name": "python",
   "nbconvert_exporter": "python",
   "pygments_lexer": "ipython2",
   "version": "2.7.15+"
  }
 },
 "nbformat": 4,
 "nbformat_minor": 2
}
