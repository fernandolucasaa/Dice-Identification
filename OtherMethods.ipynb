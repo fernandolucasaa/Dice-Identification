{
 "cells": [
  {
   "cell_type": "markdown",
   "metadata": {},
   "source": [
    "# **Number detection algorithm**"
   ]
  },
  {
   "cell_type": "markdown",
   "metadata": {},
   "source": [
    "## **Introduction**\n",
    "\n",
    "This work "
   ]
  },
  {
   "cell_type": "code",
   "execution_count": 9,
   "metadata": {},
   "outputs": [],
   "source": [
    "import numpy as np\n",
    "import matplotlib.pyplot as plt\n",
    "import csv\n",
    "import cv2 as cv\n",
    "from scipy import ndimage\n",
    "import os"
   ]
  },
  {
   "cell_type": "code",
   "execution_count": 10,
   "metadata": {},
   "outputs": [],
   "source": [
    "class Digit:\n",
    "    def __init__(self, data, target):\n",
    "        self.target = target\n",
    "        self.width  = int(np.sqrt(len(data)))\n",
    "        self.image  = data.reshape(self.width, self.width)\n",
    "        self.features = {'var' : 0,\n",
    "                         'std' : 0,\n",
    "                         'mean_grad_M' : 0,\n",
    "                         'std_grad_M'  : 0,\n",
    "                         'mean_grad_D' : 0,\n",
    "                         'std_grad_D'  : 0,\n",
    "                         'mean_PC_X'   : 0,\n",
    "                         'std_PC_X'    : 0,\n",
    "                         'active_PC_X' : 0,\n",
    "                         'mean_PC_Y'   : 0,\n",
    "                         'std_PC_Y'    : 0,\n",
    "                         'active_PC_Y' : 0}\n",
    "        self.computeFeatures()\n",
    "    \n",
    "    def computeFeatures(self):\n",
    "        # Feature computation\n",
    "        mag, ang = sobel(self.image)\n",
    "        pcx, pcy = pixel_count(self.image)\n",
    "        \n",
    "        self.features['var'] = np.var(self.image)\n",
    "        self.features['std'] = np.std(self.image)\n",
    "        self.features['mean_grad_M'] = np.mean(mag)\n",
    "        self.features['std_grad_M'] =  np.std(mag)\n",
    "        self.features['mean_grad_D'] = np.mean(ang)\n",
    "        self.features['std_grad_D'] =  np.std(ang)\n",
    "        self.features['mean_PC_X'] =   np.mean(pcx)\n",
    "        self.features['std_PC_X'] =    np.std(pcx)\n",
    "        self.features['active_PC_X'] = np.count_nonzero(pcx)\n",
    "        self.features['mean_PC_Y'] =   np.mean(pcy)\n",
    "        self.features['std_PC_Y'] =    np.std(pcy)\n",
    "        self.features['active_PC_Y'] = np.count_nonzero(pcy) \n",
    "  \n",
    "    def __print__(self):\n",
    "        print(\"Digit target: \"+str(self.target))\n",
    "        print(\"Digit features:\")\n",
    "        print(self.features)\n",
    "        print(\"Digit image:\")\n",
    "        plt.gray()\n",
    "        plt.matshow(self.image) \n",
    "        plt.show() "
   ]
  },
  {
   "cell_type": "markdown",
   "metadata": {},
   "source": [
    "#### **Feature extraction functions**\n"
   ]
  },
  {
   "cell_type": "code",
   "execution_count": 11,
   "metadata": {},
   "outputs": [],
   "source": [
    "def sobel(image):\n",
    "    w = len(image)\n",
    "    kernel_x = np.array([ [ 1, 0,-1],\n",
    "                          [ 2, 0,-2],\n",
    "                          [ 1, 0,-1] ])\n",
    "\n",
    "    kernel_y = np.array([ [ 1, 2, 1],\n",
    "                          [ 0, 0, 0],\n",
    "                          [-1,-2,-1] ])\n",
    "    \n",
    "    grad_x = np.zeros([w - 2, w - 2])\n",
    "    grad_y = np.zeros([w - 2, w - 2])\n",
    "    \n",
    "    for i in range(w - 2):\n",
    "        for j in range(w - 2):\n",
    "            grad_x[i, j] = sum(sum(image[i : i + 3, j : j + 3] * kernel_x))\n",
    "            grad_y[i, j] = sum(sum(image[i : i + 3, j : j + 3] * kernel_y))\n",
    "            if grad_x[i, j] == 0:\n",
    "                grad_x[i, j] = 0.000001\n",
    "    \n",
    "    mag = np.sqrt(grad_y ** 2 + grad_x ** 2)\n",
    "    ang = np.arctan(grad_y / (grad_x + np.finfo(float).eps))\n",
    "  \n",
    "    # Gradient computation\n",
    "  \n",
    "    return [mag,ang]\n",
    "\n",
    "def pixel_count(image):\n",
    "    pc_x = np.zeros(len(image))\n",
    "    pc_y = np.zeros(len(image))\n",
    "  \n",
    "    # Pixel count computation\n",
    "    for i in range(len(image)):\n",
    "        pc_x[i] = np.count_nonzero(image[i, :])\n",
    "        pc_y[i] = np.count_nonzero(image[:, i])\n",
    "\n",
    "    return [pc_x, pc_y]"
   ]
  },
  {
   "cell_type": "code",
   "execution_count": 12,
   "metadata": {},
   "outputs": [],
   "source": [
    "class Dataset:\n",
    "    def __init__(self, filename, length):  \n",
    "        self.filename = filename\n",
    "        if length == -1:\n",
    "            with open(self.filename, 'r') as csvfile:\n",
    "                spamreader = csv.reader(csvfile, delimiter=',', quotechar='|', quoting=csv.QUOTE_NONNUMERIC) \n",
    "                self.length = sum(1 for row in spamreader)\n",
    "        else: \n",
    "            self.length = length\n",
    "            self.digits = []\n",
    "        self.digits = self.createDigits()\n",
    "        self.raw_features = [[float(f) for f in dig.features.values()] for dig in self.digits]\n",
    "        self.raw_targets  = [[self.digits[i].target] for i in range(self.length)]\n",
    "  \n",
    "    def createDigits(self):\n",
    "        # Parse the csv file row by row and create Digits on the fly\n",
    "        digits = []\n",
    "        with open(self.filename, 'r') as csvfile:\n",
    "            spamreader = csv.reader(csvfile, delimiter = ',', quotechar = '|', quoting = csv.QUOTE_NONNUMERIC)\n",
    "            for i, row in enumerate(spamreader):\n",
    "                if i == self.length: break\n",
    "                digits.append(Digit(np.array(row[:-1]), row[-1]))\n",
    "                \n",
    "        return digits\n",
    "    "
   ]
  },
  {
   "cell_type": "markdown",
   "metadata": {},
   "source": [
    "#### **Image Generation**\n",
    "\n",
    "Just to change the image format, color, etc..."
   ]
  },
  {
   "cell_type": "code",
   "execution_count": 29,
   "metadata": {},
   "outputs": [
    {
     "name": "stdout",
     "output_type": "stream",
     "text": [
      "END\n"
     ]
    }
   ],
   "source": [
    "image_path_1 = os.getcwd() + '/chiffres/Numero1/'\n",
    "image_path_2 = os.getcwd() + '/chiffres/Numero2/'\n",
    "image_path_3 = os.getcwd() + '/chiffres/Numero3/'\n",
    "image_path_4 = os.getcwd() + '/chiffres/Numero4/'\n",
    "image_path_5 = os.getcwd() + '/chiffres/Numero5/'\n",
    "image_path_6 = os.getcwd() + '/chiffres/Numero6/'\n",
    "\n",
    "image_path_chiffre = image_path_1\n",
    "chiffre = image_path_chiffre[-2]\n",
    "\n",
    "image_list = []\n",
    "for x in os.listdir(image_path_chiffre):\n",
    "    path_image = image_path_chiffre + x\n",
    "    im = cv.imread(path_image, 0)\n",
    "    image_list.append(im)\n",
    "    \n",
    "if os.path.isfile('test.csv'):\n",
    "    os.remove('test.csv')\n",
    "else:\n",
    "    print 'file does not exist'\n",
    "    \n",
    "for im in image_list:\n",
    "\n",
    "    inutile, thresh = cv.threshold(im, 225, 255, cv.THRESH_BINARY_INV)\n",
    "    imgBGR = cv.cvtColor(im, cv.COLOR_GRAY2BGR)\n",
    "\n",
    "    #imgray = cv.cvtColor(im, cv.COLOR_BGR2GRAY)\n",
    "    #ret2, thresh = cv.threshold(im[1::], 127, 255, cv.THRESH_BINARY + cv.THRESH_OTSU)\n",
    "\n",
    "    #imgray = cv.cvtColor(im, cv.COLOR_BGR2GRAY)\n",
    "    #ret, thresh = cv.threshold(imgray, 127, 255, 0)\n",
    "    contours, hierarchy = cv.findContours(thresh, cv.RETR_TREE, cv.CHAIN_APPROX_SIMPLE)\n",
    "    #plt.imshow(im, cmap='gray')\n",
    "\n",
    "    size=len(contours)\n",
    "    for i in range(0,size):\n",
    "        #Calcul de l'aire de la zone\n",
    "        diceContourArea = cv.contourArea(contours[i])\n",
    "        #print(diceContourArea)\n",
    "        if diceContourArea>20 and diceContourArea<250:\n",
    "            #print(diceContourArea)\n",
    "\n",
    "            #rect = cv.minAreaRect(contours[i])\n",
    "            #box = cv.boxPoints(rect)\n",
    "            #box = np.int0(box)\n",
    "            #cv.drawContours(imgBGR,[box],0,(0,0,255),2)\n",
    "\n",
    "            x,y,w,h=cv.boundingRect(contours[i])#calcul des coordonnées de la zone\n",
    "            cv.rectangle(imgBGR,(x,y),(x+w,y+h),(255,255,0),2)#affiche les rectangles sur l'image binaire\n",
    "            diceROI = thresh[y-2:y+h+2,x-2:x+w+2]#extraction de la zone sur l'image\n",
    "\n",
    "    #inutile, threshFinal = cv.threshold(imgBGR, 225, 255, cv.THRESH_BINARY_INV)        \n",
    "\n",
    "    #inutile2, threshFinal = cv.threshold(diceROI, 225, 255, cv.THRESH_BINARY_INV)   \n",
    "    #plt.imshow(diceROI, cmap='gray')\n",
    "\n",
    "    #print int(ndimage.measurements.center_of_mass(diceROI)[0])\n",
    "    #print int(ndimage.measurements.center_of_mass(diceROI)[1])\n",
    "\n",
    "    centre_h, centre_w = ndimage.measurements.center_of_mass(diceROI)\n",
    "    h, w = diceROI.shape\n",
    "    n = 56\n",
    "    black_image = np.zeros((n,n))\n",
    "    \n",
    "    # print black_image.shape\n",
    "\n",
    "    black_image[int((n-h)/2):int(((n-h)/2)+h),int((n-w)/2):int(((n-w)/2)+w)] = diceROI \n",
    "\n",
    "\n",
    "    #plt.imshow(black_image, cmap='gray')\n",
    "    scale_percent = 50 # percent of original size\n",
    "    width = int(black_image.shape[1] * scale_percent / 100)\n",
    "    height = int(black_image.shape[0] * scale_percent / 100)\n",
    "    dim = (width, height)\n",
    "    # resize image\n",
    "    resized = cv.resize(black_image, dim, interpolation = cv.INTER_AREA)\n",
    "    #sortie = cv.resize(diceROI, None, fx = int(diceROI.shape[0]/20), fy = int(diceROI.shape[1]/20), interpolation = cv.INTER_CUBIC)\n",
    "\n",
    "\n",
    "    A = np.asarray(resized).reshape(-1)\n",
    "\n",
    "    row = []\n",
    "    for result in A:\n",
    "        row.append(result)\n",
    "\n",
    "    row.append(float(chiffre))\n",
    "    \n",
    "    with open('test.csv', \"a\") as file:\n",
    "        writer = csv.writer(file)\n",
    "        writer.writerow(row)\n",
    "\n",
    "if os.path.isfile('test.csv'):\n",
    "    print \"END\"\n",
    "else:\n",
    "    print 'file does not exist'  \n"
   ]
  },
  {
   "cell_type": "markdown",
   "metadata": {},
   "source": [
    "#### **Dataset Generation**\n",
    "\n",
    "Considering the long time necessary to compute the features of the entire dataset, it is recommended to only use a small part of the given csv file, although a large enough training set is necessary to train the model. The recommended values are 1800 and 600 for the training and testing sets, respectively."
   ]
  },
  {
   "cell_type": "code",
   "execution_count": 13,
   "metadata": {},
   "outputs": [
    {
     "name": "stdout",
     "output_type": "stream",
     "text": [
      "Creating training set\n",
      "17181\n",
      "1718\n",
      "\n",
      "Creating testing set\n",
      "2832\n",
      "566\n",
      "\n",
      "Finished creating datasets\n"
     ]
    }
   ],
   "source": [
    "print(\"Creating training set\")\n",
    "with open(\"mnist_trainset.csv\") as f:\n",
    "    lines = sum(1 for line in f)\n",
    "    print lines \n",
    "    \n",
    "print int(0.1*lines)\n",
    "training_set = Dataset(\"mnist_trainset.csv\",int(0.1*lines))\n",
    "\n",
    "print(\"\\nCreating testing set\")\n",
    "with open(\"mnist_testset.csv\") as f:\n",
    "    lines = sum(1 for line in f)\n",
    "    print lines \n",
    "    \n",
    "print int(0.2*lines)\n",
    "testing_set = Dataset(\"mnist_testset.csv\", int(0.2 * lines))\n",
    "\n",
    "print \"\\nFinished creating datasets\""
   ]
  },
  {
   "cell_type": "code",
   "execution_count": 30,
   "metadata": {},
   "outputs": [
    {
     "name": "stdout",
     "output_type": "stream",
     "text": [
      "Creating new testing set\n",
      "done\n"
     ]
    }
   ],
   "source": [
    "print(\"Creating new testing set\")\n",
    "\n",
    "with open('test.csv') as f:\n",
    "    lines = sum(1 for line in f)\n",
    "    \n",
    "new_testing_set = Dataset(\"test.csv\",lines)\n",
    "print 'done'"
   ]
  },
  {
   "cell_type": "code",
   "execution_count": 16,
   "metadata": {},
   "outputs": [],
   "source": [
    "def cvt_obj_nparray(dataset):\n",
    "    X = np.zeros((dataset.length, 12))\n",
    "    Y = np.zeros((dataset.length,))\n",
    "    for i, digit in enumerate(dataset.digits):\n",
    "        Y[i] = digit.target\n",
    "        for j, feature in enumerate(digit.features):\n",
    "            X[i, j] = digit.features[feature]\n",
    "    return X, Y\n",
    "\n",
    "Xtrain, Ytrain = cvt_obj_nparray(training_set)\n",
    "Xtest, Ytest = cvt_obj_nparray(testing_set)\n",
    "Xtrain2, Ytrain2 = cvt_obj_nparray(new_testing_set)"
   ]
  },
  {
   "cell_type": "markdown",
   "metadata": {},
   "source": [
    "##### **Feature computation verification**\n",
    "\n",
    "Verify that the features have been correctly computed before continuing the lab."
   ]
  },
  {
   "cell_type": "code",
   "execution_count": 31,
   "metadata": {},
   "outputs": [
    {
     "name": "stdout",
     "output_type": "stream",
     "text": [
      "Digit target: 1.0\n",
      "Digit features:\n",
      "{'std_grad_M': 281.0496615812661, 'mean_grad_D': 0.05132975774213412, 'std_grad_D': 0.33952297451575353, 'var': 4258.71772178259, 'active_PC_X': 14, 'active_PC_Y': 10, 'std': 65.25885167379664, 'std_PC_X': 3.2691742076555053, 'std_PC_Y': 4.12851581771741, 'mean_grad_M': 112.28893120521555, 'mean_PC_Y': 2.75, 'mean_PC_X': 2.75}\n",
      "Digit image:\n"
     ]
    },
    {
     "data": {
      "text/plain": [
       "<Figure size 432x288 with 0 Axes>"
      ]
     },
     "metadata": {},
     "output_type": "display_data"
    },
    {
     "data": {
      "image/png": "[encoded data removed]",
      "text/plain": [
       "<Figure size 288x288 with 1 Axes>"
      ]
     },
     "metadata": {
      "needs_background": "light"
     },
     "output_type": "display_data"
    },
    {
     "name": "stdout",
     "output_type": "stream",
     "text": [
      "Digit target: 1.0\n",
      "Digit features:\n",
      "{'std_grad_M': 277.7838857481512, 'mean_grad_D': 0.027046909325125382, 'std_grad_D': 0.4439892314118599, 'var': 3316.9408478075543, 'active_PC_X': 6, 'active_PC_Y': 15, 'std': 57.59288886492458, 'std_PC_X': 4.423960733486292, 'std_PC_Y': 2.0873770280289223, 'mean_grad_M': 100.6443718933454, 'mean_PC_Y': 2.0, 'mean_PC_X': 2.0}\n",
      "Digit image:\n"
     ]
    },
    {
     "data": {
      "text/plain": [
       "<Figure size 432x288 with 0 Axes>"
      ]
     },
     "metadata": {},
     "output_type": "display_data"
    },
    {
     "data": {
      "image/png": "[encoded data removed]",
      "text/plain": [
       "<Figure size 288x288 with 1 Axes>"
      ]
     },
     "metadata": {
      "needs_background": "light"
     },
     "output_type": "display_data"
    },
    {
     "name": "stdout",
     "output_type": "stream",
     "text": [
      "Digit target: 1.0\n",
      "Digit features:\n",
      "{'std_grad_M': 291.9862224027822, 'mean_grad_D': -0.11217129960111889, 'std_grad_D': 0.412759845502571, 'var': 4523.875954090579, 'active_PC_X': 12, 'active_PC_Y': 16, 'std': 67.2597647489982, 'std_PC_X': 4.053217416888888, 'std_PC_Y': 2.7902892835178013, 'mean_grad_M': 126.62143671055591, 'mean_PC_Y': 3.0, 'mean_PC_X': 3.0}\n",
      "Digit image:\n"
     ]
    },
    {
     "data": {
      "text/plain": [
       "<Figure size 432x288 with 0 Axes>"
      ]
     },
     "metadata": {},
     "output_type": "display_data"
    },
    {
     "data": {
      "image/png": "[encoded data removed]",
      "text/plain": [
       "<Figure size 288x288 with 1 Axes>"
      ]
     },
     "metadata": {
      "needs_background": "light"
     },
     "output_type": "display_data"
    },
    {
     "name": "stdout",
     "output_type": "stream",
     "text": [
      "Digit target: 1.0\n",
      "Digit features:\n",
      "{'std_grad_M': 269.37803261692335, 'mean_grad_D': -0.025469812717056343, 'std_grad_D': 0.27134372312854765, 'var': 2956.160882570902, 'active_PC_X': 13, 'active_PC_Y': 8, 'std': 54.37058839640143, 'std_PC_X': 2.127324658833633, 'std_PC_Y': 3.288042653281116, 'mean_grad_M': 95.52767433652843, 'mean_PC_Y': 1.7857142857142858, 'mean_PC_X': 1.7857142857142858}\n",
      "Digit image:\n"
     ]
    },
    {
     "data": {
      "text/plain": [
       "<Figure size 432x288 with 0 Axes>"
      ]
     },
     "metadata": {},
     "output_type": "display_data"
    },
    {
     "data": {
      "image/png": "[encoded data removed]",
      "text/plain": [
       "<Figure size 288x288 with 1 Axes>"
      ]
     },
     "metadata": {
      "needs_background": "light"
     },
     "output_type": "display_data"
    },
    {
     "name": "stdout",
     "output_type": "stream",
     "text": [
      "Digit target: 1.0\n",
      "Digit features:\n",
      "{'std_grad_M': 260.8052485916367, 'mean_grad_D': 0.01817862745160248, 'std_grad_D': 0.3584098071816584, 'var': 3780.9396536436643, 'active_PC_X': 11, 'active_PC_Y': 10, 'std': 61.489345854738644, 'std_PC_X': 3.16469684526796, 'std_PC_Y': 3.537697856297083, 'mean_grad_M': 97.1508459976571, 'mean_PC_Y': 2.357142857142857, 'mean_PC_X': 2.357142857142857}\n",
      "Digit image:\n"
     ]
    },
    {
     "data": {
      "text/plain": [
       "<Figure size 432x288 with 0 Axes>"
      ]
     },
     "metadata": {},
     "output_type": "display_data"
    },
    {
     "data": {
      "image/png": "[encoded data removed]",
      "text/plain": [
       "<Figure size 288x288 with 1 Axes>"
      ]
     },
     "metadata": {
      "needs_background": "light"
     },
     "output_type": "display_data"
    },
    {
     "name": "stdout",
     "output_type": "stream",
     "text": [
      "Digit target: 1.0\n",
      "Digit features:\n",
      "{'std_grad_M': 244.36358118273796, 'mean_grad_D': -0.02062337067859064, 'std_grad_D': 0.3162351874707669, 'var': 2849.477390605477, 'active_PC_X': 10, 'active_PC_Y': 10, 'std': 53.38049635031017, 'std_PC_X': 2.7562544830821056, 'std_PC_Y': 2.6370592774249624, 'mean_grad_M': 83.77844230880314, 'mean_PC_Y': 1.7857142857142858, 'mean_PC_X': 1.7857142857142858}\n",
      "Digit image:\n"
     ]
    },
    {
     "data": {
      "text/plain": [
       "<Figure size 432x288 with 0 Axes>"
      ]
     },
     "metadata": {},
     "output_type": "display_data"
    },
    {
     "data": {
      "image/png": "[encoded data removed]",
      "text/plain": [
       "<Figure size 288x288 with 1 Axes>"
      ]
     },
     "metadata": {
      "needs_background": "light"
     },
     "output_type": "display_data"
    },
    {
     "name": "stdout",
     "output_type": "stream",
     "text": [
      "Digit target: 1.0\n",
      "Digit features:\n",
      "{'std_grad_M': 260.89596252507926, 'mean_grad_D': 0.030417407488435393, 'std_grad_D': 0.26823233565693616, 'var': 3269.9961441847145, 'active_PC_X': 13, 'active_PC_Y': 8, 'std': 57.183880107812854, 'std_PC_X': 2.2277814533929563, 'std_PC_Y': 3.707927249798183, 'mean_grad_M': 92.20193135936192, 'mean_PC_Y': 1.9642857142857142, 'mean_PC_X': 1.9642857142857142}\n",
      "Digit image:\n"
     ]
    },
    {
     "data": {
      "text/plain": [
       "<Figure size 432x288 with 0 Axes>"
      ]
     },
     "metadata": {},
     "output_type": "display_data"
    },
    {
     "data": {
      "image/png": "[encoded data removed]",
      "text/plain": [
       "<Figure size 288x288 with 1 Axes>"
      ]
     },
     "metadata": {
      "needs_background": "light"
     },
     "output_type": "display_data"
    },
    {
     "name": "stdout",
     "output_type": "stream",
     "text": [
      "Digit target: 1.0\n",
      "Digit features:\n",
      "{'std_grad_M': 281.16976599307804, 'mean_grad_D': 0.021959872746901, 'std_grad_D': 0.27199123427796573, 'var': 3612.6528090509173, 'active_PC_X': 15, 'active_PC_Y': 7, 'std': 60.105347591133, 'std_PC_X': 2.2999001752959907, 'std_PC_Y': 4.528115118966415, 'mean_grad_M': 106.82245458621412, 'mean_PC_Y': 2.1785714285714284, 'mean_PC_X': 2.1785714285714284}\n",
      "Digit image:\n"
     ]
    },
    {
     "data": {
      "text/plain": [
       "<Figure size 432x288 with 0 Axes>"
      ]
     },
     "metadata": {},
     "output_type": "display_data"
    },
    {
     "data": {
      "image/png": "[encoded data removed]",
      "text/plain": [
       "<Figure size 288x288 with 1 Axes>"
      ]
     },
     "metadata": {
      "needs_background": "light"
     },
     "output_type": "display_data"
    },
    {
     "name": "stdout",
     "output_type": "stream",
     "text": [
      "Digit target: 1.0\n",
      "Digit features:\n",
      "{'std_grad_M': 269.56273796998323, 'mean_grad_D': 0.023171919156377747, 'std_grad_D': 0.2704305379118996, 'var': 3056.8738016671114, 'active_PC_X': 14, 'active_PC_Y': 7, 'std': 55.28900253818214, 'std_PC_X': 2.1165046271470076, 'std_PC_Y': 3.9705548884820847, 'mean_grad_M': 95.38414144991832, 'mean_PC_Y': 1.8571428571428572, 'mean_PC_X': 1.8571428571428572}\n",
      "Digit image:\n"
     ]
    },
    {
     "data": {
      "text/plain": [
       "<Figure size 432x288 with 0 Axes>"
      ]
     },
     "metadata": {},
     "output_type": "display_data"
    },
    {
     "data": {
      "image/png": "[encoded data removed]",
      "text/plain": [
       "<Figure size 288x288 with 1 Axes>"
      ]
     },
     "metadata": {
      "needs_background": "light"
     },
     "output_type": "display_data"
    }
   ],
   "source": [
    "for i in range(len(new_testing_set.digits)):\n",
    "    new_testing_set.digits[i].__print__()"
   ]
  },
  {
   "cell_type": "markdown",
   "metadata": {},
   "source": [
    "#### **Classifier Training**\n",
    "\n",
    "In this section, you will have to initialize a Decision Tree classifier and train it with the generated training set. As a first step, set the **maximum depth** of the Decision Tree **equal to 2**.\n",
    "\n",
    "To quickly assess the quality of the trained model, you will compute the prediction accuracy on both the training and testing datasets.\n",
    "\n",
    "*Useful functions &Rightarrow; DecisionTreeClassifier and DecisionTreeClassifier.fit()*"
   ]
  },
  {
   "cell_type": "code",
   "execution_count": 32,
   "metadata": {},
   "outputs": [],
   "source": [
    "from sklearn.tree import DecisionTreeClassifier\n",
    "clf = DecisionTreeClassifier(random_state = 0, max_depth = 2)\n"
   ]
  },
  {
   "cell_type": "code",
   "execution_count": 34,
   "metadata": {},
   "outputs": [],
   "source": [
    "from sklearn.neighbors import KNeighborsClassifier\n",
    "\n",
    "clf = KNeighborsClassifier()"
   ]
  },
  {
   "cell_type": "code",
   "execution_count": 36,
   "metadata": {},
   "outputs": [],
   "source": [
    "from sklearn.ensemble import RandomForestClassifier\n",
    "from sklearn.metrics import accuracy_score\n",
    "\n",
    "clf = RandomForestClassifier(n_estimators=100)"
   ]
  },
  {
   "cell_type": "code",
   "execution_count": 27,
   "metadata": {},
   "outputs": [],
   "source": [
    "from sklearn.svm import LinearSVC\n",
    "\n",
    "clf = LinearSVC()"
   ]
  },
  {
   "cell_type": "code",
   "execution_count": 35,
   "metadata": {},
   "outputs": [
    {
     "name": "stdout",
     "output_type": "stream",
     "text": [
      "Training classifier\n",
      "Score on training set: 0.631548311991\n",
      "Score on testing set: 0.436395759717\n",
      "Score on new testing set: 0.0\n"
     ]
    }
   ],
   "source": [
    "print(\"Training classifier\")\n",
    "# Training Decision Tree\n",
    "clf.fit(Xtrain, Ytrain)\n",
    "\n",
    "acc_train = clf.score(Xtrain, Ytrain)\n",
    "print(\"Score on training set: {}\".format(acc_train))\n",
    "# Compute prediction accuracy on training set\n",
    "\n",
    "acc_test = clf.score(Xtest, Ytest)\n",
    "print(\"Score on testing set: {}\".format(acc_test))\n",
    "# Compute prediction accuracy on testing set\n",
    "\n",
    "acc_new_test = clf.score(Xtrain2, Ytrain2)\n",
    "print(\"Score on new testing set: {}\".format(acc_new_test))\n",
    "# Compute prediction accuracy on new testing set"
   ]
  },
  {
   "cell_type": "markdown",
   "metadata": {},
   "source": [
    "#### **Prediction**\n"
   ]
  },
  {
   "cell_type": "code",
   "execution_count": 70,
   "metadata": {},
   "outputs": [],
   "source": [
    "y_pred = clf.predict(Xtrain2)\n",
    "i = 0\n",
    "for prediction in y_pred:\n",
    "    if prediction != float(chiffre):\n",
    "        print \"\\nThe number predicted was: {}\".format(y_pred[i]) + \" but the anwser should be: {}\".format(float(chiffre)) + '\\n'\n",
    "        new_testing_set.digits[i].__print__()\n",
    "    i+=1"
   ]
  },
  {
   "cell_type": "markdown",
   "metadata": {},
   "source": [
    "##### **Parameter tuning**\n",
    "\n",
    "In any machine learning problem, tuning the parameters defining the classifier model is an important step. In our simple classification problem, we will only study the optimal maximum_depth of the decision tree. In this cell, test various values for the depth of the tree, and display the accuracy on both training and testing datasets as a function of the depth.\n",
    "\n",
    "*Useful functions &Rightarrow; plt.plot(), plt.title(), plt.xlabel(), plt.ylabel(), plt.legend()*"
   ]
  },
  {
   "cell_type": "code",
   "execution_count": 10,
   "metadata": {},
   "outputs": [
    {
     "data": {
      "image/png": "[encoded data removed]",
      "text/plain": [
       "<Figure size 1152x576 with 1 Axes>"
      ]
     },
     "metadata": {
      "needs_background": "light"
     },
     "output_type": "display_data"
    }
   ],
   "source": [
    "# Model training and accuracy computation for different maximum_depth parameters\n",
    "tree_depth = [i for i in range(2, 30)]\n",
    "accs_train = []\n",
    "accs_test  = []\n",
    "\n",
    "for depth in tree_depth:\n",
    "    clf = DecisionTreeClassifier(random_state = 0, max_depth = depth)\n",
    "    clf.fit(Xtrain, Ytrain)\n",
    "    accs_train.append(clf.score(Xtrain, Ytrain))\n",
    "    accs_test.append(clf.score(Xtest, Ytest))\n",
    "plt.figure(figsize=(16, 8))\n",
    "\n",
    "# Draw accuracies as a function of the depth for both trainin and testing sets\n",
    "plt.plot(tree_depth, accs_train, label = 'Train Accuracy')\n",
    "plt.plot(tree_depth, accs_test,  label = 'Test Accuracy')\n",
    "plt.ylabel('Accuracy')\n",
    "plt.xlabel('Tree Depth')\n",
    "plt.legend()\n",
    "plt.xticks(tree_depth)\n",
    "plt.show()  "
   ]
  },
  {
   "cell_type": "code",
   "execution_count": 11,
   "metadata": {},
   "outputs": [
    {
     "data": {
      "text/plain": [
       "8"
      ]
     },
     "execution_count": 11,
     "metadata": {},
     "output_type": "execute_result"
    }
   ],
   "source": [
    "tree_depth[np.argmax(accs_test)]"
   ]
  },
  {
   "cell_type": "markdown",
   "metadata": {},
   "source": [
    "##### **Analysis of the trained model**\n",
    "\n",
    "Once you have found the depth value offering the best trade-off between complexity and accuracy, retrain your final model that will be analyzed in the remaining of the lab.\n",
    "\n",
    "To further analyze the performances or your model, a useful tool for a classification problem is the confusion matrix. This allows you to quickly assess the quality of your model by displaying the amount of each possible prediction outcome, the diagonal cells corresponding to accurate predictions while other cells correspond to prediction errors.\n",
    "\n",
    "The code of the function to plot this confusion matrix is given in a cell at the end of the notebook (simply run the cell to use the function).\n",
    "\n",
    "Parameters to give to the **plot_confusion_matrix** function:\n",
    "* confusion matrix (obtained with the confusion_matrix matrix from module sklearn.metrics)\n",
    "* list of class labels\n",
    "* title of the figure plot\n",
    "\n",
    "*Useful functions &Rightarrow; DecisionTreeClassifier.predict() and confusion_matrix()*"
   ]
  },
  {
   "cell_type": "code",
   "execution_count": 14,
   "metadata": {},
   "outputs": [],
   "source": [
    "opt_clf = DecisionTreeClassifier(random_state = 0, max_depth = 8)\n",
    "opt_clf.fit(Xtrain, Ytrain)\n",
    "Ypred_train = opt_clf.predict(Xtrain)\n",
    "Ypred_test = opt_clf.predict(Xtest)"
   ]
  },
  {
   "cell_type": "code",
   "execution_count": 48,
   "metadata": {},
   "outputs": [
    {
     "name": "stdout",
     "output_type": "stream",
     "text": [
      "3.0\n"
     ]
    }
   ],
   "source": [
    "count = 0\n",
    "\n",
    "for diff in (Ypred_test[1:1000] - Ypred_train[1:1000]):\n",
    "    if diff == 0:\n",
    "        count = count +1\n",
    "\n",
    "print(float(count / 100))\n"
   ]
  },
  {
   "cell_type": "markdown",
   "metadata": {},
   "source": [
    "##### **plot_confusion_matrix**"
   ]
  },
  {
   "cell_type": "code",
   "execution_count": 11,
   "metadata": {},
   "outputs": [],
   "source": [
    "import itertools\n",
    "def plot_confusion_matrix(cm, classes,title='Confusion matrix',cmap=plt.cm.Blues):\n",
    "    plt.imshow(cm, interpolation='nearest', cmap=cmap)\n",
    "    plt.title(title)\n",
    "    plt.colorbar()\n",
    "    tick_marks = np.arange(len(classes))\n",
    "    plt.xticks(tick_marks, classes, rotation=45)\n",
    "    plt.yticks(tick_marks, classes)\n",
    "\n",
    "    fmt = 'd'\n",
    "    thresh = cm.max() / 2.\n",
    "    for i, j in itertools.product(range(cm.shape[0]), range(cm.shape[1])):\n",
    "        plt.text(j, i, format(cm[i, j], fmt),\n",
    "                 horizontalalignment=\"center\",\n",
    "                 color=\"white\" if cm[i, j] > thresh else \"black\")\n",
    "\n",
    "    plt.ylabel('True label')\n",
    "    plt.xlabel('Predicted label')\n",
    "    plt.tight_layout()"
   ]
  },
  {
   "cell_type": "code",
   "execution_count": 12,
   "metadata": {},
   "outputs": [
    {
     "data": {
      "image/png": "[encoded data removed]",
      "text/plain": [
       "<Figure size 864x432 with 4 Axes>"
      ]
     },
     "metadata": {
      "needs_background": "light"
     },
     "output_type": "display_data"
    }
   ],
   "source": [
    "from sklearn.metrics import confusion_matrix\n",
    "\n",
    "class_names = ['Digit 0', 'Digit 1', 'Digit 2']\n",
    "plt.figure(figsize=(12,6))\n",
    "\n",
    "# Computation of confusion matrix on training set\n",
    "cm = confusion_matrix(Ytrain, Ypred_train)\n",
    "plt.subplot(121)\n",
    "plot_confusion_matrix(cm, classes=class_names,title='Confusion matrix, Training Set')\n",
    "\n",
    "# Computation of confusion matrix on testing set\n",
    "cm = confusion_matrix(Ytest, Ypred_test)\n",
    "plt.subplot(122)\n",
    "plot_confusion_matrix(cm, classes=class_names,title='Confusion matrix, Testing Set')\n",
    "plt.show()"
   ]
  },
  {
   "cell_type": "markdown",
   "metadata": {},
   "source": [
    "##### **Feature importance**\n",
    "\n",
    "Another important step in classical machine learning problems is to limit as much as possible the number of features in order to reduce the complexity of the model. To do so, since you already trained the classifier with all the computed features, you can simply assess the importance of each feature in the trained model. \n",
    "\n",
    "Each classifier has an attribute ***feature_importance*** that contains an array representing the importance of each feature. The importance represents the ability of the feature to split the dataset in a meaningful manner. A value close to 1 means that the feature is good to discriminate the classes comprising the dataset, while a value close to 0 shows that the feature has not been selected during the training process due to its poor splitting ability.\n",
    "\n",
    "\n",
    "In this cell, you will retrieve this information and generate a bar diagram with the feature names as bins and the feature importances as values.\n",
    "\n",
    "*Useful functions &Rightarrow; ax.bar(), ax.set_xticks(), ax.set_xticklabels() (usage &rightarrow; ax.set_xticklabels(label_list, rotation=45, ha='right'))*"
   ]
  },
  {
   "cell_type": "code",
   "execution_count": 14,
   "metadata": {},
   "outputs": [
    {
     "name": "stdout",
     "output_type": "stream",
     "text": [
      "[0.10143666 0.01485306 0.65580337 0.00584452 0.01330006 0.00795959\n",
      " 0.00819664 0.00827138 0.03090649 0.11432224 0.01548084 0.02362516]\n"
     ]
    }
   ],
   "source": [
    "importance = opt_clf.feature_importances_\n",
    "print(importance)"
   ]
  },
  {
   "cell_type": "code",
   "execution_count": 15,
   "metadata": {},
   "outputs": [
    {
     "data": {
      "text/plain": [
       "[Text(0,0,'std_grad_M'),\n",
       " Text(0,0,'mean_grad_D'),\n",
       " Text(0,0,'std_grad_D'),\n",
       " Text(0,0,'var'),\n",
       " Text(0,0,'active_PC_X'),\n",
       " Text(0,0,'active_PC_Y'),\n",
       " Text(0,0,'std'),\n",
       " Text(0,0,'std_PC_X'),\n",
       " Text(0,0,'std_PC_Y'),\n",
       " Text(0,0,'mean_grad_M'),\n",
       " Text(0,0,'mean_PC_Y'),\n",
       " Text(0,0,'mean_PC_X')]"
      ]
     },
     "execution_count": 15,
     "metadata": {},
     "output_type": "execute_result"
    },
    {
     "data": {
      "image/png": "[encoded data removed]",
      "text/plain": [
       "<Figure size 1152x288 with 1 Axes>"
      ]
     },
     "metadata": {
      "needs_background": "light"
     },
     "output_type": "display_data"
    }
   ],
   "source": [
    "bins = np.arange(len(training_set.digits[0].features))\n",
    "label_list = []\n",
    "for feature in training_set.digits[0].features:\n",
    "    label_list.append(feature)\n",
    "\n",
    "plt.figure(figsize=(16,4))\n",
    "ax = plt.subplot(111)\n",
    "ax.bar(bins, importance)\n",
    "ax.set_xticks(np.arange(len(label_list)))\n",
    "ax.set_yticks([])\n",
    "ax.set_xticklabels(label_list, rotation = 45, ha = 'right')\n",
    "# Display bar graph of feature importances with feature names as labels"
   ]
  },
  {
   "cell_type": "code",
   "execution_count": null,
   "metadata": {},
   "outputs": [],
   "source": []
  }
 ],
 "metadata": {
  "kernelspec": {
   "display_name": "Python 2",
   "language": "python",
   "name": "python2"
  },
  "language_info": {
   "codemirror_mode": {
    "name": "ipython",
    "version": 2
   },
   "file_extension": ".py",
   "mimetype": "text/x-python",
   "name": "python",
   "nbconvert_exporter": "python",
   "pygments_lexer": "ipython2",
   "version": "2.7.15+"
  }
 },
 "nbformat": 4,
 "nbformat_minor": 2
}
