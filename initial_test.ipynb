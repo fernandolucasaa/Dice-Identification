{
 "cells": [
  {
   "cell_type": "markdown",
   "metadata": {},
   "source": [
    "# **Number classification algorithm**"
   ]
  },
  {
   "cell_type": "markdown",
   "metadata": {},
   "source": [
    "## **Introduction**\n",
    "\n",
    "This is the main program that makes different methods of number classification, the study of each algorithm is done in each specific file"
   ]
  },
  {
   "cell_type": "markdown",
   "metadata": {},
   "source": [
    "## **Image Traitement**\n",
    "\n",
    "Before using the ML algorithm it must verify that the images that will be used in the classification is in the same format and size as the ones in the database (MNIST)"
   ]
  },
  {
   "cell_type": "code",
   "execution_count": 1,
   "metadata": {},
   "outputs": [],
   "source": [
    "#Libraries for the image traitement function\n",
    "\n",
    "import numpy as np\n",
    "import matplotlib.pyplot as plt\n",
    "import csv\n",
    "import cv2 as cv\n",
    "from scipy import ndimage\n",
    "import os"
   ]
  },
  {
   "cell_type": "code",
   "execution_count": 2,
   "metadata": {},
   "outputs": [],
   "source": [
    "# This function is responsable to open all the images obtained by the camera and already processed. \n",
    "# The images are transform to be able to compare with the EMNIST database. To do so, basically,\n",
    "# the function bellow identiify the number in the image, remove this number, insert it in a new image\n",
    "# in the format of the database and create a file test.cvs to be use by the machine learning's algorithms. \n",
    "\n",
    "def image_traitement(image_path):\n",
    "\n",
    "    # set the parameters to read the images\n",
    "    image_path_chiffre = image_path # path of the file\n",
    "    chiffre = image_path_chiffre[-2] # number of the dice\n",
    "\n",
    "    # list to store all the images in the folder\n",
    "    image_list = []\n",
    "    for x in os.listdir(image_path_chiffre):\n",
    "        path_image = image_path_chiffre + x\n",
    "        im = cv.imread(path_image, 0)\n",
    "        image_list.append(im)\n",
    "\n",
    "    # list with images after the processing\n",
    "    resized_list = []\n",
    "\n",
    "    # image processing for each image of the folder\n",
    "    for im in image_list:\n",
    "\n",
    "        # convert the color to gray\n",
    "        imgray = cv.cvtColor(im, cv.COLOR_GRAY2BGR) #for better accuracy, use binary images\n",
    "        \n",
    "        # apply the threshold to invert the pixels of the image\n",
    "        # all pixels value equal to 255 (white) will be set to 0 (black)\n",
    "        ret, thresh = cv.threshold(im, 225, 255, cv.THRESH_BINARY_INV) #OBS: try change to imgray\n",
    "        #plt.imshow(im, cmap='gray') # image with the pixels inverted\n",
    "        \n",
    "        # calculate all the countors of the image\n",
    "        # the variable contours contains points of the countors\n",
    "        contours, hierarchy = cv.findContours(thresh, cv.RETR_TREE, cv.CHAIN_APPROX_SIMPLE)\n",
    "        \n",
    "        # loop over the contours points, calculate the area of these points and \n",
    "        # chose the first area that is sufficently large\n",
    "        for i in range(len(contours)):\n",
    "\n",
    "            # calcul de la zone des contours\n",
    "            area = cv.contourArea(contours[i])\n",
    "\n",
    "            # if the contour is sufficiently large, it must be the digit\n",
    "            if area > 50 and area < 700:\n",
    "                \n",
    "                # compute the bounding box where (x,y) is the top-left coordinate of the rectangle \n",
    "                # and (w,h) is the width and height\n",
    "                (x, y, w, h) = cv.boundingRect(contours[i]) # calcul de coordonnes de la zone\n",
    "\n",
    "                # affiche les rectangles sur l'image binaire\n",
    "                #cv.rectangle(imgray, (x,y), (x+w,y+h), (255,255,0), 2) \n",
    "\n",
    "                # extract the region of interest (ROI) using the informations of the bounding box\n",
    "                diceROI = thresh[y-2 : y+h+2, x-2 : x+w+2] # extraction de la zone sur l'image    \n",
    "                #plt.matshow(diceROI, cmap=\"gray\")\n",
    "                break\n",
    "                 \n",
    "        # calculate the center of mass, the height and the width of the ROI\n",
    "        centre_h, centre_w = ndimage.measurements.center_of_mass(diceROI)\n",
    "        h, w = diceROI.shape\n",
    "        \n",
    "        # create a new image and insert the ROI\n",
    "        n = 56 # the ROI will be insert in the center of a bigger image\n",
    "        \n",
    "        black_image = np.zeros((n,n))\n",
    "        black_image[int((n-h)/2) : int(((n-h)/2)+h), int((n-w)/2) : int(((n-w)/2)+w)] = diceROI \n",
    "        #plt.matshow(black_image, cmap='gray')\n",
    "\n",
    "        # resize the image to the format 28x28 pixel (format of the database)\n",
    "        scale_percent = 50 # percent of original size\n",
    "        \n",
    "        width = int(black_image.shape[1] * scale_percent / 100)\n",
    "        height = int(black_image.shape[0] * scale_percent / 100)\n",
    "        dim = (width, height)\n",
    "\n",
    "        # resize the image\n",
    "        resized = cv.resize(black_image, dim, interpolation = cv.INTER_AREA)\n",
    "        resized_list.append(resized) # add to the list of final images\n",
    "\n",
    "        # write the pixel matrix in the test.csv file, the row will have 785 columns (28x28 + 1)\n",
    "        # where the last column is the dice's number\n",
    "        A = np.asarray(resized).reshape(-1) # shape the matrix to just one line\n",
    "        \n",
    "        row = []\n",
    "        for result in A:\n",
    "            row.append(result)\n",
    "        row.append(float(chiffre)) #the last column is the dice's number\n",
    "\n",
    "        # open the file in the for appending new information (new row)\n",
    "        with open('initial_test.csv', \"a\") as file:\n",
    "            writer = csv.writer(file)\n",
    "            writer.writerow(row) \n",
    "\n",
    "    # print the processed images \n",
    "    #print(\"Dice's number: \" + str(chiffre))\n",
    "    #print(\"Number of the images in the folder: \" + str(len(image_list)))\n",
    "    #print(\"Number of the images created: \" + str(len(resized_list)))\n",
    "    #for pos in range(0, len(resized_list)):\n",
    "    #    plt.matshow(resized_list[pos], cmap='gray')\n",
    "    '''\n",
    "    if os.path.isfile('test.csv'):\n",
    "        print (\"END\")\n",
    "    else:\n",
    "        print ('file does not exist')\n",
    "    '''"
   ]
  },
  {
   "cell_type": "markdown",
   "metadata": {},
   "source": [
    "## **Read database**\n",
    "\n",
    "This part contains the functions to extract the database from the python library and also to extract the information from the csv file."
   ]
  },
  {
   "cell_type": "code",
   "execution_count": 3,
   "metadata": {},
   "outputs": [
    {
     "name": "stderr",
     "output_type": "stream",
     "text": [
      "Using TensorFlow backend.\n",
      "/home/morooka/.local/lib/python2.7/site-packages/sklearn/ensemble/weight_boosting.py:29: DeprecationWarning: numpy.core.umath_tests is an internal NumPy module and should not be imported. It will be removed in a future NumPy release.\n",
      "  from numpy.core.umath_tests import inner1d\n"
     ]
    }
   ],
   "source": [
    "#Libraries for this second part\n",
    "from keras.datasets import mnist\n",
    "import numpy as np\n",
    "import csv\n",
    "import matplotlib.pyplot as plt \n",
    "\n",
    "from sklearn.neighbors import KNeighborsClassifier\n",
    "from sklearn.tree import DecisionTreeClassifier\n",
    "from sklearn.ensemble import RandomForestClassifier\n",
    "from sklearn import svm\n",
    "from sklearn.metrics import accuracy_score\n",
    "import itertools\n",
    "from sklearn.metrics import confusion_matrix"
   ]
  },
  {
   "cell_type": "code",
   "execution_count": 4,
   "metadata": {},
   "outputs": [
    {
     "name": "stdout",
     "output_type": "stream",
     "text": [
      "Loading Training dataset and Testing dataset...\n",
      "Finished loading!\n"
     ]
    }
   ],
   "source": [
    "#Extract the numbers from database\n",
    "\n",
    "def selectDiceNumbers(img_list_all, labels_list_all):\n",
    "    img_final = []\n",
    "    labels_final = []\n",
    "    diceNumbers = [1, 2, 3, 4, 5, 6]\n",
    "\n",
    "    if len(img_list_all) == len(labels_list_all):\n",
    "        initialSize = range(len(img_list_all))\n",
    "    else:\n",
    "        print(\"Size of lists must be the same!\")\n",
    "\n",
    "    for i in initialSize:\n",
    "        if (labels_list_all[i] in diceNumbers):\n",
    "            img_final.append(img_list_all[i])\n",
    "            labels_final.append(labels_list_all[i])\n",
    "    \n",
    "    return img_final, labels_final\n",
    "\n",
    "def load_datasets():\n",
    "    print(\"Loading Training dataset and Testing dataset...\")\n",
    "    (img_train_all, labels_train_all),(img_test_all, labels_test_all) = mnist.load_data()\n",
    "    \n",
    "    img_train, labels_train = selectDiceNumbers(img_train_all, labels_train_all)\n",
    "    img_test, labels_test = selectDiceNumbers(img_test_all, labels_test_all)\n",
    "\n",
    "    print(\"Finished loading!\")\n",
    "    \n",
    "    return img_train, labels_train, img_test, labels_test\n",
    "\n",
    "    \n",
    "X_train, Y_train, X_test, Y_test = load_datasets()\n",
    "#Train dataset size = 36012\n",
    "#Test dataset size = 6009"
   ]
  },
  {
   "cell_type": "code",
   "execution_count": 5,
   "metadata": {},
   "outputs": [],
   "source": [
    "def read_test():    \n",
    "    image = []\n",
    "    labels = []\n",
    "    with open('initial_test.csv', 'r') as csvfile:\n",
    "        spamreader = csv.reader(csvfile, delimiter = ',', quotechar = '|', quoting = csv.QUOTE_NONNUMERIC)\n",
    "        for line in spamreader:\n",
    "            image.append(np.array(line[:-1]))\n",
    "            labels.append(line[-1])\n",
    "    \n",
    "    return image, labels"
   ]
  },
  {
   "cell_type": "code",
   "execution_count": 6,
   "metadata": {},
   "outputs": [],
   "source": [
    "def create_number_list(data):\n",
    "    images = []\n",
    "    for x in data:\n",
    "        images.append(x.reshape(-1))\n",
    "#        number = []\n",
    "#        for y in x:\n",
    "#            for pixel in y:\n",
    "#                number.append(pixel)\n",
    "#        images.append(number)\n",
    "\n",
    "    return images"
   ]
  },
  {
   "cell_type": "code",
   "execution_count": 7,
   "metadata": {},
   "outputs": [],
   "source": [
    "def plot_confusion_matrix(clf, data_x, data_y):\n",
    "    classes = ['1', '2', '3', '4', '5', '6']\n",
    "\n",
    "    Ypred = clf.predict(data_x)\n",
    "    \n",
    "    # Computation of confusion matrix on testing set\n",
    "    cm = confusion_matrix(data_y, Ypred)\n",
    "    \n",
    "    plt.imshow(cm, interpolation='nearest', cmap=plt.cm.Blues)\n",
    "    plt.title('Confusion matrix')\n",
    "    plt.colorbar()\n",
    "    tick_marks = np.arange(len(classes))\n",
    "    plt.xticks(tick_marks, classes, rotation=45)\n",
    "    plt.yticks(tick_marks, classes)\n",
    "\n",
    "    fmt = 'd'\n",
    "    thresh = cm.max() / 2.\n",
    "    for i, j in itertools.product(range(cm.shape[0]), range(cm.shape[1])):\n",
    "        plt.text(j, i, format(cm[i, j], fmt),\n",
    "                 horizontalalignment=\"center\",\n",
    "                 color=\"white\" if cm[i, j] > thresh else \"black\")\n",
    "\n",
    "    plt.ylabel('True label')\n",
    "    plt.xlabel('Predicted label')\n",
    "    plt.tight_layout()"
   ]
  },
  {
   "cell_type": "code",
   "execution_count": 8,
   "metadata": {},
   "outputs": [],
   "source": [
    "def tuning_parameter(start_value, end_value, N, model):\n",
    "    # Model training and accuracy computation for different parameters\n",
    "    values = [i for i in range(start_value, end_value)]\n",
    "    accs_train = []\n",
    "    accs_test  = []\n",
    "\n",
    "    # Train on the first N train images\n",
    "    train_x = create_number_list(X_train[:N])\n",
    "    train_y = np.array(Y_train[:N])\n",
    "\n",
    "    # Test on the next N/6 test images:\n",
    "    test_x = create_number_list(X_test[:N/6])\n",
    "    test_y = np.array(Y_test[:N/6]) \n",
    "    \n",
    "    for i in values:\n",
    "        if model == 1:\n",
    "            clf = KNeighborsClassifier(n_neighbors=i)\n",
    "        elif model == 2:\n",
    "            clf = DecisionTreeClassifier(random_state = 0, max_depth = i)\n",
    "        elif model == 3:\n",
    "            clf = RandomForestClassifier(n_estimators=i)\n",
    "        elif model == 4:\n",
    "            clf = svm.LinearSVC(random_state=0)\n",
    "        clf.fit(train_x, train_y)\n",
    "        accs_train.append(clf.score(train_x, train_y))\n",
    "        accs_test.append(clf.score(test_x, test_y))\n",
    "    plt.figure(figsize=(16, 8))\n",
    "\n",
    "    # Draw accuracies as a function of the depth for both trainin and testing sets\n",
    "    if model == 1:\n",
    "        plt.title(\"KNN\")\n",
    "    elif model == 2:\n",
    "        plt.title(\"Decision Tree Classifier\")\n",
    "    elif model == 3:\n",
    "        plt.title(\"Random Forest Classifier\")\n",
    "    elif model == 4:\n",
    "        plt.title(\"Support Vector Machine\")    \n",
    "    plt.plot(values, accs_train, label = 'Train Accuracy')\n",
    "    plt.plot(values, accs_test,  label = 'Test Accuracy')\n",
    "    plt.ylabel('Accuracy')\n",
    "    plt.xlabel('Parameter')\n",
    "    plt.legend()\n",
    "    plt.xticks(values)\n",
    "    plt.show()  "
   ]
  },
  {
   "cell_type": "code",
   "execution_count": 9,
   "metadata": {},
   "outputs": [],
   "source": [
    "def model_evaluation(N, model):\n",
    "    # Create the classifier using the scikit learn library\n",
    "    if model == 1:\n",
    "        modelName = \"KK neighbors\"\n",
    "        clf = KNeighborsClassifier(n_neighbors=10)\n",
    "    elif model == 2:\n",
    "        modelName = \"Decision Tree\"\n",
    "        clf = DecisionTreeClassifier(random_state = 0, max_depth = 20)\n",
    "    elif model == 3:\n",
    "        modelName = \"Random Forest\"\n",
    "        clf = RandomForestClassifier(n_estimators=100)\n",
    "    elif model == 4:\n",
    "        modelName = \"Support Vector Machine\"\n",
    "        clf = svm.LinearSVC(random_state=0)\n",
    "\n",
    "    print(\"Analysing \" + modelName + \" model\")\n",
    "    \n",
    "    # Train on the first N train images\n",
    "    train_x = create_number_list(X_train[:N])\n",
    "    train_y = np.array(Y_train[:N])\n",
    "\n",
    "    # Test on the next N/6 test images:\n",
    "    test_x = create_number_list(X_test[:N/6])\n",
    "    test_y = np.array(Y_test[:N/6]) \n",
    "    \n",
    "    #Train the classifier\n",
    "    clf.fit(train_x, train_y)\n",
    "    \n",
    "    #New set of values\n",
    "    test_x_photos, test_y_photos = read_test()\n",
    "    \n",
    "    print(\"Using: \" + str(N) + \" images from database\")\n",
    "    print(\"Using: \" + str(len(test_x_photos)) + \" photos taken\")\n",
    "      \n",
    "    #Predict the results of the test dataset\n",
    "    predicted = clf.predict(test_x)\n",
    "    predicted_photos = clf.predict(test_x_photos)\n",
    "    print(\"The accuracy for the test database is: \" + str(round((accuracy_score(test_y, predicted) * 100), 3)) + \"%\")\n",
    "    print(\"The accuracy for the photos taken is: \" + str(round((accuracy_score(test_y_photos, predicted_photos) * 100), 3)) + \"%\")\n",
    "\n",
    "    \n",
    "    #Plot confusion matrix for analyse the classification\n",
    "    plt.figure(figsize=(12,6))\n",
    "\n",
    "    plt.subplot(121)\n",
    "    plt.title(\"Confusion Matrix for test database\")\n",
    "    plot_confusion_matrix(clf, test_x, test_y)\n",
    "    \n",
    "    plt.subplot(122)\n",
    "    plt.title(\"Confusion Matrix Photos taken\")\n",
    "    plot_confusion_matrix(clf, test_x_photos, test_y_photos)\n",
    "    plt.show()"
   ]
  },
  {
   "cell_type": "markdown",
   "metadata": {},
   "source": [
    "# **Main for executing the analysis**\n",
    "\n",
    "This is the main that executes the functions defined above"
   ]
  },
  {
   "cell_type": "code",
   "execution_count": 10,
   "metadata": {},
   "outputs": [],
   "source": [
    "import os\n",
    "import sys\n",
    "\n",
    "def main(model, N):\n",
    "    \n",
    "    valid_models = [1, 2, 3, 4]\n",
    "\n",
    "    if model not in valid_models:\n",
    "        print(\"MODEL VALUE MUST BE 1,2,3,4\")\n",
    "        sys.exit()\n",
    "    \n",
    "    if N > 36012:\n",
    "        print(\"N VALUE MUST BE SMALLER THAN 36012\")\n",
    "        sys.exit()\n",
    "        \n",
    "    img1 = os.getcwd() + '/chiffres/Numero1/'\n",
    "    img2 = os.getcwd() + '/chiffres/Numero2/'\n",
    "    img3 = os.getcwd() + '/chiffres/Numero3/'\n",
    "    img4 = os.getcwd() + '/chiffres/Numero4/'\n",
    "    img5 = os.getcwd() + '/chiffres/Numero5/'\n",
    "    img6 = os.getcwd() + '/chiffres/Numero6/'        \n",
    "        \n",
    "    if os.path.isfile('initial_test.csv'):\n",
    "        os.remove('initial_test.csv')\n",
    "    else:\n",
    "        print 'Test file does not exist'\n",
    "            \n",
    "    for image in [img1, img2, img3, img4, img5, img6]:\n",
    "        image_traitement(image)\n",
    "\n",
    "    if os.path.isfile('initial_test.csv'):\n",
    "        print \"Created test file\"\n",
    "    else:\n",
    "        print 'Test file does not exist'\n",
    "\n",
    "    model_evaluation(N, model)"
   ]
  },
  {
   "cell_type": "code",
   "execution_count": 11,
   "metadata": {},
   "outputs": [
    {
     "name": "stdout",
     "output_type": "stream",
     "text": [
      "Test file does not exist\n",
      "Created test file\n",
      "Analysing KK neighbors model\n",
      "Using: 2000 images from database\n",
      "Using: 188 photos taken\n",
      "The accuracy for the test database is: 90.39%\n",
      "The accuracy for the photos taken is: 35.106%\n"
     ]
    },
    {
     "data": {
      "image/png": "[encoded data removed]",
      "text/plain": [
       "<Figure size 864x432 with 4 Axes>"
      ]
     },
     "metadata": {
      "needs_background": "light"
     },
     "output_type": "display_data"
    }
   ],
   "source": [
    "# Fist argument is the model (1 to 4 models)\n",
    "# 1 ==> Decision Tree Classifier\n",
    "# 2 ==> KK neighbors Classifier\n",
    "# 3 ==> Random Forest Classifier\n",
    "# 4 ==> SVM Classifier\n",
    "\n",
    "#Second argument is the number of numbers analysed, it must be smaller than 36012\n",
    "main(1, 2000)"
   ]
  },
  {
   "cell_type": "code",
   "execution_count": 37,
   "metadata": {},
   "outputs": [
    {
     "name": "stdout",
     "output_type": "stream",
     "text": [
      "Created test file\n",
      "Analysing Decision Tree model\n",
      "Using: 2000 images from database\n",
      "Using: 38 photos taken\n",
      "The accuracy for the test database is: 75.075%\n",
      "The accuracy for the photos taken is: 44.737%\n"
     ]
    },
    {
     "data": {
      "image/png": "[encoded data removed]",
      "text/plain": [
       "<Figure size 864x432 with 4 Axes>"
      ]
     },
     "metadata": {
      "needs_background": "light"
     },
     "output_type": "display_data"
    }
   ],
   "source": [
    "# Fist argument is the model (1 to 4 models)\n",
    "# 1 ==> Decision Tree Classifier\n",
    "# 2 ==> KK neighbors Classifier\n",
    "# 3 ==> Random Forest Classifier\n",
    "# 4 ==> SVM Classifier\n",
    "\n",
    "#Second argument is the number of numbers analysed, it must be smaller than 36012\n",
    "main(2, 2000)"
   ]
  },
  {
   "cell_type": "code",
   "execution_count": 15,
   "metadata": {},
   "outputs": [
    {
     "name": "stdout",
     "output_type": "stream",
     "text": [
      "Created test file\n",
      "Analysing Random Forest model\n",
      "Using: 6000 images from database\n",
      "Using: 188 photos taken\n",
      "The accuracy for the test database is: 95.5%\n",
      "The accuracy for the photos taken is: 29.787%\n"
     ]
    },
    {
     "data": {
      "image/png": "[encoded data removed]",
      "text/plain": [
       "<Figure size 864x432 with 4 Axes>"
      ]
     },
     "metadata": {
      "needs_background": "light"
     },
     "output_type": "display_data"
    }
   ],
   "source": [
    "# Fist argument is the model (1 to 4 models)\n",
    "# 1 ==> Decision Tree Classifier\n",
    "# 2 ==> KK neighbors Classifier\n",
    "# 3 ==> Random Forest Classifier\n",
    "# 4 ==> SVM Classifier\n",
    "\n",
    "#Second argument is the number of numbers analysed, it must be smaller than 36012\n",
    "main(3, 6000)"
   ]
  },
  {
   "cell_type": "code",
   "execution_count": null,
   "metadata": {},
   "outputs": [],
   "source": []
  },
  {
   "cell_type": "code",
   "execution_count": null,
   "metadata": {},
   "outputs": [],
   "source": []
  },
  {
   "cell_type": "code",
   "execution_count": null,
   "metadata": {},
   "outputs": [],
   "source": []
  },
  {
   "cell_type": "code",
   "execution_count": null,
   "metadata": {},
   "outputs": [],
   "source": []
  }
 ],
 "metadata": {
  "kernelspec": {
   "display_name": "Python 2",
   "language": "python",
   "name": "python2"
  },
  "language_info": {
   "codemirror_mode": {
    "name": "ipython",
    "version": 2
   },
   "file_extension": ".py",
   "mimetype": "text/x-python",
   "name": "python",
   "nbconvert_exporter": "python",
   "pygments_lexer": "ipython2",
   "version": "2.7.15+"
  }
 },
 "nbformat": 4,
 "nbformat_minor": 2
}
